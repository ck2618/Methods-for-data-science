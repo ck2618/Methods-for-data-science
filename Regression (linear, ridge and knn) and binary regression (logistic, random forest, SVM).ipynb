{
 "cells": [
  {
   "cell_type": "markdown",
   "metadata": {},
   "source": [
    "# Methods for Data Science Coursework 1"
   ]
  },
  {
   "cell_type": "markdown",
   "metadata": {},
   "source": [
    "## Introdution"
   ]
  },
  {
   "cell_type": "markdown",
   "metadata": {},
   "source": [
    "In this coursework, we are going to run two main task:\n",
    "$$$$ - a regression task using a housing market dataset\n",
    "$$$$ - a binary classification task using a collection of credit applications\n",
    "\n",
    "We will accomplish these tasks using different methods and comparing the obtained results. "
   ]
  },
  {
   "cell_type": "markdown",
   "metadata": {},
   "source": [
    "## 1 Regression"
   ]
  },
  {
   "cell_type": "markdown",
   "metadata": {},
   "source": [
    "The first regression task uses 17 features of a collection of households as predictors to predict the target variable: the meadian value of owner-occupied homes. Let's have a look at the given data and run a brief exploratory data analysis."
   ]
  },
  {
   "cell_type": "markdown",
   "metadata": {},
   "source": [
    "First, we import the python tools we are going to need to work with the data."
   ]
  },
  {
   "cell_type": "code",
   "execution_count": 2087,
   "metadata": {},
   "outputs": [],
   "source": [
    "import numpy as np\n",
    "import pandas as pd\n",
    "import matplotlib.pyplot as plt\n",
    "import math\n",
    "import random"
   ]
  },
  {
   "cell_type": "markdown",
   "metadata": {},
   "source": [
    "Next, lets import the files in order to have a first look at the data and its configuration. The first column of the data set corresponds to the bias term equal to 1, such that our data is augmented, the last column is our target value and the rest of the columns are the predictors."
   ]
  },
  {
   "cell_type": "code",
   "execution_count": 2088,
   "metadata": {},
   "outputs": [
    {
     "data": {
      "text/html": [
       "<div>\n",
       "<style scoped>\n",
       "    .dataframe tbody tr th:only-of-type {\n",
       "        vertical-align: middle;\n",
       "    }\n",
       "\n",
       "    .dataframe tbody tr th {\n",
       "        vertical-align: top;\n",
       "    }\n",
       "\n",
       "    .dataframe thead th {\n",
       "        text-align: right;\n",
       "    }\n",
       "</style>\n",
       "<table border=\"1\" class=\"dataframe\">\n",
       "  <thead>\n",
       "    <tr style=\"text-align: right;\">\n",
       "      <th></th>\n",
       "      <th>0</th>\n",
       "      <th>1</th>\n",
       "      <th>2</th>\n",
       "      <th>3</th>\n",
       "      <th>4</th>\n",
       "      <th>5</th>\n",
       "      <th>6</th>\n",
       "      <th>7</th>\n",
       "      <th>8</th>\n",
       "      <th>9</th>\n",
       "      <th>10</th>\n",
       "      <th>11</th>\n",
       "      <th>12</th>\n",
       "      <th>13</th>\n",
       "      <th>14</th>\n",
       "      <th>15</th>\n",
       "      <th>16</th>\n",
       "      <th>17</th>\n",
       "      <th>18</th>\n",
       "    </tr>\n",
       "  </thead>\n",
       "  <tbody>\n",
       "    <tr>\n",
       "      <th>0</th>\n",
       "      <td>1.0</td>\n",
       "      <td>-0.413</td>\n",
       "      <td>-0.488</td>\n",
       "      <td>0.116</td>\n",
       "      <td>0.116</td>\n",
       "      <td>0.1580</td>\n",
       "      <td>0.985</td>\n",
       "      <td>0.797</td>\n",
       "      <td>-0.774</td>\n",
       "      <td>0.985</td>\n",
       "      <td>-0.8030</td>\n",
       "      <td>1.180</td>\n",
       "      <td>0.4410</td>\n",
       "      <td>-0.9830</td>\n",
       "      <td>0.1580</td>\n",
       "      <td>1.180</td>\n",
       "      <td>-0.488</td>\n",
       "      <td>-0.774</td>\n",
       "      <td>23.9</td>\n",
       "    </tr>\n",
       "    <tr>\n",
       "      <th>1</th>\n",
       "      <td>1.0</td>\n",
       "      <td>-0.413</td>\n",
       "      <td>-0.488</td>\n",
       "      <td>-1.030</td>\n",
       "      <td>-1.030</td>\n",
       "      <td>-0.3860</td>\n",
       "      <td>0.820</td>\n",
       "      <td>0.207</td>\n",
       "      <td>-0.418</td>\n",
       "      <td>0.820</td>\n",
       "      <td>-0.6670</td>\n",
       "      <td>-0.858</td>\n",
       "      <td>0.3790</td>\n",
       "      <td>-0.8040</td>\n",
       "      <td>-0.3860</td>\n",
       "      <td>-0.858</td>\n",
       "      <td>-0.488</td>\n",
       "      <td>-0.418</td>\n",
       "      <td>29.9</td>\n",
       "    </tr>\n",
       "    <tr>\n",
       "      <th>2</th>\n",
       "      <td>1.0</td>\n",
       "      <td>-0.388</td>\n",
       "      <td>-0.488</td>\n",
       "      <td>-0.211</td>\n",
       "      <td>-0.211</td>\n",
       "      <td>0.2620</td>\n",
       "      <td>-0.511</td>\n",
       "      <td>-0.924</td>\n",
       "      <td>-0.672</td>\n",
       "      <td>-0.511</td>\n",
       "      <td>-0.1020</td>\n",
       "      <td>0.344</td>\n",
       "      <td>0.4410</td>\n",
       "      <td>0.1310</td>\n",
       "      <td>0.2620</td>\n",
       "      <td>0.344</td>\n",
       "      <td>-0.488</td>\n",
       "      <td>-0.672</td>\n",
       "      <td>24.5</td>\n",
       "    </tr>\n",
       "    <tr>\n",
       "      <th>3</th>\n",
       "      <td>1.0</td>\n",
       "      <td>-0.348</td>\n",
       "      <td>-0.488</td>\n",
       "      <td>-0.720</td>\n",
       "      <td>-0.720</td>\n",
       "      <td>-0.4120</td>\n",
       "      <td>0.847</td>\n",
       "      <td>0.324</td>\n",
       "      <td>-0.249</td>\n",
       "      <td>0.847</td>\n",
       "      <td>-0.6010</td>\n",
       "      <td>-0.488</td>\n",
       "      <td>0.3700</td>\n",
       "      <td>-0.3820</td>\n",
       "      <td>-0.4120</td>\n",
       "      <td>-0.488</td>\n",
       "      <td>-0.488</td>\n",
       "      <td>-0.249</td>\n",
       "      <td>27.5</td>\n",
       "    </tr>\n",
       "    <tr>\n",
       "      <th>4</th>\n",
       "      <td>1.0</td>\n",
       "      <td>-0.331</td>\n",
       "      <td>-0.488</td>\n",
       "      <td>-0.437</td>\n",
       "      <td>-0.437</td>\n",
       "      <td>-0.1440</td>\n",
       "      <td>0.300</td>\n",
       "      <td>0.918</td>\n",
       "      <td>0.314</td>\n",
       "      <td>0.300</td>\n",
       "      <td>-0.6010</td>\n",
       "      <td>1.180</td>\n",
       "      <td>0.3430</td>\n",
       "      <td>0.0206</td>\n",
       "      <td>-0.1440</td>\n",
       "      <td>1.180</td>\n",
       "      <td>-0.488</td>\n",
       "      <td>0.314</td>\n",
       "      <td>18.4</td>\n",
       "    </tr>\n",
       "    <tr>\n",
       "      <th>5</th>\n",
       "      <td>1.0</td>\n",
       "      <td>0.371</td>\n",
       "      <td>-0.488</td>\n",
       "      <td>1.020</td>\n",
       "      <td>1.020</td>\n",
       "      <td>1.3700</td>\n",
       "      <td>-0.290</td>\n",
       "      <td>0.563</td>\n",
       "      <td>-0.512</td>\n",
       "      <td>-0.290</td>\n",
       "      <td>1.5300</td>\n",
       "      <td>0.807</td>\n",
       "      <td>0.4410</td>\n",
       "      <td>0.2870</td>\n",
       "      <td>1.3700</td>\n",
       "      <td>0.807</td>\n",
       "      <td>-0.488</td>\n",
       "      <td>-0.512</td>\n",
       "      <td>20.0</td>\n",
       "    </tr>\n",
       "    <tr>\n",
       "      <th>6</th>\n",
       "      <td>1.0</td>\n",
       "      <td>-0.400</td>\n",
       "      <td>-0.488</td>\n",
       "      <td>-0.211</td>\n",
       "      <td>-0.211</td>\n",
       "      <td>0.2620</td>\n",
       "      <td>-0.823</td>\n",
       "      <td>-0.518</td>\n",
       "      <td>-0.672</td>\n",
       "      <td>-0.823</td>\n",
       "      <td>-0.1020</td>\n",
       "      <td>0.344</td>\n",
       "      <td>0.4410</td>\n",
       "      <td>-0.0901</td>\n",
       "      <td>0.2620</td>\n",
       "      <td>0.344</td>\n",
       "      <td>-0.488</td>\n",
       "      <td>-0.672</td>\n",
       "      <td>21.8</td>\n",
       "    </tr>\n",
       "    <tr>\n",
       "      <th>7</th>\n",
       "      <td>1.0</td>\n",
       "      <td>-0.417</td>\n",
       "      <td>-0.488</td>\n",
       "      <td>-0.868</td>\n",
       "      <td>-0.868</td>\n",
       "      <td>-0.3430</td>\n",
       "      <td>-0.555</td>\n",
       "      <td>-0.319</td>\n",
       "      <td>0.865</td>\n",
       "      <td>-0.555</td>\n",
       "      <td>-1.0900</td>\n",
       "      <td>0.807</td>\n",
       "      <td>0.4180</td>\n",
       "      <td>-0.2930</td>\n",
       "      <td>-0.3430</td>\n",
       "      <td>0.807</td>\n",
       "      <td>-0.488</td>\n",
       "      <td>0.865</td>\n",
       "      <td>18.5</td>\n",
       "    </tr>\n",
       "    <tr>\n",
       "      <th>8</th>\n",
       "      <td>1.0</td>\n",
       "      <td>-0.392</td>\n",
       "      <td>-0.488</td>\n",
       "      <td>-0.548</td>\n",
       "      <td>-0.548</td>\n",
       "      <td>-0.5330</td>\n",
       "      <td>-0.287</td>\n",
       "      <td>-0.885</td>\n",
       "      <td>0.771</td>\n",
       "      <td>-0.288</td>\n",
       "      <td>-0.7200</td>\n",
       "      <td>0.529</td>\n",
       "      <td>0.4410</td>\n",
       "      <td>0.0192</td>\n",
       "      <td>-0.5330</td>\n",
       "      <td>0.529</td>\n",
       "      <td>-0.488</td>\n",
       "      <td>0.771</td>\n",
       "      <td>22.2</td>\n",
       "    </tr>\n",
       "    <tr>\n",
       "      <th>9</th>\n",
       "      <td>1.0</td>\n",
       "      <td>-0.278</td>\n",
       "      <td>-0.488</td>\n",
       "      <td>1.230</td>\n",
       "      <td>1.230</td>\n",
       "      <td>0.4350</td>\n",
       "      <td>0.938</td>\n",
       "      <td>1.030</td>\n",
       "      <td>-0.912</td>\n",
       "      <td>0.938</td>\n",
       "      <td>-0.0311</td>\n",
       "      <td>-1.740</td>\n",
       "      <td>0.0741</td>\n",
       "      <td>-1.1300</td>\n",
       "      <td>0.4350</td>\n",
       "      <td>-1.740</td>\n",
       "      <td>-0.488</td>\n",
       "      <td>-0.912</td>\n",
       "      <td>41.3</td>\n",
       "    </tr>\n",
       "    <tr>\n",
       "      <th>10</th>\n",
       "      <td>1.0</td>\n",
       "      <td>-0.404</td>\n",
       "      <td>-0.488</td>\n",
       "      <td>-0.164</td>\n",
       "      <td>-0.164</td>\n",
       "      <td>-0.0665</td>\n",
       "      <td>-0.789</td>\n",
       "      <td>-0.120</td>\n",
       "      <td>-0.492</td>\n",
       "      <td>-0.789</td>\n",
       "      <td>0.1410</td>\n",
       "      <td>-0.303</td>\n",
       "      <td>0.3820</td>\n",
       "      <td>0.1340</td>\n",
       "      <td>-0.0665</td>\n",
       "      <td>-0.303</td>\n",
       "      <td>-0.488</td>\n",
       "      <td>-0.492</td>\n",
       "      <td>19.3</td>\n",
       "    </tr>\n",
       "  </tbody>\n",
       "</table>\n",
       "</div>"
      ],
      "text/plain": [
       "      0      1      2      3      4       5      6      7      8      9  \\\n",
       "0   1.0 -0.413 -0.488  0.116  0.116  0.1580  0.985  0.797 -0.774  0.985   \n",
       "1   1.0 -0.413 -0.488 -1.030 -1.030 -0.3860  0.820  0.207 -0.418  0.820   \n",
       "2   1.0 -0.388 -0.488 -0.211 -0.211  0.2620 -0.511 -0.924 -0.672 -0.511   \n",
       "3   1.0 -0.348 -0.488 -0.720 -0.720 -0.4120  0.847  0.324 -0.249  0.847   \n",
       "4   1.0 -0.331 -0.488 -0.437 -0.437 -0.1440  0.300  0.918  0.314  0.300   \n",
       "5   1.0  0.371 -0.488  1.020  1.020  1.3700 -0.290  0.563 -0.512 -0.290   \n",
       "6   1.0 -0.400 -0.488 -0.211 -0.211  0.2620 -0.823 -0.518 -0.672 -0.823   \n",
       "7   1.0 -0.417 -0.488 -0.868 -0.868 -0.3430 -0.555 -0.319  0.865 -0.555   \n",
       "8   1.0 -0.392 -0.488 -0.548 -0.548 -0.5330 -0.287 -0.885  0.771 -0.288   \n",
       "9   1.0 -0.278 -0.488  1.230  1.230  0.4350  0.938  1.030 -0.912  0.938   \n",
       "10  1.0 -0.404 -0.488 -0.164 -0.164 -0.0665 -0.789 -0.120 -0.492 -0.789   \n",
       "\n",
       "        10     11      12      13      14     15     16     17    18  \n",
       "0  -0.8030  1.180  0.4410 -0.9830  0.1580  1.180 -0.488 -0.774  23.9  \n",
       "1  -0.6670 -0.858  0.3790 -0.8040 -0.3860 -0.858 -0.488 -0.418  29.9  \n",
       "2  -0.1020  0.344  0.4410  0.1310  0.2620  0.344 -0.488 -0.672  24.5  \n",
       "3  -0.6010 -0.488  0.3700 -0.3820 -0.4120 -0.488 -0.488 -0.249  27.5  \n",
       "4  -0.6010  1.180  0.3430  0.0206 -0.1440  1.180 -0.488  0.314  18.4  \n",
       "5   1.5300  0.807  0.4410  0.2870  1.3700  0.807 -0.488 -0.512  20.0  \n",
       "6  -0.1020  0.344  0.4410 -0.0901  0.2620  0.344 -0.488 -0.672  21.8  \n",
       "7  -1.0900  0.807  0.4180 -0.2930 -0.3430  0.807 -0.488  0.865  18.5  \n",
       "8  -0.7200  0.529  0.4410  0.0192 -0.5330  0.529 -0.488  0.771  22.2  \n",
       "9  -0.0311 -1.740  0.0741 -1.1300  0.4350 -1.740 -0.488 -0.912  41.3  \n",
       "10  0.1410 -0.303  0.3820  0.1340 -0.0665 -0.303 -0.488 -0.492  19.3  "
      ]
     },
     "execution_count": 2088,
     "metadata": {},
     "output_type": "execute_result"
    }
   ],
   "source": [
    "regression_train = pd.read_csv (r'/Users/camillekeisser/Documents/IMPERIAL/YEAR 3/Data Science/Coursework 1/regression_train.csv')\n",
    "regression_train.head(11)"
   ]
  },
  {
   "cell_type": "markdown",
   "metadata": {},
   "source": [
    "As with any other supervised machine learning method, we create a train and test set to learn and evaluate our model, respectively. We split our two datasets into X_tain, X_test (17 predictors) and y_train, y_test (target value)."
   ]
  },
  {
   "cell_type": "code",
   "execution_count": 2089,
   "metadata": {
    "scrolled": true
   },
   "outputs": [],
   "source": [
    "y_train=regression_train[['18']] #y is the last columns\n",
    "X_train=pd.DataFrame(regression_train.drop(['18'],axis=1)) #X is the augmented data\n",
    "#converting dataframes into numpy arrays\n",
    "X_train=X_train.values\n",
    "y_train=y_train.values"
   ]
  },
  {
   "cell_type": "code",
   "execution_count": 2090,
   "metadata": {},
   "outputs": [],
   "source": [
    "regression_test = pd.read_csv (r'/Users/camillekeisser/Documents/IMPERIAL/YEAR 3/Data Science/Coursework 1/regression_test.csv')\n",
    "y_test=regression_test[['18']]\n",
    "X_test=pd.DataFrame(regression_test.drop(['18'],axis=1))\n",
    "#converting dataframes into numpy arrays\n",
    "X_test=X_test.values\n",
    "y_test=y_test.values"
   ]
  },
  {
   "cell_type": "markdown",
   "metadata": {},
   "source": [
    "Before anaysing the data, we are going to standardise the predictors to get more accurate results."
   ]
  },
  {
   "cell_type": "code",
   "execution_count": 2091,
   "metadata": {},
   "outputs": [],
   "source": [
    "#standardise the data column per column\n",
    "def standardise(X):\n",
    "    N,D=X.shape\n",
    "    mu = np.mean(X, 0)\n",
    "    sigma = np.std(X, 0)\n",
    "    X_std= (X - mu) / sigma\n",
    "    return X_std"
   ]
  },
  {
   "cell_type": "markdown",
   "metadata": {},
   "source": [
    "Let's standardise our data now: the test data is standardised according to the training data such that the model fits the test data the same way it fits the training data. "
   ]
  },
  {
   "cell_type": "code",
   "execution_count": 2092,
   "metadata": {},
   "outputs": [],
   "source": [
    "#standardise excluding the column of 1s\n",
    "X_train[:,1:]=standardise(X_train[:,1:]) \n",
    "mu = np.mean(X_train[:,1:], 0)\n",
    "sigma = np.std(X_train[:,1:], 0)\n",
    "X_test[:,1:] = (X_test[:,1:] - mu) / sigma #standardise excluding the column of 1s"
   ]
  },
  {
   "cell_type": "markdown",
   "metadata": {},
   "source": [
    "We can check that our data is well standardised, expecting the `.describe()` function to give mean close to 0 and standard deviation close to 1, for each predictor. "
   ]
  },
  {
   "cell_type": "code",
   "execution_count": 2093,
   "metadata": {},
   "outputs": [
    {
     "data": {
      "text/html": [
       "<div>\n",
       "<style scoped>\n",
       "    .dataframe tbody tr th:only-of-type {\n",
       "        vertical-align: middle;\n",
       "    }\n",
       "\n",
       "    .dataframe tbody tr th {\n",
       "        vertical-align: top;\n",
       "    }\n",
       "\n",
       "    .dataframe thead th {\n",
       "        text-align: right;\n",
       "    }\n",
       "</style>\n",
       "<table border=\"1\" class=\"dataframe\">\n",
       "  <thead>\n",
       "    <tr style=\"text-align: right;\">\n",
       "      <th></th>\n",
       "      <th>0</th>\n",
       "      <th>1</th>\n",
       "      <th>2</th>\n",
       "      <th>3</th>\n",
       "      <th>4</th>\n",
       "      <th>5</th>\n",
       "      <th>6</th>\n",
       "      <th>7</th>\n",
       "      <th>8</th>\n",
       "      <th>9</th>\n",
       "      <th>10</th>\n",
       "      <th>11</th>\n",
       "      <th>12</th>\n",
       "      <th>13</th>\n",
       "      <th>14</th>\n",
       "      <th>15</th>\n",
       "      <th>16</th>\n",
       "      <th>17</th>\n",
       "    </tr>\n",
       "  </thead>\n",
       "  <tbody>\n",
       "    <tr>\n",
       "      <th>mean</th>\n",
       "      <td>1.0</td>\n",
       "      <td>-3.462577e-17</td>\n",
       "      <td>1.588388e-16</td>\n",
       "      <td>9.796894e-17</td>\n",
       "      <td>9.796894e-17</td>\n",
       "      <td>-2.912961e-17</td>\n",
       "      <td>3.022884e-17</td>\n",
       "      <td>1.319077e-17</td>\n",
       "      <td>-1.044269e-17</td>\n",
       "      <td>8.793846e-18</td>\n",
       "      <td>3.847308e-18</td>\n",
       "      <td>-1.277856e-17</td>\n",
       "      <td>-2.366781e-17</td>\n",
       "      <td>-1.319077e-17</td>\n",
       "      <td>-2.912961e-17</td>\n",
       "      <td>-4.153031e-17</td>\n",
       "      <td>1.588388e-16</td>\n",
       "      <td>4.465625e-18</td>\n",
       "    </tr>\n",
       "    <tr>\n",
       "      <th>std</th>\n",
       "      <td>0.0</td>\n",
       "      <td>1.001240e+00</td>\n",
       "      <td>1.001240e+00</td>\n",
       "      <td>1.001240e+00</td>\n",
       "      <td>1.001240e+00</td>\n",
       "      <td>1.001240e+00</td>\n",
       "      <td>1.001240e+00</td>\n",
       "      <td>1.001240e+00</td>\n",
       "      <td>1.001240e+00</td>\n",
       "      <td>1.001240e+00</td>\n",
       "      <td>1.001240e+00</td>\n",
       "      <td>1.001240e+00</td>\n",
       "      <td>1.001240e+00</td>\n",
       "      <td>1.001240e+00</td>\n",
       "      <td>1.001240e+00</td>\n",
       "      <td>1.001240e+00</td>\n",
       "      <td>1.001240e+00</td>\n",
       "      <td>1.001240e+00</td>\n",
       "    </tr>\n",
       "  </tbody>\n",
       "</table>\n",
       "</div>"
      ],
      "text/plain": [
       "       0             1             2             3             4   \\\n",
       "mean  1.0 -3.462577e-17  1.588388e-16  9.796894e-17  9.796894e-17   \n",
       "std   0.0  1.001240e+00  1.001240e+00  1.001240e+00  1.001240e+00   \n",
       "\n",
       "                5             6             7             8             9   \\\n",
       "mean -2.912961e-17  3.022884e-17  1.319077e-17 -1.044269e-17  8.793846e-18   \n",
       "std   1.001240e+00  1.001240e+00  1.001240e+00  1.001240e+00  1.001240e+00   \n",
       "\n",
       "                10            11            12            13            14  \\\n",
       "mean  3.847308e-18 -1.277856e-17 -2.366781e-17 -1.319077e-17 -2.912961e-17   \n",
       "std   1.001240e+00  1.001240e+00  1.001240e+00  1.001240e+00  1.001240e+00   \n",
       "\n",
       "                15            16            17  \n",
       "mean -4.153031e-17  1.588388e-16  4.465625e-18  \n",
       "std   1.001240e+00  1.001240e+00  1.001240e+00  "
      ]
     },
     "execution_count": 2093,
     "metadata": {},
     "output_type": "execute_result"
    }
   ],
   "source": [
    "pd.DataFrame(X_train).describe().head(3).tail(2)"
   ]
  },
  {
   "cell_type": "code",
   "execution_count": 2094,
   "metadata": {},
   "outputs": [
    {
     "data": {
      "text/html": [
       "<div>\n",
       "<style scoped>\n",
       "    .dataframe tbody tr th:only-of-type {\n",
       "        vertical-align: middle;\n",
       "    }\n",
       "\n",
       "    .dataframe tbody tr th {\n",
       "        vertical-align: top;\n",
       "    }\n",
       "\n",
       "    .dataframe thead th {\n",
       "        text-align: right;\n",
       "    }\n",
       "</style>\n",
       "<table border=\"1\" class=\"dataframe\">\n",
       "  <thead>\n",
       "    <tr style=\"text-align: right;\">\n",
       "      <th></th>\n",
       "      <th>0</th>\n",
       "      <th>1</th>\n",
       "      <th>2</th>\n",
       "      <th>3</th>\n",
       "      <th>4</th>\n",
       "      <th>5</th>\n",
       "      <th>6</th>\n",
       "      <th>7</th>\n",
       "      <th>8</th>\n",
       "      <th>9</th>\n",
       "      <th>10</th>\n",
       "      <th>11</th>\n",
       "      <th>12</th>\n",
       "      <th>13</th>\n",
       "      <th>14</th>\n",
       "      <th>15</th>\n",
       "      <th>16</th>\n",
       "      <th>17</th>\n",
       "    </tr>\n",
       "  </thead>\n",
       "  <tbody>\n",
       "    <tr>\n",
       "      <th>mean</th>\n",
       "      <td>1.0</td>\n",
       "      <td>0.028679</td>\n",
       "      <td>-0.227604</td>\n",
       "      <td>0.202661</td>\n",
       "      <td>0.202661</td>\n",
       "      <td>0.153999</td>\n",
       "      <td>-0.216775</td>\n",
       "      <td>0.21661</td>\n",
       "      <td>-0.125405</td>\n",
       "      <td>-0.216775</td>\n",
       "      <td>0.164995</td>\n",
       "      <td>0.195484</td>\n",
       "      <td>-0.107752</td>\n",
       "      <td>0.176905</td>\n",
       "      <td>0.153999</td>\n",
       "      <td>0.195475</td>\n",
       "      <td>-0.227604</td>\n",
       "      <td>-0.125385</td>\n",
       "    </tr>\n",
       "    <tr>\n",
       "      <th>std</th>\n",
       "      <td>0.0</td>\n",
       "      <td>0.852144</td>\n",
       "      <td>0.636234</td>\n",
       "      <td>0.971752</td>\n",
       "      <td>0.971752</td>\n",
       "      <td>1.040300</td>\n",
       "      <td>0.965936</td>\n",
       "      <td>0.96258</td>\n",
       "      <td>0.922040</td>\n",
       "      <td>0.965934</td>\n",
       "      <td>1.038157</td>\n",
       "      <td>0.881732</td>\n",
       "      <td>1.175577</td>\n",
       "      <td>1.013787</td>\n",
       "      <td>1.040300</td>\n",
       "      <td>0.881731</td>\n",
       "      <td>0.636234</td>\n",
       "      <td>0.922016</td>\n",
       "    </tr>\n",
       "  </tbody>\n",
       "</table>\n",
       "</div>"
      ],
      "text/plain": [
       "       0         1         2         3         4         5         6   \\\n",
       "mean  1.0  0.028679 -0.227604  0.202661  0.202661  0.153999 -0.216775   \n",
       "std   0.0  0.852144  0.636234  0.971752  0.971752  1.040300  0.965936   \n",
       "\n",
       "           7         8         9         10        11        12        13  \\\n",
       "mean  0.21661 -0.125405 -0.216775  0.164995  0.195484 -0.107752  0.176905   \n",
       "std   0.96258  0.922040  0.965934  1.038157  0.881732  1.175577  1.013787   \n",
       "\n",
       "            14        15        16        17  \n",
       "mean  0.153999  0.195475 -0.227604 -0.125385  \n",
       "std   1.040300  0.881731  0.636234  0.922016  "
      ]
     },
     "execution_count": 2094,
     "metadata": {},
     "output_type": "execute_result"
    }
   ],
   "source": [
    "pd.DataFrame(X_test).describe().head(3).tail(2)"
   ]
  },
  {
   "cell_type": "markdown",
   "metadata": {},
   "source": [
    "The data is finally ready to be used for regression to predict the target values. We will compare the results of 3 different model: Linear regression, Ridge regression and Regression with k nearest neighbours. All 3 models will be trained using the training data and tested on the test data. To compare the models we will compare their respective in-sample mean squared error (MSE) from the training data and the out-sample MSE from the testing data). "
   ]
  },
  {
   "cell_type": "markdown",
   "metadata": {},
   "source": [
    "### 1.1 Linear regression"
   ]
  },
  {
   "cell_type": "markdown",
   "metadata": {},
   "source": [
    "#### 1.1.1"
   ]
  },
  {
   "cell_type": "markdown",
   "metadata": {},
   "source": [
    "We consider our problem to be a linear regression problem of the form:\n",
    "$$\n",
    "y_i = \\boldsymbol x_i^T\\boldsymbol\\beta + \\epsilon_i\\,,\\quad \\epsilon_i \\sim \\mathcal N(0, \\sigma^2)\n",
    "$$\n",
    "where $\\boldsymbol x_i \\in\\mathbb{R}^{18}$ are the inputs of the predictors and $y_i \\in\\mathbb{R}$ is the noisy target variable (for one observation i). The parameter vector $\\boldsymbol\\beta\\in\\mathbb{R}^{18}$ parametrizes the function and will define our linear regression model.\n",
    "\n",
    "This equation can be extended to our entire training set $(\\boldsymbol x_n, y_n)$, $n=1,\\ldots, N$, using the following matrix-vector formulation:\n",
    "$$ \n",
    "\\mathrm{y\\_train} = \\mathrm{X\\_train} \\cdot \\boldsymbol\\beta\n",
    "$$\n",
    "where X\\_train is our data of predictors and corresponding training targets y\\_train, respectively.\n",
    "\n",
    "The objective is to find our optimal vector of parameters $\\boldsymbol \\beta^{*}$, by minimising the following Least Squares loss function:\n",
    "$$\n",
    "\\underset{\\boldsymbol\\beta}{\\text{min}} \\ \\text{L}_{\\text{LS}} (\\boldsymbol\\beta) = \\mathrm{min}_{\\beta} \\mathrm{L}_{\\mathrm{LS}}(\\beta)\n",
    "$$\n",
    "From our lectures, we know that the least squares solution is the otpimal parameters $\\boldsymbol\\beta^{*}$, as below:\n",
    "$$\n",
    "\\boldsymbol\\beta^{*} = (\\boldsymbol X^T\\boldsymbol X)^{-1}\\boldsymbol X^T\\boldsymbol y\\in\\mathbb{R}^{18}\\,.\n",
    "$$\n",
    "\n",
    "We will apply this formulation to our training set, using this next function."
   ]
  },
  {
   "cell_type": "code",
   "execution_count": 2054,
   "metadata": {},
   "outputs": [],
   "source": [
    "#Least squares solution\n",
    "def ls_estimate(X, y):\n",
    "    N, D = X.shape\n",
    "    beta_ml = np.linalg.solve(X.T @ X, X.T @ y) #from lecture notes\n",
    "    return beta_ml"
   ]
  },
  {
   "cell_type": "markdown",
   "metadata": {},
   "source": [
    "This least squares solution is the vector of parameters of the linear regression model, given by:"
   ]
  },
  {
   "cell_type": "code",
   "execution_count": 2055,
   "metadata": {},
   "outputs": [
    {
     "data": {
      "text/html": [
       "<div>\n",
       "<style scoped>\n",
       "    .dataframe tbody tr th:only-of-type {\n",
       "        vertical-align: middle;\n",
       "    }\n",
       "\n",
       "    .dataframe tbody tr th {\n",
       "        vertical-align: top;\n",
       "    }\n",
       "\n",
       "    .dataframe thead th {\n",
       "        text-align: right;\n",
       "    }\n",
       "</style>\n",
       "<table border=\"1\" class=\"dataframe\">\n",
       "  <thead>\n",
       "    <tr style=\"text-align: right;\">\n",
       "      <th></th>\n",
       "      <th>0</th>\n",
       "      <th>1</th>\n",
       "      <th>2</th>\n",
       "      <th>3</th>\n",
       "      <th>4</th>\n",
       "      <th>5</th>\n",
       "      <th>6</th>\n",
       "      <th>7</th>\n",
       "      <th>8</th>\n",
       "      <th>9</th>\n",
       "      <th>10</th>\n",
       "      <th>11</th>\n",
       "      <th>12</th>\n",
       "      <th>13</th>\n",
       "      <th>14</th>\n",
       "      <th>15</th>\n",
       "      <th>16</th>\n",
       "      <th>17</th>\n",
       "    </tr>\n",
       "  </thead>\n",
       "  <tbody>\n",
       "    <tr>\n",
       "      <th>0</th>\n",
       "      <td>23.018564</td>\n",
       "      <td>-0.567595</td>\n",
       "      <td>4.990858e+09</td>\n",
       "      <td>1.645330e+09</td>\n",
       "      <td>-1.645330e+09</td>\n",
       "      <td>-2.649212</td>\n",
       "      <td>-677.107513</td>\n",
       "      <td>-0.077803</td>\n",
       "      <td>-491.881262</td>\n",
       "      <td>680.317327</td>\n",
       "      <td>0.059318</td>\n",
       "      <td>-2.48789</td>\n",
       "      <td>0.906091</td>\n",
       "      <td>-3.565975</td>\n",
       "      <td>0.976744</td>\n",
       "      <td>0.716156</td>\n",
       "      <td>-4.990858e+09</td>\n",
       "      <td>488.375616</td>\n",
       "    </tr>\n",
       "  </tbody>\n",
       "</table>\n",
       "</div>"
      ],
      "text/plain": [
       "          0         1             2             3             4         5   \\\n",
       "0  23.018564 -0.567595  4.990858e+09  1.645330e+09 -1.645330e+09 -2.649212   \n",
       "\n",
       "           6         7           8           9         10       11        12  \\\n",
       "0 -677.107513 -0.077803 -491.881262  680.317327  0.059318 -2.48789  0.906091   \n",
       "\n",
       "         13        14        15            16          17  \n",
       "0 -3.565975  0.976744  0.716156 -4.990858e+09  488.375616  "
      ]
     },
     "execution_count": 2055,
     "metadata": {},
     "output_type": "execute_result"
    }
   ],
   "source": [
    "beta_ls=ls_estimate(X_train, y_train)\n",
    "pd.DataFrame(beta_ls.T)"
   ]
  },
  {
   "cell_type": "markdown",
   "metadata": {},
   "source": [
    "We can now predict a set of target vectors given the parameters $\\boldsymbol \\beta$ and the data $\\boldsymbol X$, by:\n",
    "$$\n",
    "\\boldsymbol y_{pred} = \\boldsymbol X \\cdot \\boldsymbol \\beta\n",
    "$$"
   ]
  },
  {
   "cell_type": "code",
   "execution_count": 2056,
   "metadata": {},
   "outputs": [],
   "source": [
    "def predict_beta(X,y,beta):\n",
    "    y_pred=X@beta #predict y\n",
    "    return y_pred"
   ]
  },
  {
   "cell_type": "markdown",
   "metadata": {},
   "source": [
    "##### In-sample MSE "
   ]
  },
  {
   "cell_type": "markdown",
   "metadata": {},
   "source": [
    "Now, to evaluate the quality of the fit of our linear regression model with our training data, we can use the in-sample MSE, given by:\n",
    "$$\n",
    "MSE(\\beta^{*}) = \\frac{1}{N} \\underset{i=1}{\\sum}^{N} \\boldsymbol e^{T} \\cdot \\boldsymbol e = \\frac{1}{N} \\underset{i=1}{\\sum}^{N} (\\boldsymbol y_{pred} - \\boldsymbol y)^{T} \\cdot (\\boldsymbol y_{pred} - \\boldsymbol y)\n",
    "$$\n",
    "where $\\boldsymbol e = \\boldsymbol y_{pred} - \\boldsymbol y$ is the vector of residuals, quantifying the error of fit."
   ]
  },
  {
   "cell_type": "code",
   "execution_count": 2057,
   "metadata": {},
   "outputs": [],
   "source": [
    "#Mean square error\n",
    "def MSE(X, y, beta):\n",
    "    N, D = X.shape\n",
    "    e = y-X@beta #residual\n",
    "    mse = 1/N * e.T@e #from lecture notes\n",
    "    return mse"
   ]
  },
  {
   "cell_type": "code",
   "execution_count": 2058,
   "metadata": {},
   "outputs": [
    {
     "data": {
      "text/plain": [
       "array([[23.89871145]])"
      ]
     },
     "execution_count": 2058,
     "metadata": {},
     "output_type": "execute_result"
    }
   ],
   "source": [
    "mse_in=MSE(X_train,y_train,beta_ls)\n",
    "mse_in"
   ]
  },
  {
   "cell_type": "markdown",
   "metadata": {},
   "source": [
    "We will interpret this value later on together with the out-sample MSE. To get a better insight of how the quality of the fit, we can plot the residuals with respect to the predicted values to understand where the biggest errors come from. "
   ]
  },
  {
   "cell_type": "code",
   "execution_count": 2059,
   "metadata": {},
   "outputs": [
    {
     "data": {
      "image/png": "[encoded data removed]",
      "text/plain": [
       "<Figure size 432x360 with 1 Axes>"
      ]
     },
     "metadata": {
      "needs_background": "light"
     },
     "output_type": "display_data"
    }
   ],
   "source": [
    "y_pred=predict_beta(X_train,y_train,beta_ls)\n",
    "e = y_train-y_pred #residual\n",
    "plt.figure(figsize=(6,5))\n",
    "plt.scatter(y_train,e)\n",
    "plt.xlabel('fitted values y')\n",
    "plt.ylabel('residual e = y_pred - y')\n",
    "plt.title('Residual plots of linear regression on training data', y=1.05, fontsize=18)\n",
    "plt.show()"
   ]
  },
  {
   "cell_type": "markdown",
   "metadata": {},
   "source": [
    "#### 1.1.2"
   ]
  },
  {
   "cell_type": "markdown",
   "metadata": {},
   "source": [
    "Now, to further estimate the quality of our linear regression model, we apply the same prediction and MSE formula to our test dataset, as below:"
   ]
  },
  {
   "cell_type": "code",
   "execution_count": 2060,
   "metadata": {},
   "outputs": [
    {
     "data": {
      "text/plain": [
       "array([[19.83789526]])"
      ]
     },
     "execution_count": 2060,
     "metadata": {},
     "output_type": "execute_result"
    }
   ],
   "source": [
    "#y_pred_test=predict_beta(X_test,y_test,beta_ls)\n",
    "mse_out=MSE(X_test,y_test,beta_ls)\n",
    "mse_out"
   ]
  },
  {
   "cell_type": "code",
   "execution_count": 2061,
   "metadata": {},
   "outputs": [
    {
     "data": {
      "image/png": "[encoded data removed]",
      "text/plain": [
       "<Figure size 432x360 with 1 Axes>"
      ]
     },
     "metadata": {
      "needs_background": "light"
     },
     "output_type": "display_data"
    }
   ],
   "source": [
    "y_pred_test=predict_beta(X_test,y_test,beta_ls)\n",
    "e_test = y_test-y_pred_test #residual\n",
    "plt.figure(figsize=(6,5))\n",
    "plt.scatter(y_test,e_test)\n",
    "plt.xlabel('fitted values y')\n",
    "plt.ylabel('residual e = y_pred - y')\n",
    "plt.title('Residual plots of linear regression on test data', y=1.05, fontsize=18)\n",
    "plt.show()"
   ]
  },
  {
   "cell_type": "markdown",
   "metadata": {},
   "source": [
    "###### Interpretation of in-sample and out-sample MSE\n",
    "Recall that the MSE evaluates the quality of $\\boldsymbol y_{pred}$, by:\n",
    "$$\n",
    "\\mathrm{MSE}(\\boldsymbol y_{pred}) = \\mathrm{Var}_{\\boldsymbol y}(\\boldsymbol y_{pred}) + \\mathrm{Bias}_{\\boldsymbol y}(\\boldsymbol y_{pred})^{2}\n",
    "$$\n",
    "where $\\mathrm{Bias}_{\\boldsymbol y}(\\boldsymbol y_{pred})^{2} = (\\boldsymbol X^T\\boldsymbol X)^{-1}(\\boldsymbol X^T\\boldsymbol X) \\beta^{*} - \\beta^{*} = 0$ for least squares solution $\\beta^{*}$. \n",
    "\n",
    "The MSE evaluates the quality of fit by getting a small variance and a good estimate. The ideal fit will give a MSE of zero, meaning that the model predicts outputs with perfect accuracy, but it is generally impossible. Therefore, the smaller the MSE (here the variance), the better the fit.\n",
    "\n",
    "We could expect, the in-sample MSE to be slightly smaller than the out-of-sample MSE, since our model has been constructed with the training dataset. However, we can notice that here, the in-sample MSE is indeed slightly larger than the out-of-sample MSE, which is not very coherent. There could be several hypothetical explanations fore this: the data is not clean enough (leading to noisy predictions) or the testing and training data has not been splitted the proper way (giving more noisy training data and less noisy testing data for example).\n",
    "\n",
    "We can also notice that both mses are quite high. The interpretation of the residual plots let's us think that large values of y are badly fitted (assoicated with large residual). This is specially the case for the target values of the training data.\n",
    "\n",
    "This suggests that the model can be improved, using ridge regression and / or regression by knn."
   ]
  },
  {
   "cell_type": "markdown",
   "metadata": {},
   "source": [
    "## 1.2 Ridge regression\n"
   ]
  },
  {
   "cell_type": "markdown",
   "metadata": {},
   "source": [
    "#### 1.1.2\n"
   ]
  },
  {
   "cell_type": "markdown",
   "metadata": {},
   "source": [
    "To improve the quality of the model, we introduce the ridge regression, which reduces the variance by improving the accuracy of fitted values.\n",
    "\n",
    "From our lectures, we know that ridge regression is an extension of linear regression with least squares problem. We add to the least squares loss function, a (usually small) positive penalty term $\\lambda$, giving the ridge loss function $\\text{L}_{\\text{ridge}}$ below:\n",
    "$$\n",
    "\\underset{\\boldsymbol\\beta}{\\text{min}} \\| y -  \\boldsymbol X \\boldsymbol\\beta \\|^2 + \\lambda \\| \\boldsymbol\\beta \\|^2 = \\underset{\\boldsymbol\\beta}{\\text{min}} \\ \\text{L}_{\\text{ridge}} (\\boldsymbol\\beta)\n",
    "$$\n",
    "Minimising the ridge loss function, gives the solution:\n",
    "$$\n",
    "\\boldsymbol\\beta^{*}_{\\text{ridge}} = (\\boldsymbol X^T\\boldsymbol X + \\lambda I)^{-1}\\boldsymbol X^T\\boldsymbol y \\, \n",
    "$$\n",
    "We notice that when $\\lambda=0$, this is simply the least squares solution.\n",
    "\n",
    "The penalty term is introduced here to act as weighter of the parameters, ie. the penalty term penalise the large values of $\\| \\beta \\|$ to avoid inaccurate predictions.  "
   ]
  },
  {
   "cell_type": "markdown",
   "metadata": {},
   "source": [
    "The next function applies the ridge parameter formula to our data, obtaining $\\beta^{*}_{\\mathrm{ridge}}$."
   ]
  },
  {
   "cell_type": "code",
   "execution_count": 2153,
   "metadata": {},
   "outputs": [],
   "source": [
    "#ridge solution\n",
    "def ridge_param(X, y, penalty):\n",
    "    N, D = X.shape\n",
    "    beta_ri = np.linalg.solve(X.T @ X + penalty*np.eye(D), X.T @ y) #from lecture notes\n",
    "    return beta_ri"
   ]
  },
  {
   "cell_type": "markdown",
   "metadata": {},
   "source": [
    "Now, the task is to use a 5-fold cross-validation algorithm to tune the ridge model. The aim of this is to construct 5 sample of training data and test data, only from the original training data. We will proceed to the 5-fold cross-validation. First, we split the training data into 5 folds and 5 validation set: for each fold, the validation set acts like a test data, and we use 5 of them to get a better tune of the ridge model. "
   ]
  },
  {
   "cell_type": "markdown",
   "metadata": {},
   "source": [
    "Then for each fold and validation set:\n",
    "- step (1) train several models with different penalty terms over a range of penalty terms \n",
    "- step (2) calculate the out-of-sample MSE for each ridge regression model obtained\n",
    "- step (3) chose the penalty term leading to the smallest out-of-sample MSE: this is an estimation of the optimal $\\lambda^{*}$"
   ]
  },
  {
   "cell_type": "markdown",
   "metadata": {},
   "source": [
    "Indeed, a crucial step to improve the model results is to find the optimal penalty term $\\lambda^{*}$. The function above, solves this optimisation problem by chosing the penalty term giving the lowest out-of-sample MSE."
   ]
  },
  {
   "cell_type": "code",
   "execution_count": 2154,
   "metadata": {},
   "outputs": [],
   "source": [
    "def find_penalty(penalty_terms,X,y,X_test,y_test):\n",
    "    mses_ri = np.zeros((len(penalty_terms),1))\n",
    "    betas_ri=np.zeros((18,len(penalty_terms)))\n",
    "    \n",
    "    for i in range(len(penalty_terms)):\n",
    "        penalty=penalty_terms[i]\n",
    "        beta=ridge_param(X, y, penalty) #step (1) ridge regression for penalty\n",
    "        betas_ri[:,i:i+1]=beta #store\n",
    "        mses_ri[i:i+1] = MSE(X_test, y_test, beta) #step (2) calculate MSE with validation test\n",
    "    opt_mse_index=np.argmin(mses_ri) #step (3) minimising MSE\n",
    "    opt_penalty=penalty_terms[opt_mse_index]\n",
    "    opt_beta=betas_ri[:,opt_mse_index:opt_mse_index+1]\n",
    "    return mses_ri,opt_penalty,opt_beta"
   ]
  },
  {
   "cell_type": "markdown",
   "metadata": {},
   "source": [
    "#### 5-fold cross-validation"
   ]
  },
  {
   "cell_type": "markdown",
   "metadata": {},
   "source": [
    "We load the same data again before splitting the training data into folds and validation sets for the 5-fold cross-validation. "
   ]
  },
  {
   "cell_type": "code",
   "execution_count": 2170,
   "metadata": {},
   "outputs": [],
   "source": [
    "regression_train = pd.read_csv (r'/Users/camillekeisser/Documents/IMPERIAL/YEAR 3/Data Science/Coursework 1/regression_train.csv')\n",
    "regression_test = pd.read_csv (r'/Users/camillekeisser/Documents/IMPERIAL/YEAR 3/Data Science/Coursework 1/regression_test.csv')\n",
    "X=pd.DataFrame(regression_train.drop(['18'],axis=1))\n",
    "y=regression_train[['18']]\n",
    "X_train=X.values\n",
    "y_train=y.values\n",
    "X_test=pd.DataFrame(regression_test.drop(['18'],axis=1))\n",
    "y_test=regression_test[['18']]\n",
    "X_test=X_test.values\n",
    "y_test=y_test.values\n",
    "X_train[:,1:]=standardise(X_train[:,1:])\n",
    "mu = np.mean(X_train[:,1:], 0)\n",
    "sigma = np.std(X_train[:,1:], 0)\n",
    "X_test[:,1:] = (X_test[:,1:] - mu) / sigma #standardise excluding the column of 1s"
   ]
  },
  {
   "cell_type": "markdown",
   "metadata": {},
   "source": [
    "Before, proceding to the 5-fold cross-validation, we shuffle the data to avoid having unbalanced validation sets. We use random seed, to obtain the same permutations. "
   ]
  },
  {
   "cell_type": "code",
   "execution_count": 2171,
   "metadata": {},
   "outputs": [],
   "source": [
    "def shuffle(X):\n",
    "    import random\n",
    "    seed = 10\n",
    "    np.random.seed(seed) #the random seed\n",
    "    X_shuf=np.random.permutation(X) \n",
    "    return X_shuf"
   ]
  },
  {
   "cell_type": "markdown",
   "metadata": {},
   "source": [
    "Now, we can split the data into 5-fold cross-validation. "
   ]
  },
  {
   "cell_type": "code",
   "execution_count": 2172,
   "metadata": {},
   "outputs": [],
   "source": [
    "#k-fold \n",
    "def split_5fold(X,y,T):\n",
    "    N, D = X.shape\n",
    "    X=shuffle(X) #shuffle data\n",
    "    t=math.floor(N/T) #number of rows per validation set\n",
    "    X=X[:t*T]\n",
    "    y=y[:t*T]\n",
    "    #we will append folds and validation sets in list of length 5\n",
    "    X_fold=[]\n",
    "    y_fold=[]\n",
    "    X_fold_test=[]\n",
    "    y_fold_test=[]\n",
    "    for i in range(5):\n",
    "        #ith fold is X without ith validation set\n",
    "        X_fold.append(np.delete(X,np.array(range(t*i,t*(i+1))),0))\n",
    "        y_fold.append(np.delete(y,np.array(range(t*i,t*(i+1))),0))\n",
    "        #set the validation sets\n",
    "        X_fold_test.append(X[t*i:t*(i+1)])\n",
    "        y_fold_test.append(y[t*i:t*(i+1)])\n",
    "    return X_fold,X_fold_test,y_fold,y_fold_test"
   ]
  },
  {
   "cell_type": "code",
   "execution_count": 2173,
   "metadata": {},
   "outputs": [],
   "source": [
    "X_fold,X_fold_test,y_fold,y_fold_test=split_5fold(X_train,y_train,5)"
   ]
  },
  {
   "cell_type": "markdown",
   "metadata": {},
   "source": [
    "Now, let's find the optimal penalty term for one fold and plot the MSE of the ridge regression model with respect to the corresponding to indeed demonstrate that the minimising penalty term $\\lambda^{*}$ is coherent, when scaning over a range of penalty terms."
   ]
  },
  {
   "cell_type": "code",
   "execution_count": 2174,
   "metadata": {},
   "outputs": [
    {
     "data": {
      "image/png": "[encoded data removed]",
      "text/plain": [
       "<Figure size 720x504 with 1 Axes>"
      ]
     },
     "metadata": {
      "needs_background": "light"
     },
     "output_type": "display_data"
    }
   ],
   "source": [
    "#plot for 4th fold\n",
    "penalty_terms = np.linspace(0.1,30,40) #penalty is positive only ???\n",
    "nb=len(penalty_terms)\n",
    "mses_rig,penalty_best,betas_rig=find_penalty(penalty_terms,X_fold[0],y_fold[0],X_fold_test[0],y_fold_test[0])\n",
    "\n",
    "plt.figure(figsize=(10,7))\n",
    "plt.plot(penalty_terms,mses_rig)\n",
    "plt.xlabel('penalty terms')\n",
    "plt.ylabel('MSE')\n",
    "plt.title('Plot of MSE given penalty term', y=1.05, fontsize=18)\n",
    "plt.show()"
   ]
  },
  {
   "cell_type": "markdown",
   "metadata": {},
   "source": [
    "The corresponding MSE (using the remaining validation set) return a smooth function with a quadratic shape and therefore the minimising value $\\lambda^{*}$ is easily visible and coherent. "
   ]
  },
  {
   "cell_type": "markdown",
   "metadata": {},
   "source": [
    "Let's apply now the same method to the 5 folds cross-validation. This will return 5 different optimal penalty terms for each fold, and we will try 3 methods to obtain the final optimal penalty term for the entire of the training data:\n",
    "- method (1) average the 5 optimal penalty terms such that: $\\lambda^{*} = \\frac{1}{5} \\underset{i=1}{\\sum}^{5} \\lambda_{i}^{*}$ \n",
    "- method (2) add the mse for the 5 folds and find the optimal penalty term: $\\lambda^{*} = \\underset{\\beta}{\\mathrm{argmin}} \\underset{i=1}{\\sum}^{5} \\mathrm{MSE}_i (\\lambda)$\n",
    "\n",
    "where $\\lambda_i$ is the optimal penalty term for $i^{th}$ fold and $\\mathrm{MSE}_i$ is its corresponding vector if mean squared errors (with $i^{th}$ validation set)"
   ]
  },
  {
   "cell_type": "code",
   "execution_count": 2175,
   "metadata": {},
   "outputs": [],
   "source": [
    "#5-fold cross validation\n",
    "def cross_val_mean(X,y):\n",
    "    penalty_terms = np.linspace(0.001,20,100)\n",
    "    nb=len(penalty_terms)\n",
    "    mses_rig=np.zeros((nb,5))\n",
    "    penalty_best=np.zeros(5)\n",
    "    mses_rig_mean=0\n",
    "    \n",
    "    X_fold,X_fold_test,y_fold,y_fold_test=split_5fold(X,y,5) \n",
    "    for i in range(5):\n",
    "        mses_rig[:,i:i+1],penalty_best[i:i+1],_=find_penalty(penalty_terms,X_fold[i],y_fold[i],X_fold_test[i],y_fold_test[i])\n",
    "    mses_rig_mean=np.mean(mses_rig,axis=1) # method(2) calculate mean of mses_rig over 5 fold\n",
    "    opt_mse_index=np.argmin(mses_rig_mean)\n",
    "    penalty_best_mean=penalty_terms[opt_mse_index] #best parameter for all 5 folds mixed\n",
    "    return penalty_best_mean,penalty_best"
   ]
  },
  {
   "cell_type": "code",
   "execution_count": 2176,
   "metadata": {
    "scrolled": false
   },
   "outputs": [
    {
     "name": "stdout",
     "output_type": "stream",
     "text": [
      "[8.08140404e+00 1.00000000e-03 1.59597980e+01 2.03010101e-01\n",
      " 1.00000000e-03]\n",
      "4.849242424242425 0.001\n"
     ]
    }
   ],
   "source": [
    "penalty_best2,penalty_best_all=cross_val_mean(X_train,y_train)\n",
    "print(penalty_best_all)\n",
    "penalty_best1=np.mean(penalty_best_all)\n",
    "print(penalty_best1,penalty_best2)"
   ]
  },
  {
   "cell_type": "markdown",
   "metadata": {},
   "source": [
    "From the 5-fold cross-validation, we obtain the 2 optimal penalty terms: 4.85 (for method 1) and 0.001 (for method 2) which tends to give simply the least squares solutions. \n",
    "Therefore, we are more likely to chose method (1) as ridge regression is supposed to improve our MSE. Let's confirm our choice by evaluating the in-sample MSE and ou-of-sample MSE to find which one is more minimising. "
   ]
  },
  {
   "cell_type": "markdown",
   "metadata": {},
   "source": [
    "We evaluate the parameters for both optimal penalty terms."
   ]
  },
  {
   "cell_type": "markdown",
   "metadata": {},
   "source": [
    "#### 1.2.2"
   ]
  },
  {
   "cell_type": "markdown",
   "metadata": {},
   "source": [
    "We will again measure the in-sample MSE and out-of-sample MSE to compare the linear regression with the ridge regression (method 1 and 2). "
   ]
  },
  {
   "cell_type": "code",
   "execution_count": 2177,
   "metadata": {},
   "outputs": [],
   "source": [
    "#mse in and out\n",
    "def mse_in_out_rig(X,X_test,y,y_test,penalty_best1,penalty_best2):    \n",
    "    mse_in1=MSE(X, y, ridge_param(X, y, penalty_best1)) #in sample mse with optimal penalty term 1\n",
    "    mse_in2=MSE(X,y,ridge_param(X, y, penalty_best2)) #in sample mse with optimal penalty term \n",
    "    mse_out1=MSE(X_test, y_test, ridge_param(X, y, penalty_best1)) #out sample mse with optimal penalty term 1\n",
    "    mse_out2=MSE(X_test,y_test,ridge_param(X, y, penalty_best2))#out sample mse with optimal penalty term 2\n",
    "    return mse_in1,mse_in2,mse_out1,mse_out2"
   ]
  },
  {
   "cell_type": "code",
   "execution_count": 2178,
   "metadata": {},
   "outputs": [
    {
     "name": "stdout",
     "output_type": "stream",
     "text": [
      "MSE of ridge model with method 1: in-sample [[24.6351335]] out-of-sample [[19.42781779]]\n",
      "MSE of ridge model with method 2: in-sample [[24.33057797]] out-of-sample [[19.67871997]]\n",
      "MSE of linear model: in-sample [[23.89871145]] out-of-sample [[19.83789526]]\n"
     ]
    }
   ],
   "source": [
    "mse_in1,mse_in2,mse_out1,mse_out2=mse_in_out_rig(X_train,X_test,y_train,y_test,penalty_best1,penalty_best2)\n",
    "print('MSE of ridge model with method 1:', 'in-sample', mse_in1, 'out-of-sample', mse_out1)\n",
    "print('MSE of ridge model with method 2:', 'in-sample', mse_in2, 'out-of-sample', mse_out2)\n",
    "print('MSE of linear model:', 'in-sample', mse_in, 'out-of-sample', mse_out)"
   ]
  },
  {
   "cell_type": "markdown",
   "metadata": {},
   "source": [
    "Comparing the results method (1) and (2) to find the optimal penalty term, we choose method (1) with $\\lambda^{*} = \\frac{1}{5} \\underset{i=1}{\\sum}^{5} \\lambda_{i}^{*}$.\n",
    "Why? Because even if the in-sample MSE is not particularly improved, it returns a smaller out-of-sample MSE. We give more importance to the improvement of out-of-sample MSE because in application, we will not have the test data and therefore we will not know how good the fitted values for the test data."
   ]
  },
  {
   "cell_type": "markdown",
   "metadata": {},
   "source": [
    "We can again plot the residual plots to see where the errors come from."
   ]
  },
  {
   "cell_type": "code",
   "execution_count": 2181,
   "metadata": {},
   "outputs": [
    {
     "data": {
      "image/png": "[encoded data removed]",
      "text/plain": [
       "<Figure size 432x360 with 1 Axes>"
      ]
     },
     "metadata": {
      "needs_background": "light"
     },
     "output_type": "display_data"
    }
   ],
   "source": [
    "ridge_beta=ridge_param(X_train, y_train, penalty_best1) #ridge parameters with optimal penalty term \n",
    "y_pred=predict_beta(X_train,y_train,ridge_beta)\n",
    "e = y_train-y_pred #residual\n",
    "plt.figure(figsize=(6,5))\n",
    "plt.scatter(y_train,e)\n",
    "plt.xlabel('fitted values y')\n",
    "plt.ylabel('residual e = y_pred - y')\n",
    "plt.title('Residual plots of ridge regression on training data', y=1.05, fontsize=18)\n",
    "plt.show()"
   ]
  },
  {
   "cell_type": "code",
   "execution_count": 2182,
   "metadata": {},
   "outputs": [
    {
     "data": {
      "image/png": "[encoded data removed]",
      "text/plain": [
       "<Figure size 432x360 with 1 Axes>"
      ]
     },
     "metadata": {
      "needs_background": "light"
     },
     "output_type": "display_data"
    }
   ],
   "source": [
    "y_pred_test=predict_beta(X_test,y_test,ridge_beta)\n",
    "e_test = y_test-y_pred_test #residual\n",
    "plt.figure(figsize=(6,5))\n",
    "plt.scatter(y_test,e_test)\n",
    "plt.xlabel('fitted values y')\n",
    "plt.ylabel('residual e = y_pred - y')\n",
    "plt.title('Residual plots of ridge regression on test data', y=1.05, fontsize=18)\n",
    "plt.show()"
   ]
  },
  {
   "cell_type": "markdown",
   "metadata": {},
   "source": [
    "The errors are not necessarily more equally distributed: they still show big errors for large values of y (like the residual plot for linear regression). This could further implicate that our data is not homogeneous.\n",
    "\n",
    "The out-of-sample MSE of the ridge regression model decreases slightly compared to the linear regression. \n",
    "\n",
    ". the estimators $\\hat{y}$ are not unbiased anymore: $\\mathrm{bias} (\\beta^{*}_{\\mathrm{ridge}}) = - \\lambda (X^{T}X + \\lambda I)^{-1} \\beta$ "
   ]
  },
  {
   "cell_type": "markdown",
   "metadata": {},
   "source": [
    ". the variance decreases: from the lecture notes, we know that using the eigendecomposition:  $ X^{T}X = VDV^{T} $ :\n",
    "$\\mathrm{var}(\\beta^{*}_{\\mathrm{ridge}}) = \\sigma^{2} V ((D + \\lambda I)^{-1} D (D + \\lambda I)) V^{T}$ > $\\mathrm{var}(\\beta^{*}) = -\\lambda (X^{T}X + \\lambda I)^{-1} \\beta$ \n",
    "\n",
    "In our case, the variance decrease compensates the bias of the linear regression fitted values and therefore the out-of-sample MSE is smaller than the linear regression one."
   ]
  },
  {
   "cell_type": "markdown",
   "metadata": {},
   "source": [
    "Finally, to compare and understand the differences between the obtained linear and ridge regression models, we will report the values of the penalty parameters $\\beta^{*}$ and $\\beta^{*}_{ridge}$ and plot them to spot the predictors with the largest differences."
   ]
  },
  {
   "cell_type": "code",
   "execution_count": 2073,
   "metadata": {},
   "outputs": [
    {
     "name": "stdout",
     "output_type": "stream",
     "text": [
      "Ridge regression parameters [[22.74554783 -0.66206814  0.59312733 -0.10471494 -0.10471494 -0.80760041\n",
      "   1.55315803 -0.15484136 -1.7291126   1.62558776 -0.10464183 -0.89046641\n",
      "   0.78054978 -3.54019333 -0.80760041 -0.89059029  0.59312733 -1.71748163]]\n",
      "Linear regression parameters [[ 2.30185644e+01 -5.67595081e-01  4.99085798e+09  1.64533042e+09\n",
      "  -1.64533042e+09 -2.64921221e+00 -6.77107513e+02 -7.78033731e-02\n",
      "  -4.91881262e+02  6.80317327e+02  5.93181838e-02 -2.48789017e+00\n",
      "   9.06090611e-01 -3.56597468e+00  9.76744137e-01  7.16156267e-01\n",
      "  -4.99085797e+09  4.88375616e+02]]\n"
     ]
    },
    {
     "data": {
      "image/png": "[encoded data removed]",
      "text/plain": [
       "<Figure size 576x360 with 1 Axes>"
      ]
     },
     "metadata": {
      "needs_background": "light"
     },
     "output_type": "display_data"
    }
   ],
   "source": [
    "ridge_beta=ridge_param(X_train, y_train, penalty_best1) #ridge parameters with optimal penalty term \n",
    "print('Ridge regression parameters', ridge_beta.T)\n",
    "print('Linear regression parameters',beta_ls.T)\n",
    "plt.figure(figsize=(8,5))\n",
    "x = np.linspace(0, 17, 18)\n",
    "plt.plot(x,beta_ls, '-b', label='Linear')\n",
    "plt.plot(x,ridge_beta, '-r', label='Ridge')\n",
    "plt.xlabel('index of predictor')\n",
    "plt.ylabel('beta parameters')\n",
    "plt.title('Plot of the linear regression and ridge regression beta parameters', y=1.05, fontsize=18)\n",
    "plt.show()"
   ]
  },
  {
   "cell_type": "markdown",
   "metadata": {},
   "source": [
    "We notice that the penalty term $\\lambda$ in ridge regression indeed plays a major role when penalising some predictors. From the plot, it particularly shrinks the parameters corresponding to the predictors with index 2, 4 and 16, the absolute value of their coefficients is smaller and therefore predictors with index 2, 4 and 16 have a smaller impact on the fitted values than with the linear regression model. This explains also the lower variance and why the ridge regression is considered a shrinkage method. "
   ]
  },
  {
   "cell_type": "markdown",
   "metadata": {},
   "source": [
    "Furthermore, with further research, to test if the assumption of a linear regression is correct, we can check one things:\n",
    "- the residual plots are equally distributed aroung the X-axis and Y-axis.\n",
    "\n",
    "Since this condition is not satisfied by neither the ridge or linear regression we cannot validate the assumption of linear regression. Therefore, we will try another method of regression that is not linear: regression with knn."
   ]
  },
  {
   "cell_type": "markdown",
   "metadata": {},
   "source": [
    "### 1.3 Regression with k nearest neighbours (kNN)"
   ]
  },
  {
   "cell_type": "markdown",
   "metadata": {},
   "source": [
    "The last method we will see for regression is the kNN algorithm. This algorithm doesn't rely on a assumption of linear model like the previous models. To get an idea of how it works, here are its steps:\n",
    "- step (1) calculae the distance of a given point 𝑥 to all other points in the data set\n",
    "- step (2) find the k_nearest points closest to 𝑥\n",
    "- step (3) assign the new point 𝑥 to the mean of labels the k_nearest points."
   ]
  },
  {
   "cell_type": "markdown",
   "metadata": {},
   "source": [
    "#### 1.3.1"
   ]
  },
  {
   "cell_type": "markdown",
   "metadata": {},
   "source": [
    "First, we load the data and get rid of the columns of 1 value because they are not useful when calculating the distance between points. "
   ]
  },
  {
   "cell_type": "code",
   "execution_count": 2190,
   "metadata": {},
   "outputs": [],
   "source": [
    "regression_train = pd.read_csv (r'/Users/camillekeisser/Documents/IMPERIAL/YEAR 3/Data Science/Coursework 1/regression_train.csv')\n",
    "y=regression_train[['18']] #y is the last columns\n",
    "X=pd.DataFrame(regression_train.drop(['18'],axis=1)) #X is the augmented data\n",
    "#converting dataframes into numpy arrays\n",
    "X=X.values\n",
    "y=y.values"
   ]
  },
  {
   "cell_type": "code",
   "execution_count": 2191,
   "metadata": {},
   "outputs": [],
   "source": [
    "X[:,1:]=standardise(X[:,1:]) #standardise excluding the column of 1s"
   ]
  },
  {
   "cell_type": "code",
   "execution_count": 2192,
   "metadata": {},
   "outputs": [],
   "source": [
    "regression_test = pd.read_csv (r'/Users/camillekeisser/Documents/IMPERIAL/YEAR 3/Data Science/Coursework 1/regression_test.csv')\n",
    "y_test=regression_test[['18']]\n",
    "X_test=pd.DataFrame(regression_test.drop(['18'],axis=1))\n",
    "#converting dataframes into numpy arrays\n",
    "X_test=X_test.values\n",
    "y_test=y_test.values"
   ]
  },
  {
   "cell_type": "code",
   "execution_count": 2193,
   "metadata": {},
   "outputs": [],
   "source": [
    "mu = np.mean(X[:,1:], 0)\n",
    "sigma = np.std(X[:,1:], 0)\n",
    "X_test[:,1:] = (X_test[:,1:] - mu) / sigma #standardise excluding the column of 1s"
   ]
  },
  {
   "cell_type": "code",
   "execution_count": 2194,
   "metadata": {},
   "outputs": [],
   "source": [
    "#k-fold \n",
    "def split_5fold(X,y,T):\n",
    "    N, D = X.shape\n",
    "    t=math.floor(N/T)\n",
    "    #X=shuffle(X)\n",
    "    X=X[:t*T,:]\n",
    "    y=y[:t*T,:]\n",
    "    X_fold=[]\n",
    "    y_fold=[]\n",
    "    X_fold_test=[]\n",
    "    y_fold_test=[]\n",
    "    for i in range(5):\n",
    "        X_fold.append(np.delete(X,np.array(range(t*i,t*(i+1))),0))\n",
    "        y_fold.append(np.delete(y,np.array(range(t*i,t*(i+1))),0))\n",
    "        X_fold_test.append(X[t*i:t*(i+1),:])\n",
    "        y_fold_test.append(y[t*i:t*(i+1),:])\n",
    "    return X_fold,X_fold_test,y_fold,y_fold_test"
   ]
  },
  {
   "cell_type": "code",
   "execution_count": 2195,
   "metadata": {},
   "outputs": [],
   "source": [
    "X=X[:,1:]\n",
    "X_test=X_test[:,1:]"
   ]
  },
  {
   "cell_type": "markdown",
   "metadata": {},
   "source": [
    "Starting with step 1, the next function calculates the euclidian distance between two vector-points."
   ]
  },
  {
   "cell_type": "code",
   "execution_count": 2196,
   "metadata": {},
   "outputs": [],
   "source": [
    "def euclidian_distance(p, q):\n",
    "    return np.sqrt(np.sum((p-q)**2, axis=1))"
   ]
  },
  {
   "cell_type": "markdown",
   "metadata": {},
   "source": [
    "Now, the following function implements step 2: for each new point, it creates a matrix with the indices and distances of the k nearest neightbours (k closest points to new point)."
   ]
  },
  {
   "cell_type": "code",
   "execution_count": 2197,
   "metadata": {},
   "outputs": [],
   "source": [
    "def k_neighbours(X_test,X, k, return_distance=False):\n",
    "    n_neighbours = k\n",
    "    dist = []\n",
    "    neigh_ind = []\n",
    "  \n",
    "    # compute distance from each point x_text in X_test to all points in X_train \n",
    "    point_dist = [euclidian_distance(x_test, X) for x_test in X_test]\n",
    "\n",
    "    # determine which k training points are closest to each test point\n",
    "    for row in point_dist:\n",
    "        enum_neigh = enumerate(row)\n",
    "        sorted_neigh = sorted(enum_neigh, key=lambda x: x[1])[:k] #sort k neighbours from closest to most far away\n",
    "\n",
    "        ind_list = [tup[0] for tup in sorted_neigh] #index training points\n",
    "        dist_list = [tup[1] for tup in sorted_neigh] #distance with training points\n",
    "\n",
    "        dist.append(dist_list)\n",
    "        neigh_ind.append(ind_list)\n",
    "  \n",
    "    # return distances together with indices of k nearest neighbouts\n",
    "    if return_distance:\n",
    "        return np.array(dist), np.array(neigh_ind)\n",
    "  \n",
    "    return np.array(neigh_ind)"
   ]
  },
  {
   "cell_type": "markdown",
   "metadata": {},
   "source": [
    "The next function implements step (3) by setting the predicted value $\\hat{y}$ to be equal to the mean of the values of its neighbourhood."
   ]
  },
  {
   "cell_type": "code",
   "execution_count": 2198,
   "metadata": {},
   "outputs": [],
   "source": [
    "def reg_predict(X_test, X_train, y_train, k):\n",
    "    # each of the k neighbours contributes equally to the classification of any data point in X_test  \n",
    "    neighbours = k_neighbours(X_test,X_train,k=k)\n",
    "    # compute mean over neighbours labels (hint: use python's list comprehension)\n",
    "    N,D=X_test.shape\n",
    "    y_pred=np.zeros((N,1))\n",
    "    y_pred[:,0] = np.array([np.mean(y_train[neighbour]) for neighbour in neighbours])\n",
    "    return y_pred"
   ]
  },
  {
   "cell_type": "markdown",
   "metadata": {},
   "source": [
    "(i) We need to demonstrate that the iteration over k \\in [0,1, ..., 20] in the function 'find_k' below will return the optimal k that minimises the MSE. Similarly to ridge regression: we look for the number of k neighbours that minimise the MSE. We implement this optimisation problem below."
   ]
  },
  {
   "cell_type": "code",
   "execution_count": 2199,
   "metadata": {},
   "outputs": [],
   "source": [
    "#Mean square error\n",
    "def MSE_knn(y_pred, y):\n",
    "    N, D = y.shape\n",
    "    e = y-y_pred\n",
    "    mse = 1/N * e.T@e #from lecture notes\n",
    "    return mse"
   ]
  },
  {
   "cell_type": "code",
   "execution_count": 2200,
   "metadata": {},
   "outputs": [],
   "source": [
    "def find_k(k_terms,X,y,X_test,y_test):\n",
    "    mses_knn = np.zeros((len(k_terms),1))\n",
    "    for i in range(len(k_terms)):\n",
    "        k=k_terms[i]\n",
    "        y_pred=reg_predict(X_test, X, y, k)\n",
    "        mses_knn[i:i+1]=MSE_knn(y_pred, y_test) #calculate MSE between predicted y using X and y_test\n",
    "    opt_mse_index=np.argmin(mses_knn)\n",
    "    k_best=k_terms[opt_mse_index]\n",
    "    return mses_knn,k_best"
   ]
  },
  {
   "cell_type": "markdown",
   "metadata": {},
   "source": [
    "Again, we proceed to a 5-fold cross-validation to get the optimal hyperparameter $k^{*}$. This time, since k is a discrete hyperparameter,  taking the mean of the 5 integers  𝑘𝑖  will not necessarily give an optimal integer  𝑘∗. Therefore, we use the other method introduced earlier:\n",
    "- method (2) add the mse for the 5 folds and find the optimal k: $k^{*} = \\underset{\\beta}{\\mathrm{argmin}} \\underset{i=1}{\\sum}^{5} \\mathrm{MSE}_i (k)$"
   ]
  },
  {
   "cell_type": "code",
   "execution_count": 2201,
   "metadata": {},
   "outputs": [],
   "source": [
    "X_fold,X_fold_test,y_fold,y_fold_test=split_5fold(X,y,5)"
   ]
  },
  {
   "cell_type": "markdown",
   "metadata": {},
   "source": [
    "Before, proceeding the 5-fold cross-validation, we will use one fold to:\n",
    "(ii) Examine the MSE and distribution of the errors obtained on the corresponding validation set."
   ]
  },
  {
   "cell_type": "code",
   "execution_count": 2202,
   "metadata": {},
   "outputs": [
    {
     "data": {
      "image/png": "[encoded data removed]",
      "text/plain": [
       "<Figure size 720x504 with 1 Axes>"
      ]
     },
     "metadata": {
      "needs_background": "light"
     },
     "output_type": "display_data"
    }
   ],
   "source": [
    "k_terms=np.linspace(1,20,20)\n",
    "k_terms=k_terms.astype(int)\n",
    "mses_knn,k_best=find_k(k_terms,X_fold[2],y_fold[2],X_fold_test[2],y_fold_test[2])\n",
    "plt.figure(figsize=(10,7))\n",
    "plt.plot(k_terms,mses_knn)\n",
    "plt.xlabel('penalty terms')\n",
    "plt.ylabel('MSE')\n",
    "plt.title('Plot of MSE given k', y=1.05, fontsize=18)\n",
    "plt.show()"
   ]
  },
  {
   "cell_type": "markdown",
   "metadata": {},
   "source": [
    "Indeed, this graph shows that the optimal k (here 3) minimises the MSE for this fold. We can also interpret that too large k leads to a poor MSE probably because the variance increases (due to overfitting) and too small k probably leads to unbiased predictions $\\hat{y}$. "
   ]
  },
  {
   "cell_type": "code",
   "execution_count": 2203,
   "metadata": {},
   "outputs": [
    {
     "data": {
      "image/png": "[encoded data removed]",
      "text/plain": [
       "<Figure size 720x504 with 1 Axes>"
      ]
     },
     "metadata": {
      "needs_background": "light"
     },
     "output_type": "display_data"
    }
   ],
   "source": [
    "y_pred=reg_predict(X_fold_test[2], X_fold[2], y_fold[2], 3)\n",
    "error=y_pred-y_fold_test[2]\n",
    "plt.figure(figsize=(10,7))\n",
    "plt.hist(error,8)\n",
    "plt.xlabel('range of errors')\n",
    "plt.ylabel('frequency')\n",
    "plt.title('Histogram of the distribution of the errors', y=1.05, fontsize=18)\n",
    "plt.show()"
   ]
  },
  {
   "cell_type": "markdown",
   "metadata": {},
   "source": [
    "From the histogram, we can deduce that the errors seem to be normally distributed around zero. Indeed, the mean of the errors seems to be close to zero:"
   ]
  },
  {
   "cell_type": "code",
   "execution_count": 2140,
   "metadata": {},
   "outputs": [
    {
     "data": {
      "text/plain": [
       "0.23333333333333361"
      ]
     },
     "execution_count": 2140,
     "metadata": {},
     "output_type": "execute_result"
    }
   ],
   "source": [
    "#mean of the errors\n",
    "np.mean(error)"
   ]
  },
  {
   "cell_type": "markdown",
   "metadata": {},
   "source": [
    "With further research, I have come to the conclusion that in regression models the prediction errors need to be normally distributed, which is the case here. For more precision, we could run tests to check normality but we will"
   ]
  },
  {
   "cell_type": "markdown",
   "metadata": {},
   "source": [
    "#### 1.3.2"
   ]
  },
  {
   "cell_type": "code",
   "execution_count": 2206,
   "metadata": {},
   "outputs": [],
   "source": [
    "#choose best k with the average of mse\n",
    "def find_model_knn(X,X_test,y,y_test,k_terms):\n",
    "    k_best_all=np.zeros(5)\n",
    "    mses_knn_mean=0\n",
    "    mse_in=[]\n",
    "    mse_out=[]\n",
    "    \n",
    "    X_fold,X_fold_test,y_fold,y_fold_test=split_5fold(X,y,5)\n",
    "    for i in range(5):\n",
    "        mses_knn,k_best_all[i]=find_k(k_terms,X_fold[i],y_fold[i],X_fold_test[i],y_fold_test[i]) #best paramater for this fold\n",
    "        mses_knn_mean=mses_knn_mean+mses_knn #calculate mean of mse_knn over 5 fold\n",
    "    mses_knn_mean=mses_knn_mean/5\n",
    "    opt_mse_index=np.argmin(mses_knn_mean)\n",
    "    k_best_mean=k_terms[opt_mse_index] #best parameter for all 5 folds\n",
    "    return k_best_mean,k_best_all,mses_knn_mean"
   ]
  },
  {
   "cell_type": "code",
   "execution_count": 2215,
   "metadata": {},
   "outputs": [
    {
     "name": "stdout",
     "output_type": "stream",
     "text": [
      "The optimal value k is 3\n"
     ]
    }
   ],
   "source": [
    "k_best_mean,k_best_all,mses_knn_mean=find_model_knn(X,X_test,y,y_test,k_terms)\n",
    "print('The optimal value k is', k_best_mean)"
   ]
  },
  {
   "cell_type": "markdown",
   "metadata": {},
   "source": [
    "Our optimal knn model has $k^{*}$ = 3 (for probably similar reasons to the model we trained in one fold). "
   ]
  },
  {
   "cell_type": "code",
   "execution_count": 2216,
   "metadata": {},
   "outputs": [],
   "source": [
    "def mse_knn_in_out(X,X_test,y,y_test,k_best):\n",
    "    mse_in= MSE_knn(reg_predict(X, X, y, k_best), y) #in sample mse with training \n",
    "    mse_out=MSE_knn(reg_predict(X_test, X, y, k_best), y_test) #out sample mse test data\n",
    "    return mse_in, mse_out"
   ]
  },
  {
   "cell_type": "code",
   "execution_count": 2217,
   "metadata": {
    "scrolled": false
   },
   "outputs": [
    {
     "name": "stdout",
     "output_type": "stream",
     "text": [
      "MSE of knn model: in-sample [[4.98090484]] out-of-sample [[12.29302832]]\n"
     ]
    }
   ],
   "source": [
    "k_best_mean,k_best_all,mse_knn_mean=find_model_knn(X,X_test,y,y_test,k_terms)\n",
    "mse_in, mse_out=mse_knn_in_out(X,X_test,y,y_test,k_best_mean)\n",
    "print('MSE of knn model:', 'in-sample', mse_in, 'out-of-sample', mse_out)"
   ]
  },
  {
   "cell_type": "code",
   "execution_count": 2212,
   "metadata": {},
   "outputs": [
    {
     "data": {
      "image/png": "[encoded data removed]",
      "text/plain": [
       "<Figure size 432x360 with 1 Axes>"
      ]
     },
     "metadata": {
      "needs_background": "light"
     },
     "output_type": "display_data"
    }
   ],
   "source": [
    "y_pred=reg_predict(X, X, y, k_best_mean)\n",
    "e = y-y_pred #residual\n",
    "plt.figure(figsize=(6,5))\n",
    "plt.scatter(y,e)\n",
    "plt.xlabel('fitted values y')\n",
    "plt.ylabel('residual e = y_pred - y')\n",
    "plt.title('Residual plots of knn regression on training data', y=1.05, fontsize=18)\n",
    "plt.show()"
   ]
  },
  {
   "cell_type": "code",
   "execution_count": 2213,
   "metadata": {},
   "outputs": [
    {
     "data": {
      "image/png": "[encoded data removed]",
      "text/plain": [
       "<Figure size 432x360 with 1 Axes>"
      ]
     },
     "metadata": {
      "needs_background": "light"
     },
     "output_type": "display_data"
    }
   ],
   "source": [
    "y_pred_test=reg_predict(X_test, X, y, k_best_mean)\n",
    "e = y-y_pred #residual\n",
    "plt.figure(figsize=(6,5))\n",
    "plt.scatter(y,e)\n",
    "plt.xlabel('fitted values y')\n",
    "plt.ylabel('residual e = y_pred - y')\n",
    "plt.title('Residual plots of knn regression on testing data', y=1.05, fontsize=18)\n",
    "plt.show()"
   ]
  },
  {
   "cell_type": "markdown",
   "metadata": {},
   "source": [
    "Comparing these plots with the previous residual plots, we see that they are more equally distributed:\n",
    "- the residual plot on training data is nearly uniformly distributed (as required) which explains the very low in-sample MSE and\n",
    "- the residual plot on test data is more uniformly distributed than the previous ones explaining the reduction of out-of-sample MSE \n",
    "\n",
    "Therefore, considering that our data is homogeneous, we can conclude that the assumption of linear regression is not very appropriate for our data and therefore our 17 predictors are nonlinear. And if we consider that our data is not homogeneous, the kNN model, deals well with the large outliers (since they don't appear in the residual plots)."
   ]
  },
  {
   "cell_type": "markdown",
   "metadata": {},
   "source": [
    "### Conclusion of regression"
   ]
  },
  {
   "cell_type": "markdown",
   "metadata": {},
   "source": [
    "We can summarise the performances of our models in the table below, to prove that the knn regresion model (non-linear regression model) leads to the best quality of fitting of the training and testing data. The results supports the argument that our predictors are non linear. "
   ]
  },
  {
   "cell_type": "markdown",
   "metadata": {},
   "source": [
    "| Regression models | in-sample MSE | out-sample MSE |\n",
    "| --- | --- | --- |\n",
    "|Linear regression | 23.89871 | 26.40392 |\n",
    "|Ridge regression | 24.63513 | 25.07344 |\n",
    "|kNN regression | 4.98090 | 12.29303 |"
   ]
  },
  {
   "cell_type": "markdown",
   "metadata": {},
   "source": [
    "## 2 Classification"
   ]
  },
  {
   "cell_type": "markdown",
   "metadata": {},
   "source": [
    "In this task, we are asked to use a dataset of a collection of information on credit applications (to a bank) to do a binary calssification task. We use the 11 features of each applicant as predictors to predict the binary target variable: is the application successful or not. Let's have a look at the given data and run a brief exploratory data analysis."
   ]
  },
  {
   "cell_type": "markdown",
   "metadata": {},
   "source": [
    "Lets import the files to have a first look at the data and its configuration. The last column is our binary target value and the rest of the columns are the predictors."
   ]
  },
  {
   "cell_type": "code",
   "execution_count": 2604,
   "metadata": {},
   "outputs": [
    {
     "data": {
      "text/html": [
       "<div>\n",
       "<style scoped>\n",
       "    .dataframe tbody tr th:only-of-type {\n",
       "        vertical-align: middle;\n",
       "    }\n",
       "\n",
       "    .dataframe tbody tr th {\n",
       "        vertical-align: top;\n",
       "    }\n",
       "\n",
       "    .dataframe thead th {\n",
       "        text-align: right;\n",
       "    }\n",
       "</style>\n",
       "<table border=\"1\" class=\"dataframe\">\n",
       "  <thead>\n",
       "    <tr style=\"text-align: right;\">\n",
       "      <th></th>\n",
       "      <th>0</th>\n",
       "      <th>1</th>\n",
       "      <th>2</th>\n",
       "      <th>3</th>\n",
       "      <th>4</th>\n",
       "      <th>5</th>\n",
       "      <th>6</th>\n",
       "      <th>7</th>\n",
       "      <th>8</th>\n",
       "      <th>9</th>\n",
       "      <th>10</th>\n",
       "      <th>11</th>\n",
       "    </tr>\n",
       "  </thead>\n",
       "  <tbody>\n",
       "    <tr>\n",
       "      <th>0</th>\n",
       "      <td>0.1620</td>\n",
       "      <td>0.25</td>\n",
       "      <td>0.3630</td>\n",
       "      <td>0.25</td>\n",
       "      <td>0.00</td>\n",
       "      <td>0.000</td>\n",
       "      <td>0.333</td>\n",
       "      <td>0.333</td>\n",
       "      <td>0.2680</td>\n",
       "      <td>1.000</td>\n",
       "      <td>1.0</td>\n",
       "      <td>0.0</td>\n",
       "    </tr>\n",
       "    <tr>\n",
       "      <th>1</th>\n",
       "      <td>0.4710</td>\n",
       "      <td>0.50</td>\n",
       "      <td>0.8590</td>\n",
       "      <td>0.00</td>\n",
       "      <td>0.00</td>\n",
       "      <td>0.333</td>\n",
       "      <td>0.667</td>\n",
       "      <td>0.667</td>\n",
       "      <td>0.4290</td>\n",
       "      <td>1.000</td>\n",
       "      <td>0.0</td>\n",
       "      <td>1.0</td>\n",
       "    </tr>\n",
       "    <tr>\n",
       "      <th>2</th>\n",
       "      <td>0.1180</td>\n",
       "      <td>0.00</td>\n",
       "      <td>0.1380</td>\n",
       "      <td>0.00</td>\n",
       "      <td>1.00</td>\n",
       "      <td>0.333</td>\n",
       "      <td>1.000</td>\n",
       "      <td>0.333</td>\n",
       "      <td>0.2680</td>\n",
       "      <td>0.667</td>\n",
       "      <td>0.0</td>\n",
       "      <td>1.0</td>\n",
       "    </tr>\n",
       "    <tr>\n",
       "      <th>3</th>\n",
       "      <td>0.4710</td>\n",
       "      <td>0.50</td>\n",
       "      <td>0.1760</td>\n",
       "      <td>0.00</td>\n",
       "      <td>1.00</td>\n",
       "      <td>1.000</td>\n",
       "      <td>0.333</td>\n",
       "      <td>0.667</td>\n",
       "      <td>0.4110</td>\n",
       "      <td>0.667</td>\n",
       "      <td>0.0</td>\n",
       "      <td>0.0</td>\n",
       "    </tr>\n",
       "    <tr>\n",
       "      <th>4</th>\n",
       "      <td>0.6470</td>\n",
       "      <td>0.00</td>\n",
       "      <td>0.2400</td>\n",
       "      <td>0.00</td>\n",
       "      <td>1.00</td>\n",
       "      <td>0.667</td>\n",
       "      <td>1.000</td>\n",
       "      <td>1.000</td>\n",
       "      <td>0.0893</td>\n",
       "      <td>0.667</td>\n",
       "      <td>0.0</td>\n",
       "      <td>0.0</td>\n",
       "    </tr>\n",
       "    <tr>\n",
       "      <th>5</th>\n",
       "      <td>0.1180</td>\n",
       "      <td>0.75</td>\n",
       "      <td>0.0602</td>\n",
       "      <td>0.00</td>\n",
       "      <td>0.50</td>\n",
       "      <td>1.000</td>\n",
       "      <td>0.333</td>\n",
       "      <td>0.000</td>\n",
       "      <td>0.4290</td>\n",
       "      <td>0.333</td>\n",
       "      <td>0.0</td>\n",
       "      <td>1.0</td>\n",
       "    </tr>\n",
       "    <tr>\n",
       "      <th>6</th>\n",
       "      <td>0.2060</td>\n",
       "      <td>1.00</td>\n",
       "      <td>0.2780</td>\n",
       "      <td>0.00</td>\n",
       "      <td>1.00</td>\n",
       "      <td>0.333</td>\n",
       "      <td>1.000</td>\n",
       "      <td>1.000</td>\n",
       "      <td>0.3040</td>\n",
       "      <td>1.000</td>\n",
       "      <td>1.0</td>\n",
       "      <td>1.0</td>\n",
       "    </tr>\n",
       "    <tr>\n",
       "      <th>7</th>\n",
       "      <td>0.0588</td>\n",
       "      <td>0.50</td>\n",
       "      <td>0.0362</td>\n",
       "      <td>0.00</td>\n",
       "      <td>0.25</td>\n",
       "      <td>0.667</td>\n",
       "      <td>0.333</td>\n",
       "      <td>0.000</td>\n",
       "      <td>0.1250</td>\n",
       "      <td>0.667</td>\n",
       "      <td>1.0</td>\n",
       "      <td>1.0</td>\n",
       "    </tr>\n",
       "    <tr>\n",
       "      <th>8</th>\n",
       "      <td>0.1180</td>\n",
       "      <td>1.00</td>\n",
       "      <td>0.0248</td>\n",
       "      <td>0.00</td>\n",
       "      <td>0.50</td>\n",
       "      <td>1.000</td>\n",
       "      <td>0.333</td>\n",
       "      <td>0.667</td>\n",
       "      <td>0.2320</td>\n",
       "      <td>0.667</td>\n",
       "      <td>0.0</td>\n",
       "      <td>1.0</td>\n",
       "    </tr>\n",
       "    <tr>\n",
       "      <th>9</th>\n",
       "      <td>0.1180</td>\n",
       "      <td>0.50</td>\n",
       "      <td>0.1000</td>\n",
       "      <td>0.25</td>\n",
       "      <td>0.50</td>\n",
       "      <td>1.000</td>\n",
       "      <td>0.333</td>\n",
       "      <td>0.000</td>\n",
       "      <td>0.1610</td>\n",
       "      <td>0.667</td>\n",
       "      <td>0.0</td>\n",
       "      <td>1.0</td>\n",
       "    </tr>\n",
       "    <tr>\n",
       "      <th>10</th>\n",
       "      <td>0.4710</td>\n",
       "      <td>0.50</td>\n",
       "      <td>0.0876</td>\n",
       "      <td>0.00</td>\n",
       "      <td>0.25</td>\n",
       "      <td>1.000</td>\n",
       "      <td>1.000</td>\n",
       "      <td>0.667</td>\n",
       "      <td>0.2680</td>\n",
       "      <td>0.667</td>\n",
       "      <td>1.0</td>\n",
       "      <td>0.0</td>\n",
       "    </tr>\n",
       "  </tbody>\n",
       "</table>\n",
       "</div>"
      ],
      "text/plain": [
       "         0     1       2     3     4      5      6      7       8      9   10  \\\n",
       "0   0.1620  0.25  0.3630  0.25  0.00  0.000  0.333  0.333  0.2680  1.000  1.0   \n",
       "1   0.4710  0.50  0.8590  0.00  0.00  0.333  0.667  0.667  0.4290  1.000  0.0   \n",
       "2   0.1180  0.00  0.1380  0.00  1.00  0.333  1.000  0.333  0.2680  0.667  0.0   \n",
       "3   0.4710  0.50  0.1760  0.00  1.00  1.000  0.333  0.667  0.4110  0.667  0.0   \n",
       "4   0.6470  0.00  0.2400  0.00  1.00  0.667  1.000  1.000  0.0893  0.667  0.0   \n",
       "5   0.1180  0.75  0.0602  0.00  0.50  1.000  0.333  0.000  0.4290  0.333  0.0   \n",
       "6   0.2060  1.00  0.2780  0.00  1.00  0.333  1.000  1.000  0.3040  1.000  1.0   \n",
       "7   0.0588  0.50  0.0362  0.00  0.25  0.667  0.333  0.000  0.1250  0.667  1.0   \n",
       "8   0.1180  1.00  0.0248  0.00  0.50  1.000  0.333  0.667  0.2320  0.667  0.0   \n",
       "9   0.1180  0.50  0.1000  0.25  0.50  1.000  0.333  0.000  0.1610  0.667  0.0   \n",
       "10  0.4710  0.50  0.0876  0.00  0.25  1.000  1.000  0.667  0.2680  0.667  1.0   \n",
       "\n",
       "     11  \n",
       "0   0.0  \n",
       "1   1.0  \n",
       "2   1.0  \n",
       "3   0.0  \n",
       "4   0.0  \n",
       "5   1.0  \n",
       "6   1.0  \n",
       "7   1.0  \n",
       "8   1.0  \n",
       "9   1.0  \n",
       "10  0.0  "
      ]
     },
     "execution_count": 2604,
     "metadata": {},
     "output_type": "execute_result"
    }
   ],
   "source": [
    "classification_train = pd.read_csv (r'/Users/camillekeisser/Documents/IMPERIAL/YEAR 3/Data Science/Coursework 1/classification_train.csv')\n",
    "classification_test = pd.read_csv (r'/Users/camillekeisser/Documents/IMPERIAL/YEAR 3/Data Science/Coursework 1/classification_test.csv')\n",
    "classification_train.head(11)"
   ]
  },
  {
   "cell_type": "code",
   "execution_count": 2605,
   "metadata": {},
   "outputs": [],
   "source": [
    "X=pd.DataFrame(classification_train.drop(['11'],axis=1))\n",
    "y=classification_train[['11']]\n",
    "X=X.values\n",
    "y=y.values\n",
    "X_test=pd.DataFrame(classification_test.drop(['11'],axis=1))\n",
    "y_test=classification_test[['11']]\n",
    "X_test=X_test.values\n",
    "y_test=y_test.values"
   ]
  },
  {
   "cell_type": "markdown",
   "metadata": {},
   "source": [
    "The data is finally ready to be used for binary classification to predict the target values. We will compare the results of 3 different model: Logistic regression classifier, Random forest, and Suport vector machines (SVM). All 3 models will be trained using the training data and tested on the test data. To compare the models we will compare their respective performance / accuracy on the training data and test data. As opposed to the MSE in regresssion, here we aim to maximise the accuracy results. "
   ]
  },
  {
   "cell_type": "markdown",
   "metadata": {},
   "source": [
    "### 2.1 Logistic regression "
   ]
  },
  {
   "cell_type": "markdown",
   "metadata": {},
   "source": [
    "A logistic regression classifier, is a linear model for classification, used here for binary classification to assign a predicted value of 0 or 1 for the success or not of the credit application to the bank. We will explain why the term logistic *regression* is used by examining the logistic function first:\n",
    "$$\n",
    "f(x) = \\frac{1}{1+e^{-x}}\n",
    "$$\n",
    "The logistic regression model assumes that the logit function is a linear combination of the predictor variables:\n",
    "$$\n",
    "X^{T} \\beta = \\mathrm{log} \\frac{P(y=1)}{1-P(y=1)}\n",
    "$$\n",
    "By rearanging, the terms we get the probability of success, as the logistic function\n",
    "$$\n",
    "P(y=1) = \\frac{1}{1+ \\mathrm{e}(-X^{T} \\beta)}\n",
    "$$\n",
    "Therefore, the model assumes that the target value y follows a Bernoulli random variable with probability of success $P(y=1)$ defined above to be the logistic function.\n",
    "Let's summarise the logistic regression algorithm in steps:\n",
    "\n",
    "- step (1) optimise the linear parameters $\\beta$ from the data, we will maximise the loss function, given by:\n",
    "$$\n",
    "\\mathcal{L} = \\underset{i=1}{\\sum}^{N} \\mathrm{log} h_{\\beta} (X_i) - (1-y_i)(X_i)^{T} \\beta\n",
    "$$\n",
    "Since this is a convex optimisation, we can find the optimal $\\beta^{*}_{\\mathrm{log}}$ with gradient descent.\n",
    "- step (2) define the classifier for a new point depending on a decision threshold $\\tau$ (that we will tune), as:\n",
    "$$\n",
    "P(y=1 | x^{\\mathrm{in}}) > \\tau \\implies  x^{\\mathrm{in}} \\in \\{1\\}\n",
    "$$"
   ]
  },
  {
   "cell_type": "markdown",
   "metadata": {},
   "source": [
    "#### 2.1.1"
   ]
  },
  {
   "cell_type": "markdown",
   "metadata": {},
   "source": [
    "Let's start with splitting the data into 5-fold to implement the logistic regression algorithm on each fold later on."
   ]
  },
  {
   "cell_type": "code",
   "execution_count": 2273,
   "metadata": {},
   "outputs": [],
   "source": [
    "X_fold,X_fold_test,y_fold,y_fold_test=split_5fold(X,y,5)"
   ]
  },
  {
   "cell_type": "markdown",
   "metadata": {},
   "source": [
    "Now, the next function is the logistic function that we will apply to the linear combination $X^{T} \\beta$:"
   ]
  },
  {
   "cell_type": "code",
   "execution_count": 2607,
   "metadata": {},
   "outputs": [],
   "source": [
    "def logistic(x):\n",
    "    return 1 / (1 + np.exp(-x))"
   ]
  },
  {
   "cell_type": "markdown",
   "metadata": {},
   "source": [
    "To start the optimisation in step (1), we initialise the parameters $\\boldsymbol \\beta$ and $\\beta_0$ randomly or with zeros and update it iteravely using the gradient descent method."
   ]
  },
  {
   "cell_type": "code",
   "execution_count": 2608,
   "metadata": {},
   "outputs": [],
   "source": [
    "def initialise(d):\n",
    "    beta = np.zeros(shape=(d, 1), dtype=np.float32)\n",
    "    beta_0 = 0\n",
    "    assert(beta.shape==(d, 1))\n",
    "    assert(isinstance(beta_0, float) or isinstance(beta_0, int))\n",
    "  \n",
    "    return beta, beta_0"
   ]
  },
  {
   "cell_type": "code",
   "execution_count": 2609,
   "metadata": {},
   "outputs": [],
   "source": [
    "def predict_log(X, beta, beta_0):\n",
    "    y_log = logistic(beta.T @ X + beta_0) #logistoc function to X.T@beta\n",
    "    return y_log"
   ]
  },
  {
   "cell_type": "markdown",
   "metadata": {},
   "source": [
    "Now to start the gradient descent, we define the cost function (as in the lecture notes):\n",
    "$$\n",
    "\\mathcal L = - \\frac{1}{n} \\sum_{i=1}^n y^{(i)} \\log(\\hat{y}_{\\text{log}}^{(i)}) + (1-y^{(i)}) \\log (1-\\hat{y}_{\\text{log}}^{(i)}) \\, .\n",
    "$$\n",
    "with derivatives with respect to $\\boldsymbol \\beta$ and $\\beta_0$:\n",
    "$$\n",
    "\\frac{\\partial \\mathcal L}{\\partial \\boldsymbol \\beta} = \\frac{1}{n} \\sum_{i=1}^n ( y^{(i)} - \\hat{y}_{\\text{log}}^{(i)}) X^{(i)}\n",
    "$$\n",
    " \n",
    "$$\n",
    "\\frac{\\partial \\mathcal L}{\\partial \\beta_0} = \\frac{1}{n} \\sum_{i=1}^n ( y^{(i)} - \\hat{y}_{\\text{log}}^{(i)})\n",
    "$$\n",
    "\n",
    "\n",
    "We implement the cost function and its derivatives in the next cell as part of a larger operation which we shall call `propagate`."
   ]
  },
  {
   "cell_type": "code",
   "execution_count": 2610,
   "metadata": {},
   "outputs": [],
   "source": [
    "def propagate(X, y, beta, beta_0):\n",
    "    n = X.shape[1]\n",
    "    y_log = predict_log(X, beta, beta_0) #calculate log function for our betas\n",
    "    # cost function\n",
    "    cost = (-1) * np.mean(np.multiply(y, np.log(y_log)) + np.multiply(1-y, np.log(1 - y_log)), axis=1) \n",
    "    # derivatives\n",
    "    dbeta = (1/n) * X @ np.transpose(y_log - y)  # gradient of the loss wrt beta\n",
    "    dbeta_0 =  np.mean((y_log - y)) # gradient of the loss wrt beta_0\n",
    "    \n",
    "    #make sure the derivative have the correct shape\n",
    "    assert(dbeta.shape==beta.shape)\n",
    "    assert(dbeta_0.dtype==float)\n",
    "    cost = np.squeeze(cost)\n",
    "    assert(cost.shape==())\n",
    "  \n",
    "    # store gradients in a dictionary\n",
    "    grads = {\"dbeta\": dbeta, \"dbeta_0\": dbeta_0}\n",
    "  \n",
    "    return grads, cost"
   ]
  },
  {
   "cell_type": "markdown",
   "metadata": {},
   "source": [
    "The optimise function implements the gradient descent:\n",
    "- set a learning rate $\\eta$\n",
    "- initialise the parameters we will update through iterations $\\beta$ and $\\beta_0$ \n",
    "- update the parameters such that the parameters tend to the opposite direction of the derivatives (to attein the minimum)\n",
    "$$\n",
    "\\beta = \\beta - \\eta \\frac{\\partial \\mathcal L}{\\partial \\boldsymbol \\beta}\n",
    "$$\n",
    "$$\n",
    "\\beta_0 = \\beta - \\eta \\frac{\\partial \\mathcal L}{\\partial \\boldsymbol \\beta_0}\n",
    "$$\n",
    "(repeat this step until $\\frac{\\partial \\mathcal L}{\\partial \\boldsymbol \\beta}$ and $\\frac{\\partial \\mathcal L}{\\partial \\boldsymbol \\beta_0}$ is small enough)"
   ]
  },
  {
   "cell_type": "code",
   "execution_count": 2611,
   "metadata": {},
   "outputs": [],
   "source": [
    "def optimise(X, y, beta, beta_0, num_iterations, learning_rate, print_cost=False):\n",
    "    \n",
    "    costs = [] #store the costs computed for each iteration\n",
    "    \n",
    "    for i in range(num_iterations):\n",
    "    # calculate cost and gradients\n",
    "        grads, cost = propagate(X, y, beta, beta_0)  #\n",
    "        # retrieve derivatives from grads\n",
    "        dbeta = grads[\"dbeta\"]\n",
    "        dbeta_0 = grads[\"dbeta_0\"]\n",
    "      \n",
    "        # updating procedure\n",
    "        beta = beta - learning_rate * dbeta  # \n",
    "        beta_0 = beta_0 - learning_rate * dbeta_0  #\n",
    "      \n",
    "        # record the costs\n",
    "        if i % 100 == 0:\n",
    "            costs.append(cost)\n",
    "      \n",
    "        # print the cost every 100 iterations\n",
    "        if print_cost and i % 100 == 0:\n",
    "            print (\"cost after iteration %i: %f\" %(i, cost))\n",
    "  \n",
    "    # save parameters and gradients in dictionary\n",
    "    params = {\"beta\": beta, \"beta_0\": beta_0}\n",
    "    grads = {\"dbeta\": dbeta, \"dbeta_0\": dbeta_0}\n",
    "  \n",
    "    return params, grads, costs"
   ]
  },
  {
   "cell_type": "markdown",
   "metadata": {},
   "source": [
    "We have introduced our first hyperparameter $\\eta$ in the gradient descent and now our second hyperparameter ($\\tau$, decision threshold) is used in the prediction step (2)."
   ]
  },
  {
   "cell_type": "code",
   "execution_count": 2612,
   "metadata": {},
   "outputs": [],
   "source": [
    "def predict(X_test, beta, beta_0, dec):\n",
    "    n = X_test.shape[1]\n",
    "    y_pred = np.zeros((1,n))\n",
    "    beta = beta.reshape(X_test.shape[0], 1)\n",
    "  \n",
    "    # compute vector y_log predicting the probabilities\n",
    "    y_log = predict_log(X_test, beta, beta_0)\n",
    "  \n",
    "    for i in range(y_log.shape[1]):\n",
    "      \n",
    "        # convert probabilities y_log to actual predictions y_pred\n",
    "        if y_log[0, i] > dec:\n",
    "            y_pred[0, i] = 1  #\n",
    "        else:\n",
    "            y_pred[0, i] = 0  #\n",
    "  \n",
    "    assert(y_pred.shape==(1, n))\n",
    "  \n",
    "    return y_pred"
   ]
  },
  {
   "cell_type": "code",
   "execution_count": 2613,
   "metadata": {},
   "outputs": [],
   "source": [
    "def model(X_train, y_train, X_test, y_test, dec, num_iterations, learning_rate, print_cost=False):\n",
    "    # initialize parameters with zeros\n",
    "    X_train=X_train.T\n",
    "    X_test=X_test.T\n",
    "    y_train=y_train.T\n",
    "    y_test=y_test.T\n",
    "    \n",
    "    beta, beta_0 = initialise(X_train.shape[0])\n",
    "\n",
    "    # gradient descent\n",
    "    parameters, grads, costs = optimise(X_train, y_train, beta, beta_0, num_iterations, learning_rate, print_cost=False)\n",
    "\n",
    "    # retrieve parameters beta and beta_0 from dictionary \"parameters\"\n",
    "    beta = parameters[\"beta\"]\n",
    "    beta_0 = parameters[\"beta_0\"]\n",
    "\n",
    "    # predict test and train set examples\n",
    "    y_pred_test = predict(X_test, beta, beta_0, dec)\n",
    "    y_pred_train = predict(X_train, beta, beta_0, dec)\n",
    "    \n",
    "    # saving all information\n",
    "    d = {\"costs\": costs, \"y_pred_test\": y_pred_test, \"y_pred_train\": y_pred_train, \"beta\": beta, \"beta_0\": beta_0, \"learning_rate\": learning_rate, \"num_iterations\": num_iterations}\n",
    "  \n",
    "    return d"
   ]
  },
  {
   "cell_type": "markdown",
   "metadata": {},
   "source": [
    "Now, to tune both hyperparameters, we use a grid search over a range of value of the learning rate and the decision threshold:\n",
    "- we train the logistic regression model on all pair of values \n",
    "- calculate and store in a matrix the accuracy of each model with the formula: mean_accuracy = $1 - \\frac{1}{N} \\underset{i=1}{\\sum}^{N} |\\hat{y}^{(i)} - y^{(i)} |$ \n",
    "- find the pair of hyperparameters ($\\tau^{*}$, $\\eta^{*}$) that maximises the accuracies of the models"
   ]
  },
  {
   "cell_type": "code",
   "execution_count": 2614,
   "metadata": {},
   "outputs": [],
   "source": [
    "def find_dec_learn(dec_terms,X_train,y_train,X_test,y_test,num_iterations,learn_terms):\n",
    "    accuracy=np.zeros((len(dec_terms),len(learn_terms)))\n",
    "    for i in range(len(dec_terms)):\n",
    "        dec=dec_terms[i]\n",
    "        for j in range(len(learn_terms)):\n",
    "            learn=learn_terms[j]\n",
    "            d=model(X_train, y_train, X_test, y_test, dec, num_iterations, learn, print_cost=False)            \n",
    "            accuracy[i:i+1,j:j+1]=1-np.mean(np.abs(d[\"y_pred_test\"] - y_test.T))\n",
    "    max_ac=np.argmax(accuracy)\n",
    "    index=[math.floor((max_ac)/len(learn_terms)),(max_ac)%len(learn_terms)] #this is the quotient and rest of max_ac/number of columns of accuracy\n",
    "    dec_best=dec_terms[index[0]]\n",
    "    learn_best=learn_terms[index[1]]\n",
    "    accuracy_best=accuracy[index[0]:index[0]+1,index[1]:index[1]+1]\n",
    "    return accuracy_best,accuracy,dec_best,learn_best"
   ]
  },
  {
   "cell_type": "markdown",
   "metadata": {},
   "source": [
    "Let's demonstrate this by applying it to one of the 5 folds, and measuring the accuracy with the corresponding validation subset."
   ]
  },
  {
   "cell_type": "code",
   "execution_count": 2615,
   "metadata": {},
   "outputs": [],
   "source": [
    "dec_terms=np.linspace(0.25,1,10)\n",
    "learn_terms=np.linspace(0.001,0.05,10)\n",
    "num_iterations=5000\n",
    "accuracy_best,accuracy,dec_best,learn_best=find_dec_learn(dec_terms,X_fold[1],y_fold[1],X_fold_test[1],y_fold_test[1],num_iterations,learn_terms)"
   ]
  },
  {
   "cell_type": "code",
   "execution_count": 2616,
   "metadata": {},
   "outputs": [
    {
     "name": "stdout",
     "output_type": "stream",
     "text": [
      "The optimal decision threshold is 0.25\n",
      "The optimal learning rate is 0.001\n"
     ]
    }
   ],
   "source": [
    "print('The optimal decision threshold is', dec_best)\n",
    "print('The optimal learning rate is', learn_best)"
   ]
  },
  {
   "cell_type": "code",
   "execution_count": 2284,
   "metadata": {},
   "outputs": [
    {
     "data": {
      "image/png": "[encoded data removed]",
      "text/plain": [
       "<Figure size 720x504 with 1 Axes>"
      ]
     },
     "metadata": {
      "needs_background": "light"
     },
     "output_type": "display_data"
    }
   ],
   "source": [
    "plt.figure(figsize=(10,7))\n",
    "plt.plot(dec_terms,accuracy)\n",
    "plt.xlabel('decision threshold terms')\n",
    "plt.ylabel('accuracy')\n",
    "plt.title('Plot of accuracies given learning rates with respect to decision threshold term', y=1.05, fontsize=18)\n",
    "plt.show()"
   ]
  },
  {
   "cell_type": "markdown",
   "metadata": {},
   "source": [
    "These curves corresponds to the accuracies evaluated at different learning rates $\\eta$ with respect to the decision threshold, and we clearly see the maximum is attained at aroung $\\tau \\approx 0.6$. "
   ]
  },
  {
   "cell_type": "markdown",
   "metadata": {},
   "source": [
    "We will now repeate this method to the 5 folds and take the optimal hyperparameters to be the parameters that maximise the mean of the 5 obtained accuracies. "
   ]
  },
  {
   "cell_type": "code",
   "execution_count": 2286,
   "metadata": {},
   "outputs": [],
   "source": [
    "import math\n",
    "#5-fold cross validation\n",
    "def find_model_log(X,y,dec_terms,learn_terms,num_iterations=5000):\n",
    "    # run the model with 2 for loops to chose hyperparameters learning rate and decision threshold \n",
    "    dec_best=[]\n",
    "    learn_best=[]\n",
    "    accuracy_mean=np.zeros((len(dec_terms),len(learn_terms)))\n",
    "    accuracy_best=[]\n",
    "    \n",
    "    X_fold,X_fold_test,y_fold,y_fold_test=split_5fold(X,y,5)\n",
    "    for i in range(5):\n",
    "        accuracy_best_i,accuracy,dec_best_i,learn_best_i=find_dec_learn(dec_terms,X_fold[i],y_fold[i],X_fold_test[i],y_fold_test[i],num_iterations,learn_terms)\n",
    "        accuracy_best.append(accuracy_best_i)\n",
    "        dec_best.append(dec_best_i)\n",
    "        learn_best.append(learn_best_i)\n",
    "        \n",
    "        accuracy_mean = accuracy_mean + accuracy\n",
    "    accuracy_mean=accuracy_mean/5 #calculate mean of accuracy over 5 fold\n",
    "    max_ac=np.argmax(accuracy_mean)\n",
    "    index=[math.floor((max_ac+1)/len(learn_terms)),(max_ac+1)%len(learn_terms)]\n",
    "    #best model over the average of 5 accuracies\n",
    "    dec_best_mean=dec_terms[index[0]] \n",
    "    learn_best_mean=learn_terms[index[1]]\n",
    "    accuracy_best_mean=accuracy[index]\n",
    "    return dec_best_mean,learn_best_mean,accuracy_best_mean,accuracy_best,dec_best,learn_best"
   ]
  },
  {
   "cell_type": "code",
   "execution_count": 2287,
   "metadata": {},
   "outputs": [],
   "source": [
    "# run the model with 2 for loops to chose hyperparameters learning rate and decision threshold \n",
    "dec_term=np.linspace(0.25,1,10)\n",
    "learn_terms=np.linspace(0.001,0.05,10)\n",
    "dec_best_mean,learn_best_mean,accuracy_best_mean,accuracy_best,dec_best,learn_best=find_model_log(X,y,dec_terms,learn_terms)\n"
   ]
  },
  {
   "cell_type": "code",
   "execution_count": 2288,
   "metadata": {},
   "outputs": [
    {
     "name": "stdout",
     "output_type": "stream",
     "text": [
      "The optimal decision threshold 0.5833333333333333\n",
      "The optimal learning rate 0.017333333333333333\n"
     ]
    }
   ],
   "source": [
    "print('The optimal decision threshold', dec_best_mean)\n",
    "print('The optimal learning rate', learn_best_mean)"
   ]
  },
  {
   "cell_type": "markdown",
   "metadata": {},
   "source": [
    "#### 2.1.2"
   ]
  },
  {
   "cell_type": "markdown",
   "metadata": {},
   "source": [
    "We have therefore, obtained the otpimal hyperparameters of our logistic regression model. Let's use it now to evaluate its accuracy with training and test data. "
   ]
  },
  {
   "cell_type": "code",
   "execution_count": 2359,
   "metadata": {},
   "outputs": [],
   "source": [
    "def mean_accuracies_in_out(X,y,X_test,y_test,dec_best_mean,learn_best_mean, num_iterations, print_cost=False):            \n",
    "    d=model(X, y, X_test, y_test, dec_best_mean, num_iterations, learn_best_mean, print_cost=False)\n",
    "    accuracy_in=1-np.mean(np.abs(d[\"y_pred_train\"] - y.T))\n",
    "    accuracy_out=1-np.mean(np.abs(d[\"y_pred_test\"] - y_test.T))\n",
    "    y_pred=d[\"y_pred_train\"]\n",
    "    y_pred_test=d[\"y_pred_test\"]\n",
    "    return accuracy_in,accuracy_out,y_pred,y_pred_test"
   ]
  },
  {
   "cell_type": "code",
   "execution_count": 2617,
   "metadata": {},
   "outputs": [],
   "source": [
    "accuracy_in,accuracy_out,y_pred,y_pred_test=mean_accuracies_in_out(X,y,X_test,y_test,dec_best_mean,learn_best_mean, num_iterations, print_cost=False)"
   ]
  },
  {
   "cell_type": "code",
   "execution_count": 2618,
   "metadata": {},
   "outputs": [
    {
     "name": "stdout",
     "output_type": "stream",
     "text": [
      "The in-sample accuracy 73.875\n",
      "The out-of-sample accuracy 71.50000000000001\n"
     ]
    }
   ],
   "source": [
    "print('The in-sample accuracy', 100*accuracy_in)\n",
    "print('The out-of-sample accuracy', 100*accuracy_out)"
   ]
  },
  {
   "cell_type": "markdown",
   "metadata": {},
   "source": [
    "These accuracies are pretty satisfying: it is coherent that the training data gives a better accuracy than the accuracy on the test data. Let's explain in more detail if the errors are of type I or type II using the confusion matrix above."
   ]
  },
  {
   "cell_type": "code",
   "execution_count": 2619,
   "metadata": {},
   "outputs": [],
   "source": [
    "def confusion_matrix_lr(y_preds,y_test):\n",
    "    #when positive is 1 and negative is 0\n",
    "    TP=np.float(np.sum(y_preds.T+y_test==2)) #true positives\n",
    "    TN=np.float(np.sum(y_preds.T+y_test==0)) #true negatives\n",
    "    FP=np.sum(y_preds==1)-TP #false positives = positives - true positives\n",
    "    FN=np.sum(y_preds==0)-TN #false negatives = negatives - true negatives\n",
    "    return TP,TN,FP,FN"
   ]
  },
  {
   "cell_type": "code",
   "execution_count": 2620,
   "metadata": {},
   "outputs": [],
   "source": [
    "TP,TN,FP,FN = confusion_matrix_lr(y_pred,y)\n",
    "TP_test,TN_test,FP_test,FN_test = confusion_matrix_lr(y_pred_test,y_test)"
   ]
  },
  {
   "cell_type": "code",
   "execution_count": 2621,
   "metadata": {},
   "outputs": [
    {
     "name": "stdout",
     "output_type": "stream",
     "text": [
      "Confusion matrix for training data\n",
      "TP= 501.0 FP= 147.0\n",
      "FN= 62.0 TN= 90.0\n",
      "in-sample score 0.73875\n",
      "in-sample F1 score 0.8274153592072667\n"
     ]
    }
   ],
   "source": [
    "print('Confusion matrix for training data')\n",
    "print('TP=', TP, 'FP=', FP)\n",
    "print('FN=', FN,'TN=',TN)\n",
    "print('in-sample score', (TN+TP)/800)\n",
    "print('in-sample F1 score', (2*TP)/(2*TP + FP + FN))"
   ]
  },
  {
   "cell_type": "code",
   "execution_count": 2624,
   "metadata": {},
   "outputs": [
    {
     "name": "stdout",
     "output_type": "stream",
     "text": [
      "Confusion matrix for test data\n",
      "TP= 118.0 FP= 38.0\n",
      "FN= 19.0 TN= 25.0\n",
      "out-of-sample score 0.715\n",
      "out-of-sample F1 score 0.8054607508532423\n"
     ]
    }
   ],
   "source": [
    "print('Confusion matrix for test data')\n",
    "print('TP=', TP_test, 'FP=', FP_test)\n",
    "print('FN=', FN_test,'TN=',TN_test)\n",
    "print('out-of-sample score', (TN_test+TP_test)/200)\n",
    "print('out-of-sample F1 score', (2*TP_test)/(2*TP_test + FP_test + FN_test))"
   ]
  },
  {
   "cell_type": "markdown",
   "metadata": {},
   "source": [
    "Therefore, to conclude on the performance of our model: from the confusion matrices, it performes better in our training data than the test data, but keeping relatively good predictions. When the mean accuracy we have calculated doesn't quantify the number of each error types, the confusion matrix tells us that the model gives more of type I error (false positives) than type II (false negatives). Let's explore another method: the random forest and compare the performances."
   ]
  },
  {
   "cell_type": "markdown",
   "metadata": {},
   "source": [
    "### 2.2 Random forest"
   ]
  },
  {
   "cell_type": "markdown",
   "metadata": {},
   "source": [
    "We start by reloading the classification data, as below."
   ]
  },
  {
   "cell_type": "code",
   "execution_count": 2628,
   "metadata": {},
   "outputs": [],
   "source": [
    "classification_train = pd.read_csv (r'/Users/camillekeisser/Documents/IMPERIAL/YEAR 3/Data Science/Coursework 1/classification_train.csv')\n",
    "classification_test = pd.read_csv (r'/Users/camillekeisser/Documents/IMPERIAL/YEAR 3/Data Science/Coursework 1/classification_test.csv')"
   ]
  },
  {
   "cell_type": "code",
   "execution_count": 2629,
   "metadata": {},
   "outputs": [],
   "source": [
    "X=pd.DataFrame(classification_train.drop(['11'],axis=1),)\n",
    "y=classification_train['11']\n",
    "X_train=X.values\n",
    "y_train=y.values\n",
    "\n",
    "X_test=pd.DataFrame(classification_test.drop(['11'],axis=1))\n",
    "y_test=classification_test['11']\n",
    "X_test=X_test.values\n",
    "y_test=y_test.values\n",
    "\n",
    "y_train[y_train == 0] = -1 #set negative to be -1 \n",
    "y_test[y_test == 0] = -1\n",
    "\n",
    "y_train = y_train.astype(float)\n",
    "y_test = y_test.astype(float)"
   ]
  },
  {
   "cell_type": "markdown",
   "metadata": {},
   "source": [
    "#### 2.2.1"
   ]
  },
  {
   "cell_type": "markdown",
   "metadata": {},
   "source": [
    "To explain how the random forest classification model, we first need to explain how a decision tree works. \n",
    "Decision trees are a non-parametric supervised learning method whose goal is to create a model that predicts the value of the label by learning simple decision rules inferred from the data features. We can interpret these learnt decisions as a set of _if-then-else_ decision rules. In general the deeper the tree (the more learnt decisions), the more precise the decision rules and the fitter the model, but we need to watch out overfitting. A random forest is a set of decision trees with a certain randomness coming from the sample of feature randomly chosen at each spliot and the sample of observations randomly chosen to train each tree.   \n",
    "We will firstly, have a look at how a tree is built:\n",
    "- step (1) calculate the cross entropy for each vector y to quantify information\n",
    "- step (2) chose the best feature and value to split the data (the optimal split minimises the value of the cross-entropy)\n",
    "- step (3) repeat the splitting step until some conditions are met: maximum depth of tree, minimum size of leaf, ... "
   ]
  },
  {
   "cell_type": "markdown",
   "metadata": {},
   "source": [
    "In our lectures, we have learnt how the cross entropy of the labels $\\boldsymbol y$ is calculated:\n",
    "$$\n",
    "\\text{CE}(P(Y =\\boldsymbol y)) = \\sum_{i=1}^N P(Y=y) \\mathrm{log}(1 - P(Y=y))\n",
    "$$\n",
    "\n",
    "Our data is set to have  uniform sample weights, but the next code calculates the cross entropy for y considering potentially samples with different weights `sample_weights`."
   ]
  },
  {
   "cell_type": "code",
   "execution_count": 2630,
   "metadata": {},
   "outputs": [],
   "source": [
    "import math\n",
    "# cross-entropy\n",
    "def cross_entropy(y, sample_weights=None):\n",
    "\n",
    "    if sample_weights is None: #for uniform distributed data\n",
    "        sample_weights = np.ones(y.shape[0]) / y.shape[0]\n",
    "  \n",
    "    CE = 0 #initialize cross entropy\n",
    "    num = y.shape[0]  # number of labels\n",
    "    label_counts = {}  # caculate different labels in y，and store in label_counts\n",
    "    for i in range(num):\n",
    "        if y[i] not in label_counts.keys():\n",
    "            label_counts[y[i]] = 0\n",
    "        label_counts[y[i]] += sample_weights[i]\n",
    "  \n",
    "    for key in label_counts:\n",
    "        prob = float(label_counts[key]) / float(np.sum(sample_weights))\n",
    "        CE += (1-prob) * math.log(prob) # formula from lecture notes exchanging p and q\n",
    "\n",
    "    return CE"
   ]
  },
  {
   "cell_type": "markdown",
   "metadata": {},
   "source": [
    "Next is the function that splits the data set with respect to the given column and value. The idea is to find the optimal value and column to minimise the cross-entropy."
   ]
  },
  {
   "cell_type": "code",
   "execution_count": 2631,
   "metadata": {},
   "outputs": [],
   "source": [
    "def split_dataset(X, y, column, value, sample_weights=None):\n",
    "  region1 = []\n",
    "  region2 = []\n",
    "  featVec = X[:, column]  \n",
    "  for i in range(len(featVec)):\n",
    "      if featVec[i] <= value:\n",
    "          region1.append(i)\n",
    "      else:\n",
    "          region2.append(i)     \n",
    "  X1 = X[region1,:]\n",
    "  y1 = y[region1]\n",
    "  X2 = X[region2,:]\n",
    "  y2 = y[region2]\n",
    "  # returns list of splits, implemente das tuples. A few ways to do this.\n",
    "  if (sample_weights is None):\n",
    "      return [(X1, y1), (X2, y2)]\n",
    "  else:\n",
    "      return [(X1, y1, sample_weights[region1]) , (X2, y2, sample_weights[region2])]\n",
    "\n",
    "\n",
    "  region1 = []\n",
    "  region2 = []\n",
    "  featVec = X[:, column]  \n",
    "  for i in range(len(featVec)):\n",
    "      if featVec[i] <= value:\n",
    "          region1.append(i)\n",
    "      else:\n",
    "          region2.append(i)     \n",
    "  X1 = X[region1,:]\n",
    "  y1 = y[region1]\n",
    "  X2 = X[region2,:]\n",
    "  y2 = y[region2]\n",
    "  # returns list of splits, implemente das tuples. A few ways to do this.\n",
    "  if (sample_weights is None):\n",
    "      return [(X1, y1), (X2, y2)]\n",
    "  else:\n",
    "      return [(X1, y1, sample_weights[region1]) , (X2, y2, sample_weights[region2])]"
   ]
  },
  {
   "cell_type": "markdown",
   "metadata": {},
   "source": [
    "To solve the otpimisation problem: $\\underset{(j,s)}{\\mathrm{min}} CE(P( Y \\in R_{\\alpha}))$\n",
    "we write the function below that reduces the cross-entropy as much as possible give j and s. "
   ]
  },
  {
   "cell_type": "code",
   "execution_count": 2632,
   "metadata": {},
   "outputs": [],
   "source": [
    "def cross_entropy_purification(X, y, column, value, sample_weights=None):\n",
    "    if sample_weights is None:\n",
    "        sample_weights = np.ones(y.shape[0]) / y.shape[0]\n",
    "  \n",
    "    new_impurity = 0\n",
    "    old_cost = cross_entropy(y, sample_weights)\n",
    "  \n",
    "    unique_vals = np.unique(X[:, column])\n",
    "    new_cost = 0.0\n",
    "    #split the values of i-th feature and calculate the cost \n",
    "    for sub_X, sub_y, sub_sample_weights in split_dataset(X, y, column, value, sample_weights): #split data for every unique value\n",
    "        prob = np.sum(sub_sample_weights) / float(np.sum(sample_weights))\n",
    "        new_cost += prob * cross_entropy(sub_y, sub_sample_weights) #update the cost\n",
    "    new_impurity = old_cost - new_cost # information gain\n",
    "\n",
    "    return new_impurity"
   ]
  },
  {
   "cell_type": "markdown",
   "metadata": {},
   "source": [
    "Proceed to the minimisation step."
   ]
  },
  {
   "cell_type": "code",
   "execution_count": 2633,
   "metadata": {},
   "outputs": [],
   "source": [
    "def choose_best_feature(X, y, max_feature, sample_weights=None):\n",
    "  if sample_weights is None:\n",
    "      sample_weights = np.ones(y.shape[0]) / y.shape[0]\n",
    "  \n",
    "  n_features = max_feature\n",
    "  best_split=None\n",
    "  best_gain_cost = -1e15\n",
    "  N,D=X.shape\n",
    "  chosen_features=np.sort(np.array(random.sample(range(D),max_feature)))\n",
    "    \n",
    "  for i in chosen_features:\n",
    "      unique_vals = np.sort(np.unique(X[:, np.int(i)]))\n",
    "      for v in unique_vals:\n",
    "          info_gain_cost = cross_entropy_purification(X, y, np.int(i), v, sample_weights )\n",
    "          #print(i,v,info_gain_cost)\n",
    "          if info_gain_cost > best_gain_cost:\n",
    "              best_gain_cost = info_gain_cost\n",
    "              best_split = (np.int(i),v)               \n",
    "  return best_split"
   ]
  },
  {
   "cell_type": "markdown",
   "metadata": {},
   "source": [
    "The majority_vote function takes now as input a variable y and returns the majority label $\\hat{y}$ of its region. "
   ]
  },
  {
   "cell_type": "code",
   "execution_count": 2653,
   "metadata": {},
   "outputs": [],
   "source": [
    "def majority_vote(y, sample_weights=None):\n",
    "    if sample_weights is None:\n",
    "        sample_weights = np.ones(y.shape[0]) / y.shape[0]\n",
    "  \n",
    "    majority_label = y[0]\n",
    "\n",
    "    dict_num = {}\n",
    "    for i in range(y.shape[0]):\n",
    "        if y[i] not in dict_num.keys():\n",
    "            dict_num[y[i]] = sample_weights[i]\n",
    "        else:\n",
    "            dict_num[y[i]] += sample_weights[i]\n",
    "  \n",
    "    majority_label = max(dict_num, key=dict_num.get)\n",
    "    # end answer\n",
    "    return majority_label"
   ]
  },
  {
   "cell_type": "markdown",
   "metadata": {},
   "source": [
    "We now build the tree by storing all the splits and the majority label of the last splits."
   ]
  },
  {
   "cell_type": "code",
   "execution_count": 2654,
   "metadata": {},
   "outputs": [],
   "source": [
    "def build_tree(X, y, feature_names, max_depth, min_samples_leaf,depth, max_feature, sample_weights=None):\n",
    "  \"\"\"\n",
    "  Build the decision tree according to the data.\n",
    "  \"\"\"\n",
    "  mytree = dict()\n",
    "  weight_start=np.array([np.sum(y==-1),np.sum(y==1)]) #used later on for empty leaves\n",
    "  # include a clause for the cases where (i) no feature, (ii) all lables are the same, \n",
    "  # (iii) depth exceed, or (iv) X is too small\n",
    "  if len(X)==0: \n",
    "    mytree = {'node':'leaf' , 'label': random.choices((-1,1), weight_start)[0] } #when the leaf is empty generate a weighted random\n",
    "  elif len(feature_names)==0 or len(np.unique(y))==1 or depth>=max_depth or len(X)<=min_samples_leaf:\n",
    "    mytree = {'node':'leaf' ,  'label': majority_vote(y, sample_weights) }\n",
    "  else:\n",
    "    best_feature_idx, value = choose_best_feature(X, y, max_feature, None)\n",
    "    best_feature_name = feature_names[best_feature_idx]\n",
    "    feature_names = feature_names[:]\n",
    "    splits = split_dataset(X, y, best_feature_idx, value, sample_weights)\n",
    "    mytree = { 'node':'split', 'feature_name':best_feature_name, 'value':value }\n",
    "    mytree['left'] = build_tree(splits[0][0], splits[0][1], feature_names, max_depth, min_samples_leaf, depth+1, max_feature, splits[0][2])\n",
    "    mytree['right'] = build_tree(splits[1][0], splits[1][1], feature_names, max_depth, min_samples_leaf, depth+1,max_feature, splits[1][2]) \n",
    "\n",
    "  return mytree"
   ]
  },
  {
   "cell_type": "code",
   "execution_count": 2655,
   "metadata": {},
   "outputs": [],
   "source": [
    "def train(X, y, max_depth=10, min_samples_leaf=3, depth=1, max_feature=5, sample_weights=None):\n",
    "  \"\"\"\n",
    "  Build the decision tree according to the training data.\n",
    "  \"\"\"\n",
    "  if sample_weights is None:\n",
    "      sample_weights = np.ones(X.shape[0]) / X.shape[0] # uniform weights\n",
    "  else:\n",
    "      sample_weights = np.array(sample_weights) / np.sum(sample_weights)\n",
    "\n",
    "  feature_names = range(11)\n",
    "  X = np.array(X)\n",
    "  y = np.array(y)\n",
    "  tree = build_tree(X, y, feature_names,  max_depth=10, min_samples_leaf=3, depth=1, max_feature=5, sample_weights=sample_weights)\n",
    "  return tree"
   ]
  },
  {
   "cell_type": "markdown",
   "metadata": {},
   "source": [
    "Let's train a tree to have an idea of its structure. The aim is to classify new input points and assign the majority class (1 or -1) of the points inside the corresponding leaf. "
   ]
  },
  {
   "cell_type": "code",
   "execution_count": 2656,
   "metadata": {
    "scrolled": false
   },
   "outputs": [
    {
     "data": {
      "text/plain": [
       "{'node': 'split',\n",
       " 'feature_name': 3,\n",
       " 'value': 0.25,\n",
       " 'left': {'node': 'split',\n",
       "  'feature_name': 0,\n",
       "  'value': 0.33799999999999997,\n",
       "  'left': {'node': 'split',\n",
       "   'feature_name': 0,\n",
       "   'value': 0.0441,\n",
       "   'left': {'node': 'split',\n",
       "    'feature_name': 9,\n",
       "    'value': 0.667,\n",
       "    'left': {'node': 'split',\n",
       "     'feature_name': 3,\n",
       "     'value': 0.25,\n",
       "     'left': {'node': 'split',\n",
       "      'feature_name': 0,\n",
       "      'value': 0.0441,\n",
       "      'left': {'node': 'split',\n",
       "       'feature_name': 3,\n",
       "       'value': 0.25,\n",
       "       'left': {'node': 'split',\n",
       "        'feature_name': 0,\n",
       "        'value': 0.0441,\n",
       "        'left': {'node': 'split',\n",
       "         'feature_name': 0,\n",
       "         'value': 0.0441,\n",
       "         'left': {'node': 'leaf', 'label': 1.0},\n",
       "         'right': {'node': 'leaf', 'label': 1}},\n",
       "        'right': {'node': 'leaf', 'label': 1}},\n",
       "       'right': {'node': 'leaf', 'label': 1}},\n",
       "      'right': {'node': 'leaf', 'label': 1}},\n",
       "     'right': {'node': 'leaf', 'label': 1}},\n",
       "    'right': {'node': 'leaf', 'label': 1.0}},\n",
       "   'right': {'node': 'split',\n",
       "    'feature_name': 2,\n",
       "    'value': 0.41600000000000004,\n",
       "    'left': {'node': 'split',\n",
       "     'feature_name': 1,\n",
       "     'value': 0.75,\n",
       "     'left': {'node': 'split',\n",
       "      'feature_name': 4,\n",
       "      'value': 0.25,\n",
       "      'left': {'node': 'split',\n",
       "       'feature_name': 1,\n",
       "       'value': 0.25,\n",
       "       'left': {'node': 'split',\n",
       "        'feature_name': 0,\n",
       "        'value': 0.20600000000000002,\n",
       "        'left': {'node': 'split',\n",
       "         'feature_name': 0,\n",
       "         'value': 0.20600000000000002,\n",
       "         'left': {'node': 'leaf', 'label': -1.0},\n",
       "         'right': {'node': 'leaf', 'label': 1}},\n",
       "        'right': {'node': 'leaf', 'label': 1}},\n",
       "       'right': {'node': 'split',\n",
       "        'feature_name': 8,\n",
       "        'value': 0.107,\n",
       "        'left': {'node': 'split',\n",
       "         'feature_name': 2,\n",
       "         'value': 0.0781,\n",
       "         'left': {'node': 'leaf', 'label': -1.0},\n",
       "         'right': {'node': 'leaf', 'label': 1.0}},\n",
       "        'right': {'node': 'split',\n",
       "         'feature_name': 2,\n",
       "         'value': 0.0645,\n",
       "         'left': {'node': 'leaf', 'label': -1.0},\n",
       "         'right': {'node': 'leaf', 'label': 1.0}}}},\n",
       "      'right': {'node': 'split',\n",
       "       'feature_name': 7,\n",
       "       'value': 0.667,\n",
       "       'left': {'node': 'split',\n",
       "        'feature_name': 5,\n",
       "        'value': 0.667,\n",
       "        'left': {'node': 'split',\n",
       "         'feature_name': 0,\n",
       "         'value': 0.11800000000000001,\n",
       "         'left': {'node': 'leaf', 'label': 1.0},\n",
       "         'right': {'node': 'leaf', 'label': 1.0}},\n",
       "        'right': {'node': 'split',\n",
       "         'feature_name': 7,\n",
       "         'value': 0.0,\n",
       "         'left': {'node': 'leaf', 'label': 1.0},\n",
       "         'right': {'node': 'leaf', 'label': 1.0}}},\n",
       "       'right': {'node': 'split',\n",
       "        'feature_name': 6,\n",
       "        'value': 0.33299999999999996,\n",
       "        'left': {'node': 'split',\n",
       "         'feature_name': 1,\n",
       "         'value': 0.75,\n",
       "         'left': {'node': 'leaf', 'label': 1.0},\n",
       "         'right': {'node': 'leaf', 'label': 1}},\n",
       "        'right': {'node': 'split',\n",
       "         'feature_name': 2,\n",
       "         'value': 0.155,\n",
       "         'left': {'node': 'leaf', 'label': 1.0},\n",
       "         'right': {'node': 'leaf', 'label': -1.0}}}}},\n",
       "     'right': {'node': 'split',\n",
       "      'feature_name': 0,\n",
       "      'value': 0.162,\n",
       "      'left': {'node': 'split',\n",
       "       'feature_name': 9,\n",
       "       'value': 0.667,\n",
       "       'left': {'node': 'split',\n",
       "        'feature_name': 2,\n",
       "        'value': 0.0243,\n",
       "        'left': {'node': 'split',\n",
       "         'feature_name': 0,\n",
       "         'value': 0.11800000000000001,\n",
       "         'left': {'node': 'leaf', 'label': 1.0},\n",
       "         'right': {'node': 'leaf', 'label': 1}},\n",
       "        'right': {'node': 'split',\n",
       "         'feature_name': 1,\n",
       "         'value': 1.0,\n",
       "         'left': {'node': 'leaf', 'label': 1.0},\n",
       "         'right': {'node': 'leaf', 'label': 1}}},\n",
       "       'right': {'node': 'split',\n",
       "        'feature_name': 2,\n",
       "        'value': 0.0886,\n",
       "        'left': {'node': 'split',\n",
       "         'feature_name': 0,\n",
       "         'value': 0.11800000000000001,\n",
       "         'left': {'node': 'leaf', 'label': 1.0},\n",
       "         'right': {'node': 'leaf', 'label': 1}},\n",
       "        'right': {'node': 'leaf', 'label': -1.0}}},\n",
       "      'right': {'node': 'split',\n",
       "       'feature_name': 5,\n",
       "       'value': 0.33299999999999996,\n",
       "       'left': {'node': 'split',\n",
       "        'feature_name': 9,\n",
       "        'value': 0.33299999999999996,\n",
       "        'left': {'node': 'split',\n",
       "         'feature_name': 3,\n",
       "         'value': 0.0,\n",
       "         'left': {'node': 'leaf', 'label': -1.0},\n",
       "         'right': {'node': 'leaf', 'label': 1}},\n",
       "        'right': {'node': 'split',\n",
       "         'feature_name': 2,\n",
       "         'value': 0.139,\n",
       "         'left': {'node': 'leaf', 'label': -1.0},\n",
       "         'right': {'node': 'leaf', 'label': 1.0}}},\n",
       "       'right': {'node': 'split',\n",
       "        'feature_name': 0,\n",
       "        'value': 0.235,\n",
       "        'left': {'node': 'split',\n",
       "         'feature_name': 2,\n",
       "         'value': 0.10300000000000001,\n",
       "         'left': {'node': 'leaf', 'label': 1.0},\n",
       "         'right': {'node': 'leaf', 'label': 1.0}},\n",
       "        'right': {'node': 'split',\n",
       "         'feature_name': 8,\n",
       "         'value': 0.625,\n",
       "         'left': {'node': 'leaf', 'label': 1.0},\n",
       "         'right': {'node': 'leaf', 'label': 1.0}}}}}},\n",
       "    'right': {'node': 'split',\n",
       "     'feature_name': 0,\n",
       "     'value': 0.33799999999999997,\n",
       "     'left': {'node': 'split',\n",
       "      'feature_name': 0,\n",
       "      'value': 0.33799999999999997,\n",
       "      'left': {'node': 'split',\n",
       "       'feature_name': 3,\n",
       "       'value': 0.0,\n",
       "       'left': {'node': 'split',\n",
       "        'feature_name': 0,\n",
       "        'value': 0.33799999999999997,\n",
       "        'left': {'node': 'split',\n",
       "         'feature_name': 2,\n",
       "         'value': 0.6779999999999999,\n",
       "         'left': {'node': 'leaf', 'label': -1.0},\n",
       "         'right': {'node': 'leaf', 'label': 1}},\n",
       "        'right': {'node': 'leaf', 'label': 1}},\n",
       "       'right': {'node': 'leaf', 'label': 1}},\n",
       "      'right': {'node': 'leaf', 'label': 1}},\n",
       "     'right': {'node': 'leaf', 'label': 1}}}},\n",
       "  'right': {'node': 'split',\n",
       "   'feature_name': 2,\n",
       "   'value': 0.113,\n",
       "   'left': {'node': 'split',\n",
       "    'feature_name': 0,\n",
       "    'value': 0.603,\n",
       "    'left': {'node': 'split',\n",
       "     'feature_name': 0,\n",
       "     'value': 0.603,\n",
       "     'left': {'node': 'split',\n",
       "      'feature_name': 2,\n",
       "      'value': 0.113,\n",
       "      'left': {'node': 'split',\n",
       "       'feature_name': 2,\n",
       "       'value': 0.113,\n",
       "       'left': {'node': 'split',\n",
       "        'feature_name': 1,\n",
       "        'value': 0.75,\n",
       "        'left': {'node': 'split',\n",
       "         'feature_name': 1,\n",
       "         'value': 0.75,\n",
       "         'left': {'node': 'leaf', 'label': -1.0},\n",
       "         'right': {'node': 'leaf', 'label': 1}},\n",
       "        'right': {'node': 'leaf', 'label': 1}},\n",
       "       'right': {'node': 'leaf', 'label': 1}},\n",
       "      'right': {'node': 'leaf', 'label': 1}},\n",
       "     'right': {'node': 'leaf', 'label': 1}},\n",
       "    'right': {'node': 'leaf', 'label': 1}},\n",
       "   'right': {'node': 'split',\n",
       "    'feature_name': 8,\n",
       "    'value': 0.179,\n",
       "    'left': {'node': 'split',\n",
       "     'feature_name': 2,\n",
       "     'value': 0.282,\n",
       "     'left': {'node': 'split',\n",
       "      'feature_name': 2,\n",
       "      'value': 0.13699999999999998,\n",
       "      'left': {'node': 'split',\n",
       "       'feature_name': 0,\n",
       "       'value': 0.47100000000000003,\n",
       "       'left': {'node': 'split',\n",
       "        'feature_name': 0,\n",
       "        'value': 0.47100000000000003,\n",
       "        'left': {'node': 'split',\n",
       "         'feature_name': 0,\n",
       "         'value': 0.47100000000000003,\n",
       "         'left': {'node': 'leaf', 'label': 1.0},\n",
       "         'right': {'node': 'leaf', 'label': 1}},\n",
       "        'right': {'node': 'leaf', 'label': 1}},\n",
       "       'right': {'node': 'leaf', 'label': 1}},\n",
       "      'right': {'node': 'split',\n",
       "       'feature_name': 5,\n",
       "       'value': 0.33299999999999996,\n",
       "       'left': {'node': 'split',\n",
       "        'feature_name': 1,\n",
       "        'value': 0.75,\n",
       "        'left': {'node': 'split',\n",
       "         'feature_name': 0,\n",
       "         'value': 0.647,\n",
       "         'left': {'node': 'leaf', 'label': 1.0},\n",
       "         'right': {'node': 'leaf', 'label': 1}},\n",
       "        'right': {'node': 'leaf', 'label': -1.0}},\n",
       "       'right': {'node': 'split',\n",
       "        'feature_name': 4,\n",
       "        'value': 0.5,\n",
       "        'left': {'node': 'split',\n",
       "         'feature_name': 3,\n",
       "         'value': 0.0,\n",
       "         'left': {'node': 'leaf', 'label': -1.0},\n",
       "         'right': {'node': 'leaf', 'label': -1.0}},\n",
       "        'right': {'node': 'split',\n",
       "         'feature_name': 8,\n",
       "         'value': 0.125,\n",
       "         'left': {'node': 'leaf', 'label': -1.0},\n",
       "         'right': {'node': 'leaf', 'label': -1.0}}}}},\n",
       "     'right': {'node': 'split',\n",
       "      'feature_name': 1,\n",
       "      'value': 0.5,\n",
       "      'left': {'node': 'split',\n",
       "       'feature_name': 1,\n",
       "       'value': 0.5,\n",
       "       'left': {'node': 'split',\n",
       "        'feature_name': 2,\n",
       "        'value': 0.8490000000000001,\n",
       "        'left': {'node': 'split',\n",
       "         'feature_name': 0,\n",
       "         'value': 1.0,\n",
       "         'left': {'node': 'leaf', 'label': -1.0},\n",
       "         'right': {'node': 'leaf', 'label': 1}},\n",
       "        'right': {'node': 'leaf', 'label': 1}},\n",
       "       'right': {'node': 'leaf', 'label': 1}},\n",
       "      'right': {'node': 'split',\n",
       "       'feature_name': 2,\n",
       "       'value': 0.848,\n",
       "       'left': {'node': 'split',\n",
       "        'feature_name': 1,\n",
       "        'value': 1.0,\n",
       "        'left': {'node': 'split',\n",
       "         'feature_name': 0,\n",
       "         'value': 0.8240000000000001,\n",
       "         'left': {'node': 'leaf', 'label': -1.0},\n",
       "         'right': {'node': 'leaf', 'label': 1}},\n",
       "        'right': {'node': 'leaf', 'label': 1}},\n",
       "       'right': {'node': 'leaf', 'label': 1}}}},\n",
       "    'right': {'node': 'split',\n",
       "     'feature_name': 0,\n",
       "     'value': 0.632,\n",
       "     'left': {'node': 'split',\n",
       "      'feature_name': 8,\n",
       "      'value': 0.375,\n",
       "      'left': {'node': 'split',\n",
       "       'feature_name': 2,\n",
       "       'value': 0.231,\n",
       "       'left': {'node': 'split',\n",
       "        'feature_name': 8,\n",
       "        'value': 0.214,\n",
       "        'left': {'node': 'split',\n",
       "         'feature_name': 0,\n",
       "         'value': 0.47100000000000003,\n",
       "         'left': {'node': 'leaf', 'label': -1.0},\n",
       "         'right': {'node': 'leaf', 'label': 1}},\n",
       "        'right': {'node': 'split',\n",
       "         'feature_name': 2,\n",
       "         'value': 0.231,\n",
       "         'left': {'node': 'leaf', 'label': 1.0},\n",
       "         'right': {'node': 'leaf', 'label': 1}}},\n",
       "       'right': {'node': 'split',\n",
       "        'feature_name': 0,\n",
       "        'value': 0.632,\n",
       "        'left': {'node': 'split',\n",
       "         'feature_name': 2,\n",
       "         'value': 0.6459999999999999,\n",
       "         'left': {'node': 'leaf', 'label': 1.0},\n",
       "         'right': {'node': 'leaf', 'label': 1}},\n",
       "        'right': {'node': 'leaf', 'label': 1}}},\n",
       "      'right': {'node': 'split',\n",
       "       'feature_name': 1,\n",
       "       'value': 0.5,\n",
       "       'left': {'node': 'split',\n",
       "        'feature_name': 5,\n",
       "        'value': 0.33299999999999996,\n",
       "        'left': {'node': 'split',\n",
       "         'feature_name': 0,\n",
       "         'value': 0.5589999999999999,\n",
       "         'left': {'node': 'leaf', 'label': 1.0},\n",
       "         'right': {'node': 'leaf', 'label': 1}},\n",
       "        'right': {'node': 'split',\n",
       "         'feature_name': 3,\n",
       "         'value': 0.25,\n",
       "         'left': {'node': 'leaf', 'label': -1.0},\n",
       "         'right': {'node': 'leaf', 'label': 1}}},\n",
       "       'right': {'node': 'split',\n",
       "        'feature_name': 3,\n",
       "        'value': 0.25,\n",
       "        'left': {'node': 'split',\n",
       "         'feature_name': 0,\n",
       "         'value': 0.5589999999999999,\n",
       "         'left': {'node': 'leaf', 'label': 1.0},\n",
       "         'right': {'node': 'leaf', 'label': 1}},\n",
       "        'right': {'node': 'leaf', 'label': 1}}}},\n",
       "     'right': {'node': 'split',\n",
       "      'feature_name': 8,\n",
       "      'value': 0.214,\n",
       "      'left': {'node': 'split',\n",
       "       'feature_name': 1,\n",
       "       'value': 1.0,\n",
       "       'left': {'node': 'split',\n",
       "        'feature_name': 0,\n",
       "        'value': 0.647,\n",
       "        'left': {'node': 'split',\n",
       "         'feature_name': 0,\n",
       "         'value': 0.647,\n",
       "         'left': {'node': 'leaf', 'label': 1.0},\n",
       "         'right': {'node': 'leaf', 'label': 1}},\n",
       "        'right': {'node': 'leaf', 'label': 1}},\n",
       "       'right': {'node': 'leaf', 'label': 1}},\n",
       "      'right': {'node': 'split',\n",
       "       'feature_name': 2,\n",
       "       'value': 0.5529999999999999,\n",
       "       'left': {'node': 'split',\n",
       "        'feature_name': 0,\n",
       "        'value': 0.8240000000000001,\n",
       "        'left': {'node': 'split',\n",
       "         'feature_name': 1,\n",
       "         'value': 1.0,\n",
       "         'left': {'node': 'leaf', 'label': -1.0},\n",
       "         'right': {'node': 'leaf', 'label': 1}},\n",
       "        'right': {'node': 'leaf', 'label': 1}},\n",
       "       'right': {'node': 'split',\n",
       "        'feature_name': 2,\n",
       "        'value': 1.0,\n",
       "        'left': {'node': 'split',\n",
       "         'feature_name': 0,\n",
       "         'value': 0.8240000000000001,\n",
       "         'left': {'node': 'leaf', 'label': -1.0},\n",
       "         'right': {'node': 'leaf', 'label': 1}},\n",
       "        'right': {'node': 'leaf', 'label': 1}}}}}}}},\n",
       " 'right': {'node': 'split',\n",
       "  'feature_name': 1,\n",
       "  'value': 0.75,\n",
       "  'left': {'node': 'split',\n",
       "   'feature_name': 8,\n",
       "   'value': 0.0536,\n",
       "   'left': {'node': 'split',\n",
       "    'feature_name': 0,\n",
       "    'value': 0.294,\n",
       "    'left': {'node': 'split',\n",
       "     'feature_name': 0,\n",
       "     'value': 0.294,\n",
       "     'left': {'node': 'split',\n",
       "      'feature_name': 1,\n",
       "      'value': 0.5,\n",
       "      'left': {'node': 'split',\n",
       "       'feature_name': 2,\n",
       "       'value': 0.243,\n",
       "       'left': {'node': 'split',\n",
       "        'feature_name': 2,\n",
       "        'value': 0.243,\n",
       "        'left': {'node': 'split',\n",
       "         'feature_name': 0,\n",
       "         'value': 0.294,\n",
       "         'left': {'node': 'leaf', 'label': 1.0},\n",
       "         'right': {'node': 'leaf', 'label': 1}},\n",
       "        'right': {'node': 'leaf', 'label': 1}},\n",
       "       'right': {'node': 'leaf', 'label': 1}},\n",
       "      'right': {'node': 'leaf', 'label': 1}},\n",
       "     'right': {'node': 'leaf', 'label': 1}},\n",
       "    'right': {'node': 'leaf', 'label': 1}},\n",
       "   'right': {'node': 'split',\n",
       "    'feature_name': 0,\n",
       "    'value': 0.10300000000000001,\n",
       "    'left': {'node': 'split',\n",
       "     'feature_name': 2,\n",
       "     'value': 0.19699999999999998,\n",
       "     'left': {'node': 'split',\n",
       "      'feature_name': 4,\n",
       "      'value': 1.0,\n",
       "      'left': {'node': 'split',\n",
       "       'feature_name': 3,\n",
       "       'value': 1.0,\n",
       "       'left': {'node': 'split',\n",
       "        'feature_name': 0,\n",
       "        'value': 0.10300000000000001,\n",
       "        'left': {'node': 'split',\n",
       "         'feature_name': 1,\n",
       "         'value': 0.75,\n",
       "         'left': {'node': 'leaf', 'label': 1.0},\n",
       "         'right': {'node': 'leaf', 'label': 1}},\n",
       "        'right': {'node': 'leaf', 'label': 1}},\n",
       "       'right': {'node': 'leaf', 'label': 1}},\n",
       "      'right': {'node': 'leaf', 'label': 1}},\n",
       "     'right': {'node': 'leaf', 'label': -1.0}},\n",
       "    'right': {'node': 'split',\n",
       "     'feature_name': 6,\n",
       "     'value': 0.33299999999999996,\n",
       "     'left': {'node': 'split',\n",
       "      'feature_name': 1,\n",
       "      'value': 0.5,\n",
       "      'left': {'node': 'split',\n",
       "       'feature_name': 0,\n",
       "       'value': 0.11800000000000001,\n",
       "       'left': {'node': 'split',\n",
       "        'feature_name': 2,\n",
       "        'value': 0.0679,\n",
       "        'left': {'node': 'split',\n",
       "         'feature_name': 0,\n",
       "         'value': 0.11800000000000001,\n",
       "         'left': {'node': 'leaf', 'label': -1.0},\n",
       "         'right': {'node': 'leaf', 'label': 1}},\n",
       "        'right': {'node': 'split',\n",
       "         'feature_name': 7,\n",
       "         'value': 0.667,\n",
       "         'left': {'node': 'leaf', 'label': 1.0},\n",
       "         'right': {'node': 'leaf', 'label': -1.0}}},\n",
       "       'right': {'node': 'split',\n",
       "        'feature_name': 8,\n",
       "        'value': 0.321,\n",
       "        'left': {'node': 'split',\n",
       "         'feature_name': 0,\n",
       "         'value': 0.47100000000000003,\n",
       "         'left': {'node': 'leaf', 'label': 1.0},\n",
       "         'right': {'node': 'leaf', 'label': 1.0}},\n",
       "        'right': {'node': 'split',\n",
       "         'feature_name': 0,\n",
       "         'value': 0.735,\n",
       "         'left': {'node': 'leaf', 'label': -1.0},\n",
       "         'right': {'node': 'leaf', 'label': 1}}}},\n",
       "      'right': {'node': 'split',\n",
       "       'feature_name': 1,\n",
       "       'value': 0.75,\n",
       "       'left': {'node': 'split',\n",
       "        'feature_name': 2,\n",
       "        'value': 0.479,\n",
       "        'left': {'node': 'split',\n",
       "         'feature_name': 0,\n",
       "         'value': 0.8240000000000001,\n",
       "         'left': {'node': 'leaf', 'label': 1.0},\n",
       "         'right': {'node': 'leaf', 'label': 1}},\n",
       "        'right': {'node': 'leaf', 'label': 1}},\n",
       "       'right': {'node': 'leaf', 'label': 1}}},\n",
       "     'right': {'node': 'split',\n",
       "      'feature_name': 8,\n",
       "      'value': 0.732,\n",
       "      'left': {'node': 'split',\n",
       "       'feature_name': 7,\n",
       "       'value': 0.667,\n",
       "       'left': {'node': 'split',\n",
       "        'feature_name': 1,\n",
       "        'value': 0.25,\n",
       "        'left': {'node': 'split',\n",
       "         'feature_name': 4,\n",
       "         'value': 0.5,\n",
       "         'left': {'node': 'leaf', 'label': 1.0},\n",
       "         'right': {'node': 'leaf', 'label': -1.0}},\n",
       "        'right': {'node': 'split',\n",
       "         'feature_name': 2,\n",
       "         'value': 0.19699999999999998,\n",
       "         'left': {'node': 'leaf', 'label': 1.0},\n",
       "         'right': {'node': 'leaf', 'label': 1.0}}},\n",
       "       'right': {'node': 'split',\n",
       "        'feature_name': 10,\n",
       "        'value': 0.0,\n",
       "        'left': {'node': 'split',\n",
       "         'feature_name': 8,\n",
       "         'value': 0.0714,\n",
       "         'left': {'node': 'leaf', 'label': 1.0},\n",
       "         'right': {'node': 'leaf', 'label': -1.0}},\n",
       "        'right': {'node': 'split',\n",
       "         'feature_name': 8,\n",
       "         'value': 0.196,\n",
       "         'left': {'node': 'leaf', 'label': -1.0},\n",
       "         'right': {'node': 'leaf', 'label': 1.0}}}},\n",
       "      'right': {'node': 'split',\n",
       "       'feature_name': 4,\n",
       "       'value': 0.5,\n",
       "       'left': {'node': 'split',\n",
       "        'feature_name': 0,\n",
       "        'value': 0.20600000000000002,\n",
       "        'left': {'node': 'split',\n",
       "         'feature_name': 0,\n",
       "         'value': 0.20600000000000002,\n",
       "         'left': {'node': 'leaf', 'label': -1.0},\n",
       "         'right': {'node': 'leaf', 'label': 1}},\n",
       "        'right': {'node': 'leaf', 'label': 1}},\n",
       "       'right': {'node': 'leaf', 'label': 1.0}}}}}},\n",
       "  'right': {'node': 'split',\n",
       "   'feature_name': 3,\n",
       "   'value': 0.5,\n",
       "   'left': {'node': 'split',\n",
       "    'feature_name': 2,\n",
       "    'value': 0.11599999999999999,\n",
       "    'left': {'node': 'split',\n",
       "     'feature_name': 0,\n",
       "     'value': 0.20600000000000002,\n",
       "     'left': {'node': 'split',\n",
       "      'feature_name': 1,\n",
       "      'value': 1.0,\n",
       "      'left': {'node': 'split',\n",
       "       'feature_name': 1,\n",
       "       'value': 1.0,\n",
       "       'left': {'node': 'split',\n",
       "        'feature_name': 0,\n",
       "        'value': 0.20600000000000002,\n",
       "        'left': {'node': 'split',\n",
       "         'feature_name': 1,\n",
       "         'value': 1.0,\n",
       "         'left': {'node': 'leaf', 'label': 1.0},\n",
       "         'right': {'node': 'leaf', 'label': 1}},\n",
       "        'right': {'node': 'leaf', 'label': 1}},\n",
       "       'right': {'node': 'leaf', 'label': 1}},\n",
       "      'right': {'node': 'leaf', 'label': 1}},\n",
       "     'right': {'node': 'leaf', 'label': 1}},\n",
       "    'right': {'node': 'leaf', 'label': -1.0}},\n",
       "   'right': {'node': 'split',\n",
       "    'feature_name': 2,\n",
       "    'value': 0.0562,\n",
       "    'left': {'node': 'split',\n",
       "     'feature_name': 2,\n",
       "     'value': 0.0558,\n",
       "     'left': {'node': 'split',\n",
       "      'feature_name': 8,\n",
       "      'value': 0.23199999999999998,\n",
       "      'left': {'node': 'leaf', 'label': 1.0},\n",
       "      'right': {'node': 'split',\n",
       "       'feature_name': 0,\n",
       "       'value': 0.20600000000000002,\n",
       "       'left': {'node': 'split',\n",
       "        'feature_name': 0,\n",
       "        'value': 0.20600000000000002,\n",
       "        'left': {'node': 'split',\n",
       "         'feature_name': 0,\n",
       "         'value': 0.20600000000000002,\n",
       "         'left': {'node': 'leaf', 'label': 1.0},\n",
       "         'right': {'node': 'leaf', 'label': 1}},\n",
       "        'right': {'node': 'leaf', 'label': 1}},\n",
       "       'right': {'node': 'leaf', 'label': 1}}},\n",
       "     'right': {'node': 'leaf', 'label': -1.0}},\n",
       "    'right': {'node': 'split',\n",
       "     'feature_name': 1,\n",
       "     'value': 1.0,\n",
       "     'left': {'node': 'split',\n",
       "      'feature_name': 2,\n",
       "      'value': 0.7659999999999999,\n",
       "      'left': {'node': 'split',\n",
       "       'feature_name': 1,\n",
       "       'value': 1.0,\n",
       "       'left': {'node': 'split',\n",
       "        'feature_name': 0,\n",
       "        'value': 0.8240000000000001,\n",
       "        'left': {'node': 'split',\n",
       "         'feature_name': 0,\n",
       "         'value': 0.8240000000000001,\n",
       "         'left': {'node': 'leaf', 'label': 1.0},\n",
       "         'right': {'node': 'leaf', 'label': 1}},\n",
       "        'right': {'node': 'leaf', 'label': 1}},\n",
       "       'right': {'node': 'leaf', 'label': 1}},\n",
       "      'right': {'node': 'leaf', 'label': 1}},\n",
       "     'right': {'node': 'leaf', 'label': 1}}}}}}"
      ]
     },
     "execution_count": 2656,
     "metadata": {},
     "output_type": "execute_result"
    }
   ],
   "source": [
    "# fit the decision tree with training data\n",
    "tree = train(X_train, y_train,max_depth=10, min_samples_leaf=3, depth=1, max_feature=5)\n",
    "tree"
   ]
  },
  {
   "cell_type": "markdown",
   "metadata": {},
   "source": [
    "Now that we have our tree, it can be used to classify data by finding the region where a new point $x_{in}$ falls and  assign its predicted target value $\\hat{y}$ to be the majority value of the corresponding region. "
   ]
  },
  {
   "cell_type": "code",
   "execution_count": 2637,
   "metadata": {},
   "outputs": [],
   "source": [
    "def classify(tree, x):\n",
    "  \"\"\"\n",
    "  Classify a single sample with the fitted decision tree.\n",
    "  \"\"\"\n",
    "  if tree['node'] == 'leaf':\n",
    "    return tree['label']\n",
    "  else:\n",
    "    feature_name = tree['feature_name']\n",
    "    v = x[feature_name]\n",
    "    if (v <= tree['value']):\n",
    "        return classify(tree['left'],x)\n",
    "    else:\n",
    "        return classify(tree['right'],x)"
   ]
  },
  {
   "cell_type": "code",
   "execution_count": 2638,
   "metadata": {},
   "outputs": [],
   "source": [
    "def predict(X_train,y_train,X_test,max_depth=10, min_samples_leaf=3, depth=1, max_feature=8):\n",
    "    tree = train(X_train, y_train,max_depth, min_samples_leaf, depth, max_feature)\n",
    "    if len(X_test.shape)==1:\n",
    "        return classify(tree, X_test)\n",
    "    else:\n",
    "        results=[]\n",
    "        for i in range(X_test.shape[0]):\n",
    "            results.append(classify(tree, X_test[i]))\n",
    "        y_pred=np.array(results)\n",
    "        return y_pred,tree"
   ]
  },
  {
   "cell_type": "markdown",
   "metadata": {},
   "source": [
    "To evaluate the quality of the decision tree model we measure the accuracy, given by:\n",
    "$$\n",
    "accuracy = \\frac{TP+TN}{TP+TN+FP+FN} \n",
    "$$"
   ]
  },
  {
   "cell_type": "code",
   "execution_count": 2639,
   "metadata": {},
   "outputs": [],
   "source": [
    "def score(X_train,y_train,X_test,y_test,max_depth=10, min_samples_leaf=3, depth=1, max_feature=5):\n",
    "    y_pred = predict(X_train,y_train,X_test,max_depth=10, min_samples_leaf=3, depth=1, max_feature=5) \n",
    "    return np.float(sum(y_pred==y_test)) / float(len(y_test))"
   ]
  },
  {
   "cell_type": "markdown",
   "metadata": {},
   "source": [
    "#### Build random forest\n",
    "We will now build a forest following the next steps, mentioned in the notes:\n",
    "- step (1) bootstrapping: generate B random samples with replacement (equivalent to the B decision trees constituting the forest).\n",
    "- step (2) ensemble of decision trees models: train each sample on a subset of randomly chosen features / preidctors.\n",
    "- step (3) aggregating: to choose the region and its majority label y, we chose the class with the highest average of probability vector"
   ]
  },
  {
   "cell_type": "code",
   "execution_count": 2640,
   "metadata": {},
   "outputs": [],
   "source": [
    "def random_forest(X_train, y_train, X_test, max_nb_tree, max_depth=10, min_samples_leaf=3, depth=1, max_feature=8):\n",
    "    forest=[]\n",
    "    N,D=X_train.shape\n",
    "    y_pred_mean=np.zeros(X_test.shape[0])\n",
    "    for i in range(max_nb_tree):\n",
    "        X_b=np.zeros(X_train.shape)\n",
    "        y_b=np.zeros(y_train.shape)\n",
    "        for j in range(N):\n",
    "            idx=random.randint(0,N-1)\n",
    "            X_b[j]=X_train[idx]\n",
    "            y_b[j]=y_train[idx]\n",
    "        y_pred,tree=predict(X_b,y_b,X_test,max_depth, min_samples_leaf, depth, max_feature)\n",
    "        forest.append(tree)\n",
    "        y_pred_mean=y_pred_mean+y_pred\n",
    "    y_pred_mean[y_pred_mean<0]=-1\n",
    "    y_pred_mean[y_pred_mean>=0]=1\n",
    "    return y_pred_mean"
   ]
  },
  {
   "cell_type": "markdown",
   "metadata": {},
   "source": [
    "##### Hyperparameter tuning \n",
    "\n",
    "We are looking for 3 hyperparameters that have a major role in the definition of our random forest model:\n",
    "- number of decision trees: it limits the computational complexity and the repeatition of trees\n",
    "- the depth of trees: it avoids overfitting\n",
    "- the maximum number of descriptors randomly chosen at each split: it balances out the randomness of each tree inside the forest\n",
    "\n",
    "Therefore we need to proceed to a 3-D looking grid search. Indeed, we will create a list of 2D matrices and find the maximum accuracy over all possible model resulting from the combination of the 3 hyperparameters. "
   ]
  },
  {
   "cell_type": "code",
   "execution_count": 2641,
   "metadata": {},
   "outputs": [],
   "source": [
    "#3 hyperparameters\n",
    "def find_hyperparameters(X_train, y_train, X_test, y_test, nb_trees_terms, max_depth_terms, max_feat_terms):\n",
    "    scores=[]\n",
    "    scores_best=np.zeros(len(nb_trees_terms))\n",
    "    max_depth_best=np.zeros(len(nb_trees_terms))\n",
    "    max_feature_best=np.zeros(len(nb_trees_terms))\n",
    "    for i in range(len(nb_trees_terms)):\n",
    "        max_nb_tree=nb_trees_terms[i]\n",
    "        score=np.zeros((len(max_depth_terms),len(max_feat_terms)))\n",
    "        for j in range(len(max_depth_terms)):\n",
    "            max_depth=max_depth_terms[j]\n",
    "            for k in range(len(max_feat_terms)):\n",
    "                max_feature=max_feat_terms[k]\n",
    "                y_pred_rf=random_forest(X_train, y_train, X_test, max_nb_tree=max_nb_tree, max_depth=max_depth, min_samples_leaf=3, depth=1, max_feature=max_feature)\n",
    "                score[j:j+1,k:k+1]=np.float(sum(y_pred_rf==y_test)) / float(len(y_test))\n",
    "        max_ac=np.argmax(score)\n",
    "        index=[math.floor((max_ac)/len(max_feat_terms)),(max_ac)%len(max_feat_terms)] #this is the quotient and rest of max_ac/number of columns of accuracy\n",
    "        max_depth_best[i]=max_depth_terms[index[0]]\n",
    "        max_feature_best[i]=max_feat_terms[index[1]]\n",
    "        scores.append(score)\n",
    "        scores_best[i]=(score[index[0]:index[0]+1,index[1]:index[1]+1])\n",
    "    index_i=np.argmax(scores_best)\n",
    "    max_nb_tree_best=nb_trees_terms[index_i]\n",
    "    max_depth_best=max_depth_best[index_i]\n",
    "    max_feature_best=max_feature_best[index_i]\n",
    "    return scores_best,score,max_nb_tree_best,max_depth_best,max_feature_best"
   ]
  },
  {
   "cell_type": "markdown",
   "metadata": {},
   "source": [
    "#### 5-fold cross-validation\n",
    "\n",
    "To obtain our final random forest model, we use the 5-fold cross-validation. Similarly to the knn model, we cannot take the average of the 5 optimal hyperparameters since our hyperparameters (number of decision trees, depth of trees, and maximum number of descriptors randomly chosen at each split) are all discrete parameters. Therefore, we simply select the combination of the 3 hyperparameters that maximises the accuracy of the model with respect to the validation set."
   ]
  },
  {
   "cell_type": "code",
   "execution_count": 2642,
   "metadata": {},
   "outputs": [],
   "source": [
    "def split_5fold_class(X,y,T):\n",
    "    N, D = X.shape\n",
    "    t=math.floor(N/T)\n",
    "    X=X[:t*T]\n",
    "    y=y[:t*T]\n",
    "    X_fold=[]\n",
    "    y_fold=[]\n",
    "    X_fold_test=[]\n",
    "    y_fold_test=[]\n",
    "    for i in range(5):\n",
    "        X_fold.append(np.delete(X,np.array(range(t*i,t*(i+1))),0))\n",
    "        y_fold.append(np.delete(y,np.array(range(t*i,t*(i+1))),0))\n",
    "        X_fold_test.append(X[t*i:t*(i+1)])\n",
    "        y_fold_test.append(y[t*i:t*(i+1)])\n",
    "    return X_fold,X_fold_test,y_fold,y_fold_test"
   ]
  },
  {
   "cell_type": "code",
   "execution_count": 2643,
   "metadata": {},
   "outputs": [],
   "source": [
    "def find_model_rf(X_train, y_train, nb_tree_terms, max_depth_terms, max_feat_terms):\n",
    "    # run the model with 3 for loops to chose hyperparameters\n",
    "    score_mean_3=[]\n",
    "    scores_mean_best=np.zeros(len(nb_tree_terms))\n",
    "    max_depth_best=np.zeros(len(nb_tree_terms))\n",
    "    max_feature_best=np.zeros(len(nb_tree_terms))\n",
    "    \n",
    "    X_fold,X_fold_test,y_fold,y_fold_test=split_5fold_class(X_train,y_train,5)\n",
    "    for j in range(len(nb_tree_terms)):\n",
    "        #calculate the mean of the scores for max_depth and max_feat first\n",
    "        score_mean_3.append(np.zeros((len(max_depth_terms),len(max_feat_terms))))\n",
    "        for i in range(5):\n",
    "            score_best_i,score,max_nb_tree_best_i,max_depth_best_i,max_feature_best_i=find_hyperparameters(X_fold[i], y_fold[i], X_fold_test[i], y_fold_test[i], nb_tree_terms, max_depth_terms, max_feat_terms)\n",
    "            score_mean_3[j]=score[j]+score_mean_3[j] #add matrices\n",
    "        #find optimal max_depth and max_features for this nb_tree parameter\n",
    "        max_ac=np.argmax(score_mean_3[j]) \n",
    "        index=[math.floor((max_ac)/len(max_feat_terms)),(max_ac)%len(max_feat_terms)] #this is the quotient and rest of max_ac/number of columns of score matrix\n",
    "        max_depth_best[j]=max_depth_terms[index[0]]\n",
    "        max_feature_best[j]=max_feat_terms[index[1]]\n",
    "        scores_mean_best[j]=score_mean_3[j][index[0]:index[0]+1,index[1]:index[1]+1]\n",
    "    index_i=np.argmax(scores_mean_best)\n",
    "    max_nb_tree_best=nb_tree_terms[index_i]\n",
    "    max_depth_best_final=max_depth_best[index_i]\n",
    "    max_feature_best_final=max_feature_best[index_i]\n",
    "    score_best=scores_mean_best[index_i]/5\n",
    "    return score_best,score_mean_3,max_nb_tree_best,max_depth_best_final,max_feature_best_final"
   ]
  },
  {
   "cell_type": "markdown",
   "metadata": {},
   "source": [
    "We need to know that the random forest algorithm is very heavy computationally, due to the randomness of the trees and the randomness of the sample of data chosen to build the trees. Therefore, we will select the hyperparameters thanks to a previous study using the sklearn library to chose the optimal hyperparameters over a small range of values."
   ]
  },
  {
   "cell_type": "code",
   "execution_count": 2406,
   "metadata": {},
   "outputs": [],
   "source": [
    "nb_tree_terms=np.array([20,30])\n",
    "max_feat_terms=np.array([5,8])\n",
    "max_depth_terms=np.array([10,15])"
   ]
  },
  {
   "cell_type": "code",
   "execution_count": 2407,
   "metadata": {},
   "outputs": [],
   "source": [
    "score_best,score_mean_3,max_nb_tree_best,max_depth_best,max_feature_best=find_model_rf(X_train, y_train, nb_tree_terms, max_depth_terms, max_feat_terms)"
   ]
  },
  {
   "cell_type": "markdown",
   "metadata": {},
   "source": [
    "After, having trained our random forest model over all possible combinations of hyperparameters, we choose the random forest with the best mean of accuracies over the 5-folds: we set its hyperparameters to be the otpimal hyperparameters of our trained model."
   ]
  },
  {
   "cell_type": "code",
   "execution_count": 2650,
   "metadata": {},
   "outputs": [
    {
     "name": "stdout",
     "output_type": "stream",
     "text": [
      "Optimal maximum number of decision trees: 30\n",
      "Optimal depth of trees: 10.0\n",
      "Optimal maximum number of descriptors randomly chosen at each split: 5.0\n"
     ]
    }
   ],
   "source": [
    "print('Optimal maximum number of decision trees:', max_nb_tree_best)\n",
    "print('Optimal depth of trees:', max_depth_best)\n",
    "print('Optimal maximum number of descriptors randomly chosen at each split:',max_feature_best)"
   ]
  },
  {
   "cell_type": "markdown",
   "metadata": {},
   "source": [
    "#### 2.2.2"
   ]
  },
  {
   "cell_type": "markdown",
   "metadata": {},
   "source": [
    "With the obtained 3 hyperparameters, we will build our final in-sample random forest and out-of-sample random forest to test the model on training and test data. Again we expect better results with training data, on which the decision trees and leafs where trained."
   ]
  },
  {
   "cell_type": "code",
   "execution_count": 2644,
   "metadata": {},
   "outputs": [],
   "source": [
    "y_pred=random_forest(X_train, y_train, X_test, max_nb_tree=max_nb_tree_best, max_depth=max_depth_best, min_samples_leaf=3, depth=1, max_feature=max_feature_best)"
   ]
  },
  {
   "cell_type": "code",
   "execution_count": 2645,
   "metadata": {},
   "outputs": [],
   "source": [
    "y_pred_in=random_forest(X_train, y_train, X_train, max_nb_tree=max_nb_tree_best, max_depth=max_depth_best, min_samples_leaf=3, depth=1, max_feature=max_feature_best)"
   ]
  },
  {
   "cell_type": "code",
   "execution_count": 2646,
   "metadata": {},
   "outputs": [],
   "source": [
    "def confusion_matrix_rf(y_preds,y_test):\n",
    "    #when positive is 1 and negative is -1\n",
    "    TP=np.float(np.sum(y_preds.T+y_test==2)) #true positives\n",
    "    TN=np.float(np.sum(y_preds.T+y_test==-2)) #true negatives\n",
    "    FP=np.sum(y_preds==1)-TP #false positives = positives - true positives\n",
    "    FN=np.sum(y_preds==-1)-TN #false negatives = negatives - true negatives\n",
    "    return TP,TN,FP,FN"
   ]
  },
  {
   "cell_type": "code",
   "execution_count": 2647,
   "metadata": {},
   "outputs": [],
   "source": [
    "TP,TN,FP,FN = confusion_matrix_rf(y_pred_in,y_train)\n",
    "TP_test,TN_test,FP_test,FN_test = confusion_matrix_rf(y_pred,y_test)"
   ]
  },
  {
   "cell_type": "markdown",
   "metadata": {},
   "source": [
    "Predicting the results with the random forest with optimal hyperparametes, we get the following confusion matrix, with some of its relevant performance measures."
   ]
  },
  {
   "cell_type": "code",
   "execution_count": 2648,
   "metadata": {},
   "outputs": [
    {
     "name": "stdout",
     "output_type": "stream",
     "text": [
      "Confusion matrix for training data\n",
      "TP= 561.0 FP= 135.0\n",
      "FN= 2.0 TN= 102.0\n",
      "in-sample accuracy 0.82875\n",
      "in-sample f1-score 0.8911834789515488\n"
     ]
    }
   ],
   "source": [
    "print('Confusion matrix for training data')\n",
    "print('TP=', TP, 'FP=', FP)\n",
    "print('FN=', FN,'TN=',TN)\n",
    "print('in-sample accuracy', (TP+TN)/800)\n",
    "print('in-sample f1-score', (2*TP)/(2*TP + FP + FN))"
   ]
  },
  {
   "cell_type": "code",
   "execution_count": 2649,
   "metadata": {},
   "outputs": [
    {
     "name": "stdout",
     "output_type": "stream",
     "text": [
      "Confusion matrix for test data\n",
      "TP= 133.0 FP= 48.0\n",
      "FN= 4.0 TN= 15.0\n",
      "out-of-sample accuracy 0.74\n",
      "out-of-sample f1-score 0.8364779874213837\n"
     ]
    }
   ],
   "source": [
    "print('Confusion matrix for test data')\n",
    "print('TP=', TP_test, 'FP=', FP_test)\n",
    "print('FN=', FN_test,'TN=',TN_test)\n",
    "print('out-of-sample accuracy', (TP_test+TN_test)/200)\n",
    "print('out-of-sample f1-score', (2*TP_test)/(2*TP_test + FP_test + FN_test))"
   ]
  },
  {
   "cell_type": "markdown",
   "metadata": {},
   "source": [
    "From the confusion matrix we can compute a large amount of different measures evaluating the quality of our model. We have chosen to measure the accuracy of the models with training data and testing data because in my opinion it is the easiest to understand, and we have also added the F1 score. \n",
    "The F1 score interprets the different cost of False negative and False positive: \n",
    "$$\n",
    "F1-score = \\frac{2TP}{2TP + FP + FN} = 2 \\frac {precision \\cdot recall}{precision + recall}\n",
    "$$\n",
    "the F1 score formula helps balance between precision and recall: in other words, if the classes are unequally distributed (for example here we have more positive successful applications that negative rejected ones) and therefore the errors FP and FN are also unequally distributed. Indeed, for the random forest model, the dominant results in the confusion matrix are true positives. "
   ]
  },
  {
   "cell_type": "markdown",
   "metadata": {},
   "source": [
    "### 2.3 Support vector machines (SVMs)"
   ]
  },
  {
   "cell_type": "markdown",
   "metadata": {},
   "source": [
    "In this task, we will apply a linear and kernalised method of hard SVMs, used for binary classification of our data. For both SVM classifiers (linear and kernel), we will use stochastic gradient descent (SGD) for the optimisation of the hinge loss, as seen in the SVM coding task. "
   ]
  },
  {
   "cell_type": "markdown",
   "metadata": {},
   "source": [
    "Let's first explore the theory behind SVM, and more specially hard SVM.\n",
    "Support Vector Machines (SVM) is a geographic approach to classify data. Since we are dealing with a binary classification, we want to find the optimal hyperplane that separates the data into positive and negative y. The aim of SVM is to find a hyperparameter (with normal vector $\\boldsymbol w$), and with equation:\n",
    "$$\n",
    "\\boldsymbol x \\cdot \\boldsymbol w + b = 0 \n",
    "$$\n",
    "Now this equation has many solutions $\\boldsymbol w$ but SVM seeks for the optimal hyperparameter that maximises the margin (the distance separating the closest negative point to the hyperplane and the closest positive point to the hyperplane). We have seen in the lecture notes that the margin can be expressed as margin = $\\frac{2}{\\|\\boldsymbol w\\|}$. Therefore maximising the margin is equivalent to minimisig the weights norm $\\|w\\|$ and our optimization problem becomes:\n",
    "$$\n",
    "w^{*} = \\mathrm{argmin}_{w} \\frac{1}{2} \\| w \\|^2 \\quad \\mathrm{subject} \\quad \\mathrm{to} \\quad y_i (\\boldsymbol w \\cdot x_i + b) \\geq 1\n",
    "$$\n",
    "The condititons $y_i (\\boldsymbol w \\cdot x_i + b) \\geq 1$ where we arbitrarily set the margin to be 2. "
   ]
  },
  {
   "cell_type": "markdown",
   "metadata": {},
   "source": [
    "#### 2.3.1 Linear SVM"
   ]
  },
  {
   "cell_type": "markdown",
   "metadata": {},
   "source": [
    "When preparing our data, we add a column of ones to our X, that will act as the intercept b for the linear SVM (seen in the lecture notes). We also slightly change our column vector y such that the classification deals with values of 1 (for positive) and -1 (for negatives) as seen the lectures."
   ]
  },
  {
   "cell_type": "code",
   "execution_count": 2444,
   "metadata": {},
   "outputs": [],
   "source": [
    "X=pd.DataFrame(classification_train.drop(['11'],axis=1),)\n",
    "y=classification_train['11']\n",
    "X = standardise(X) #standardise data\n",
    "X.insert(loc=len(X.columns), column='intercept', value=1) # insert 1 in every row for intercept b\n",
    "X_train=X.values\n",
    "y_train=y.values\n",
    "\n",
    "X_test=pd.DataFrame(classification_test.drop(['11'],axis=1))\n",
    "y_test=classification_test['11']\n",
    "X_test = standardise(X_test) #standardise data\n",
    "X_test.insert(loc=len(X_test.columns), column='intercept', value=1) # insert 1 in every row for intercept b\n",
    "X_test=X_test.values\n",
    "y_test=y_test.values\n",
    "\n",
    "y_train[y_train == 0] = -1 #set negative to be -1 \n",
    "y_test[y_test == 0] = -1\n",
    "\n",
    "y_train = y_train.astype(float)\n",
    "y_test = y_test.astype(float)"
   ]
  },
  {
   "cell_type": "markdown",
   "metadata": {},
   "source": [
    "In the computational task about soft margin SVM, we have defined the hinge loss as\n",
    "$$\n",
    "\\mathcal{L}_{\\lambda} (\\boldsymbol w) = \\frac{1}{2} \\| \\boldsymbol w \\|^2 + \\frac{\\lambda}{n} \\sum_{i=1}^n \\max \\bigg( 0, 1-y_i (\\boldsymbol w \\cdot x_i + b) \\bigg) \\, .\n",
    "$$\n",
    "where $\\boldsymbol w$ is the vector of weights, $\\lambda$ the regularisation parameter, and $b$ the intercept which is included in our `X` as an additional column of $1$'s. \n",
    "In soft margin SVM, $\\lambda$ is the regularisation parameter, which controls the trade-off between achieving (1) a low error on the training data (with large $\\lambda$) and (2) minimising the norm of the weights (with small $\\lambda$). \n",
    "\n",
    "Now, the hard margin SVM is a specific case of the soft margin where we don't constrain the norm of the weights, ie. we simply seek to achieve a low error (1). Hard margin SVM can simply be interpreted as a soft margin SVM without taking into account the condition (2), ie. hard margin SVM can be approximated by a soft margin SVM with very large regularisation parameter.\n",
    "\n",
    "The function called `compute_cost` evaluates the hinge loss of the weights $w$ for the soft margin SVM and hard margin SVM (setting $\\lambda$ to be very large for example $\\lambda=10^{10}$)."
   ]
  },
  {
   "cell_type": "code",
   "execution_count": 2446,
   "metadata": {},
   "outputs": [],
   "source": [
    "def compute_cost(W, X, y, regul_strength=1e-10):\n",
    "  n = X.shape[0]\n",
    "  distances = 1 - y * (np.dot(X, W))  # dot product applies 1-yi(w.xi+b) to each yi and row vector xi\n",
    "  distances[distances < 0] = 0  # equivalent to max(0, distance): linear conditions\n",
    "  hinge = regul_strength * (np.sum(distances) / n) # apply regul_strength (=1 for hard margin SVM)\n",
    "\n",
    "  # calculate cost\n",
    "  cost = 1 / 2 * np.dot(W, W) + hinge\n",
    "  return cost"
   ]
  },
  {
   "cell_type": "markdown",
   "metadata": {},
   "source": [
    "Now, we need to compute the gradients of this hinge loss function with respect to w.\n",
    "$$\n",
    "\\frac{\\partial \\mathcal L _{\\lambda}}{\\partial \\boldsymbol w} = \\boldsymbol w + \\frac{\\lambda}{n} \\sum_{i=1}^n \\max \\bigg( 0, 1-y_i (x_i + b) \\bigg) \\,\n",
    "$$\n",
    "The function `calculate_cost_gradient` evaluates this gradient"
   ]
  },
  {
   "cell_type": "code",
   "execution_count": 2447,
   "metadata": {},
   "outputs": [],
   "source": [
    "# calculate gradient of cost\n",
    "def calculate_cost_gradient(W, X_batch, y_batch, regul_strength=1e-10):\n",
    "  # if only one example is passed\n",
    "  if type(y_batch) == np.float64:\n",
    "      y_batch = np.asarray([y_batch])\n",
    "      X_batch = np.asarray([X_batch])  # gives multidimensional array\n",
    "\n",
    "  distance = 1 - (y_batch * np.dot(X_batch, W))\n",
    "  dw = np.zeros(len(W))\n",
    "\n",
    "  for ind, d in enumerate(distance):\n",
    "      if max(0, d)==0:\n",
    "          di = W\n",
    "      else:\n",
    "          di = W - (regul_strength * y_batch[ind] * X_batch[ind])\n",
    "      dw += di\n",
    "\n",
    "  dw = dw/len(y_batch)  # add and divide by n\n",
    "  return dw"
   ]
  },
  {
   "cell_type": "markdown",
   "metadata": {},
   "source": [
    "Now the goal now is to apply convex optimisation problem to minimize the convex function $\\frac{1}{2} \\| w \\|^2$ to obtain:\n",
    "$$\n",
    "w^{*} = \\mathrm{argmin}_{w} \\frac{1}{2} \\| w \\|^2 \\quad \\mathrm{subject} \\quad \\mathrm{to} \\quad y_i (\\boldsymbol w \\cdot x_i + b) \\geq 1\n",
    "$$ as required. We can show this is a convex optimisation problem, since we are working in a convex set of high dimensional real numbers and the hinge loss function is a convex function: for all t \\in [0,1] and w_1,w_2, we have: \n",
    "$\\mathcal{L} (tw_1 +(1-t)w_2) \\leq t \\mathcal{L}(w_1) + (1-t) \\mathcal{L}(w_2)$.\n",
    "\n",
    "To apply this convex optimisation, we will use an iterative optimisation method called Stochastic Gradient Descent (SGD). In SGD, we use the hinge loss function and its gradient to update the weights iteratively with a given learning rate $\\alpha$. We know that the learning happens through updating the weights according to\n",
    "$$\n",
    "\\boldsymbol w = \\boldsymbol w - \\eta \\frac{\\partial \\mathcal L}{\\partial \\boldsymbol w}\n",
    "$$\n",
    "where $\\frac{\\partial \\mathcal L}{\\partial \\boldsymbol w}$ is the gradient of the hinge loss.\n",
    "We also implement a stop criterion that ends the learning as soon as the cost function has not changed more than a manually determined percentage. After numerous iterations and applying the constraint $y_i (\\boldsymbol w \\cdot x_i + b) \\geq 1$, we will obtain the required minimizing weights $w^{*}$."
   ]
  },
  {
   "cell_type": "code",
   "execution_count": 2448,
   "metadata": {},
   "outputs": [],
   "source": [
    "#stochastic gradient descent\n",
    "def sgd(X, y, max_iterations=2000, stop_criterion=0.01, learning_rate=1e-5, regul_strength=1e10, print_outcome=False):\n",
    "  # initialise zero weights\n",
    "  weights = np.zeros(X.shape[1])\n",
    "  nth = 0\n",
    "  # initialise starting cost as infinity\n",
    "  prev_cost = np.inf\n",
    "  \n",
    "  # stochastic gradient descent\n",
    "  for iteration in range(1, max_iterations):\n",
    "      # shuffle to prevent repeating update cycles\n",
    "      np.random.shuffle([X, y])\n",
    "      for ind, x in enumerate(X):\n",
    "          ascent = calculate_cost_gradient(weights, x, y[ind], regul_strength) #update weights in SGD\n",
    "          weights = weights - (learning_rate * ascent)\n",
    "\n",
    "      # convergence check on 2^n'th iteration\n",
    "      if iteration==2**nth or iteration==max_iterations-1:\n",
    "          cost = compute_cost(weights, X, y, regul_strength) #compute cost\n",
    "          if print_outcome:\n",
    "            print(\"Iteration is: {}, Cost is: {}\".format(iteration, cost))\n",
    "          if abs(prev_cost - cost) < stop_criterion * prev_cost: # apply stop criterion\n",
    "              return weights\n",
    "          \n",
    "          prev_cost = cost\n",
    "          nth = nth + 1\n",
    "            \n",
    "  return weights"
   ]
  },
  {
   "cell_type": "markdown",
   "metadata": {},
   "source": [
    "Now, applying these functions to our data and train a linear SVM model."
   ]
  },
  {
   "cell_type": "code",
   "execution_count": 2449,
   "metadata": {},
   "outputs": [
    {
     "name": "stdout",
     "output_type": "stream",
     "text": [
      "Iteration is: 1, Cost is: 9.999999999869586e-11\n",
      "Iteration is: 2, Cost is: 9.999999999843095e-11\n",
      "Training finished giving W bellow\n"
     ]
    },
    {
     "data": {
      "text/html": [
       "<div>\n",
       "<style scoped>\n",
       "    .dataframe tbody tr th:only-of-type {\n",
       "        vertical-align: middle;\n",
       "    }\n",
       "\n",
       "    .dataframe tbody tr th {\n",
       "        vertical-align: top;\n",
       "    }\n",
       "\n",
       "    .dataframe thead th {\n",
       "        text-align: right;\n",
       "    }\n",
       "</style>\n",
       "<table border=\"1\" class=\"dataframe\">\n",
       "  <thead>\n",
       "    <tr style=\"text-align: right;\">\n",
       "      <th></th>\n",
       "      <th>0</th>\n",
       "    </tr>\n",
       "  </thead>\n",
       "  <tbody>\n",
       "    <tr>\n",
       "      <th>0</th>\n",
       "      <td>-1.630079e-11</td>\n",
       "    </tr>\n",
       "    <tr>\n",
       "      <th>1</th>\n",
       "      <td>1.558189e-11</td>\n",
       "    </tr>\n",
       "    <tr>\n",
       "      <th>2</th>\n",
       "      <td>-1.136187e-11</td>\n",
       "    </tr>\n",
       "    <tr>\n",
       "      <th>3</th>\n",
       "      <td>1.215156e-11</td>\n",
       "    </tr>\n",
       "    <tr>\n",
       "      <th>4</th>\n",
       "      <td>6.678796e-12</td>\n",
       "    </tr>\n",
       "    <tr>\n",
       "      <th>5</th>\n",
       "      <td>-6.083736e-12</td>\n",
       "    </tr>\n",
       "    <tr>\n",
       "      <th>6</th>\n",
       "      <td>-4.239530e-13</td>\n",
       "    </tr>\n",
       "    <tr>\n",
       "      <th>7</th>\n",
       "      <td>-9.563009e-12</td>\n",
       "    </tr>\n",
       "    <tr>\n",
       "      <th>8</th>\n",
       "      <td>6.784050e-12</td>\n",
       "    </tr>\n",
       "    <tr>\n",
       "      <th>9</th>\n",
       "      <td>-2.943345e-12</td>\n",
       "    </tr>\n",
       "    <tr>\n",
       "      <th>10</th>\n",
       "      <td>3.016362e-12</td>\n",
       "    </tr>\n",
       "    <tr>\n",
       "      <th>11</th>\n",
       "      <td>3.237076e-11</td>\n",
       "    </tr>\n",
       "  </tbody>\n",
       "</table>\n",
       "</div>"
      ],
      "text/plain": [
       "               0\n",
       "0  -1.630079e-11\n",
       "1   1.558189e-11\n",
       "2  -1.136187e-11\n",
       "3   1.215156e-11\n",
       "4   6.678796e-12\n",
       "5  -6.083736e-12\n",
       "6  -4.239530e-13\n",
       "7  -9.563009e-12\n",
       "8   6.784050e-12\n",
       "9  -2.943345e-12\n",
       "10  3.016362e-12\n",
       "11  3.237076e-11"
      ]
     },
     "execution_count": 2449,
     "metadata": {},
     "output_type": "execute_result"
    }
   ],
   "source": [
    "# train the model\n",
    "W = sgd(X_train, y_train, max_iterations=2000, stop_criterion=0.01, learning_rate=1e-3, regul_strength=1e-10, print_outcome=True)\n",
    "print(\"Training finished giving W bellow\")\n",
    "pd.DataFrame(W)"
   ]
  },
  {
   "cell_type": "markdown",
   "metadata": {},
   "source": [
    "The optimal weigths $w^{*}$ are the coefficients of the hyperplane we are looking for to separate positive and negative y. It can be defined as:\n",
    "$$\n",
    "w^{*}= \\sum_{i=1}^{N} \\alpha_{i} y_{i} \\boldsymbol x_{i} = \\alpha_{+} \\boldsymbol x_{+} + \\alpha_{-} \\boldsymbol x_{+}\n",
    "$$ where the two points $\\boldsymbol x_{+}$ (giving the y positive closest to the hyperplane) and $\\boldsymbol x_{-}$ (giving the y negative closest to the hyperplane) are called the support vectors of the hyperplane we are looking for. This explains the name of our method.  "
   ]
  },
  {
   "cell_type": "markdown",
   "metadata": {},
   "source": [
    "Now that we have our optimal hyperplane with normal vector $\\boldsymbol w^{*}$, we classify y for every new point $x^{in}$ with the SVM classifier below:\n",
    "$$\n",
    "\\mathrm{if} \\quad \\boldsymbol x^{in} \\cdot \\boldsymbol w^{*} + b \\geq 0 \\quad \\mathrm{then} \\quad \\hat{y}= +1 \n",
    "$$\n",
    "$$\n",
    "\\mathrm{if} \\quad \\boldsymbol x^{in} \\cdot \\boldsymbol w^{*} + b < 0 \\quad \\mathrm{then} \\quad \\hat{y}= -1 \n",
    "$$ noting that the intercept b in included in $\\boldsymbol w^{*}$ since we have added a column of constants 1 to our data. "
   ]
  },
  {
   "cell_type": "code",
   "execution_count": 2450,
   "metadata": {},
   "outputs": [],
   "source": [
    "def predict(W,X):\n",
    "  y_preds = np.array([])\n",
    "  for i in range(X.shape[0]):\n",
    "    y_pred = np.sign(np.dot(X[i], W)) #apply the classifier\n",
    "    y_preds = np.append(y_preds, y_pred)\n",
    "  return y_preds"
   ]
  },
  {
   "cell_type": "markdown",
   "metadata": {},
   "source": [
    "To evaluate the accuracy of our obtained hyperplane with weights $w^{*}$ with both train and test set, we write the function `f1_score`, using the following formula:\n",
    "$$ \n",
    "F_{1}=\\frac{TP}{TP+\\frac{1}{2}(FP+FN)}\n",
    "$$\n",
    "where TP is true positive (y =1 and y_pred = 1 ie. y+y_pred =2), FP is false positive (y = -1 and y_pred = 1 ie. y+y_pred =0) and FN is false negative (y = 1 and y_pred = -1 ie. y+y_pred =0)."
   ]
  },
  {
   "cell_type": "code",
   "execution_count": 2451,
   "metadata": {},
   "outputs": [],
   "source": [
    "# f1_score \n",
    "def f1_score(y_preds, y):\n",
    "  TP=np.float(sum(y_preds+y==2)) #true positives\n",
    "  FP_FN=np.float(sum(y_preds+y==0)) #false negatives and false positives\n",
    "  f1_score=TP/(TP+1/2*FP_FN) #F1_score formula\n",
    "  return f1_score"
   ]
  },
  {
   "cell_type": "code",
   "execution_count": 2452,
   "metadata": {},
   "outputs": [],
   "source": [
    "#score\n",
    "def score(y_preds, y):\n",
    "  return np.float(sum(y_preds==y)) / float(len(y))"
   ]
  },
  {
   "cell_type": "code",
   "execution_count": 2453,
   "metadata": {},
   "outputs": [
    {
     "name": "stdout",
     "output_type": "stream",
     "text": [
      "score on train set: 0.735\n",
      "F1 score on train set: 0.825944170771757\n",
      "score on test set: 0.72\n",
      "F1 score on test set: 0.8095238095238095\n"
     ]
    }
   ],
   "source": [
    "y_pred=predict(W,X_train)\n",
    "y_pred_test=predict(W,X_test)\n",
    "print(\"score on train set: {}\".format(score(y_pred, y_train)))\n",
    "print(\"F1 score on train set: {}\".format(f1_score(y_pred, y_train)))\n",
    "print(\"score on test set: {}\".format(score(y_pred_test, y_test)))\n",
    "print(\"F1 score on test set: {}\".format(f1_score(y_pred_test, y_test)))"
   ]
  },
  {
   "cell_type": "markdown",
   "metadata": {},
   "source": [
    "These two ways of evaluating our binary classification model, give fairly good results compared to the previous binary classification models. We will however still try to improve it by introducing a kerneled Hard SVM model. "
   ]
  },
  {
   "cell_type": "markdown",
   "metadata": {},
   "source": [
    "#### Optimal Kernel SVM"
   ]
  },
  {
   "cell_type": "markdown",
   "metadata": {},
   "source": [
    "Now the previous algorithm works when trying to find a linear hyperplane. We are now going to generalise SVM with non-linear hyperplane to separate the data. For non-linear SVM, we will introduce a kernel $k(\\boldsymbol x, \\boldsymbol w)$:\n",
    "\n",
    "We start with redefining the hinge loss as\n",
    "$$\n",
    "\\mathcal L (\\boldsymbol w) = \\frac{1}{2} \\| \\boldsymbol w \\|^2 + \\frac{\\lambda}{n} \\sum_{i=1}^n \\max \\bigg( 0, 1-y_i (\\boldsymbol w \\cdot x_i + b) \\bigg)\n",
    "$$\n",
    "where $k(x,w)$ is the Radial Basis Function (RBF) kernel: \n",
    "$$\n",
    "k(x,w) = \\mathrm{exp} \\left( \\frac{ \\| \\boldsymbol x_i -w \\|^2}{\\alpha} \\right)\n",
    "$$\n",
    "\n",
    "This time, we do not add the column of ones to our data, because the kernel is not linear: we will add it in our function. "
   ]
  },
  {
   "cell_type": "code",
   "execution_count": 2454,
   "metadata": {},
   "outputs": [],
   "source": [
    "X=pd.DataFrame(classification_train.drop(['11'],axis=1),)\n",
    "y=classification_train['11']\n",
    "X = standardise(X)\n",
    "X_train=X.values\n",
    "y_train=y.values\n",
    "\n",
    "X_test=pd.DataFrame(classification_test.drop(['11'],axis=1))\n",
    "y_test=classification_test['11']\n",
    "X_test = standardise(X_test)\n",
    "X_test=X_test.values\n",
    "y_test=y_test.values\n",
    "\n",
    "y_train[y_train == 0] = -1 #set negative to be -1 \n",
    "y_test[y_test == 0] = -1\n",
    "\n",
    "y_train = y_train.astype(float)\n",
    "y_test = y_test.astype(float)"
   ]
  },
  {
   "cell_type": "markdown",
   "metadata": {},
   "source": [
    "Let's implement the radial basis function:"
   ]
  },
  {
   "cell_type": "code",
   "execution_count": 2481,
   "metadata": {},
   "outputs": [],
   "source": [
    "def rbf(X,W,alpha,b): #for one matrix\n",
    "    xw2=np.zeros(X.shape[0])\n",
    "    for i in range(X.shape[0]):\n",
    "        xw2[i]=np.dot((X[i]-W),(X[i]-W))\n",
    "    k=np.exp(-1/alpha*xw2)+b*np.ones(X.shape[0])\n",
    "    return k"
   ]
  },
  {
   "cell_type": "code",
   "execution_count": 2483,
   "metadata": {},
   "outputs": [],
   "source": [
    "def rbf2(X,W,alpha,b): #for one row\n",
    "    xw2=(X-W).T@(X-W)\n",
    "    k=np.exp(-1/alpha*xw2)+b\n",
    "    return k"
   ]
  },
  {
   "cell_type": "markdown",
   "metadata": {},
   "source": [
    "Now, let's modify the previous codes to get the cost and its gradients with the rbf function:\n",
    "$$\n",
    "\\mathcal L (\\boldsymbol w) = \\frac{1}{2} \\| \\boldsymbol w \\|^2 + \\frac{\\lambda}{n} \\sum_{i=1}^n \\max \\bigg( 0, 1-y_i (\\boldsymbol k(w,x_i) + b) \\bigg) \\, .\n",
    "$$"
   ]
  },
  {
   "cell_type": "code",
   "execution_count": 2485,
   "metadata": {},
   "outputs": [],
   "source": [
    "def compute_cost2(W, X, y, alpha, b, regul_strength=1e5):\n",
    "  n = X.shape[0]\n",
    "  distances = 1 - y * rbf(X,W,alpha,b) # using radial basis function\n",
    "  distances[distances < 0] = 0  # equivalent to max(0, distance)\n",
    "  hinge = regul_strength * (np.sum(distances) / n)  #from lecture notes\n",
    "\n",
    "  # calculate cost\n",
    "  cost = 1 / 2 * np.dot(W, W) + hinge\n",
    "  return cost"
   ]
  },
  {
   "cell_type": "markdown",
   "metadata": {},
   "source": [
    "Next, we need the gradients of this cost function with respect to w and b (since b is no longer included in w):\n",
    "$$\n",
    "\\frac{\\partial \\mathcal L _{\\lambda}}{\\partial \\boldsymbol w} = \\frac{\\lambda}{n} \\sum_{i=1}^n \\max \\bigg( 0,\\frac{2}{\\alpha} k(\\boldsymbol x_i, \\boldsymbol w) ( \\boldsymbol x_i - \\boldsymbol w) \\cdot \\boldsymbol y_i \\bigg) \\,\n",
    "$$\n",
    "\n",
    "$$\n",
    "\\frac{\\partial \\mathcal L _{\\lambda}}{\\partial \\boldsymbol b} = \\frac{\\lambda}{n} \\sum_{i=1}^n \\max \\bigg( 0, - \\boldsymbol y_i \\bigg) \\,\n",
    "$$"
   ]
  },
  {
   "cell_type": "code",
   "execution_count": 2497,
   "metadata": {},
   "outputs": [],
   "source": [
    "# calculate gradient of cost\n",
    "def calculate_cost_gradient2(W, X_batch, y_batch, alpha, b, regul_strength=1e10):\n",
    "  # if only one example is passed\n",
    "  \n",
    "  if type(y_batch) == np.float64:\n",
    "      y_batch = np.asarray([y_batch])\n",
    "      X_batch = np.asarray([X_batch])  # gives multidimensional array\n",
    "\n",
    "  distance = 1 - y_batch * rbf(X_batch,W,alpha,b) # using radial basis function\n",
    "\n",
    "  dw = np.zeros(len(W))\n",
    "\n",
    "  for ind, d in enumerate(distance):\n",
    "      if max(0, d)==0:\n",
    "          di = W\n",
    "      else:\n",
    "          di = W - 2/alpha*(regul_strength * rbf2(X_batch[ind],W,alpha,b)* y_batch[ind] * (X_batch[ind]-W)) #gradient of rbf\n",
    "      dw += di\n",
    "\n",
    "  dw = dw/len(y_batch)  # average\n",
    "  return dw"
   ]
  },
  {
   "cell_type": "markdown",
   "metadata": {},
   "source": [
    "Similarly to the linear Hard SVM, we apply the stochastic gradient descent to update the weights according to\n",
    "$$\n",
    "\\boldsymbol w = \\boldsymbol w - \\alpha \\frac{\\partial \\mathcal L _{\\alpha}}{\\partial \\boldsymbol w}\n",
    "$$\n",
    "\n",
    "where $\\frac{\\partial \\mathcal L}{\\partial \\boldsymbol w}$ is the gradient of the hinge loss we have computed in the previous cell."
   ]
  },
  {
   "cell_type": "code",
   "execution_count": 2499,
   "metadata": {},
   "outputs": [],
   "source": [
    "def sgd2(X, y, alpha, b, max_iterations=2000, stop_criterion=0.01, learning_rate=1e-5, regul_strength=1e10, print_outcome=False):\n",
    "  # initialise zero weights\n",
    "  weights = np.zeros(X.shape[1])\n",
    "  nth = 0\n",
    "  # initialise starting cost as infinity\n",
    "  prev_cost = np.inf\n",
    "  \n",
    "  # stochastic gradient descent\n",
    "  for iteration in range(1, max_iterations):\n",
    "      # shuffle to prevent repeating update cycles\n",
    "      np.random.shuffle([X, y])\n",
    "      for ind in range(X.shape[0]):\n",
    "          ascent = calculate_cost_gradient2(weights, X[ind], y[ind], alpha, b, regul_strength) #with rbf\n",
    "          weights = weights - (learning_rate * ascent)\n",
    "\n",
    "      # convergence check on 2^n'th iteration\n",
    "      if iteration==2**nth or iteration==max_iterations-1:\n",
    "          # compute cost\n",
    "          cost = compute_cost2(weights, X, y, alpha, b, regul_strength)  #with rbf\n",
    "          #if print_outcome:\n",
    "            #print(\"Iteration is: {}, Cost is: {}\".format(iteration, cost))\n",
    "          # stop criterion\n",
    "          if abs(prev_cost - cost) < stop_criterion * prev_cost:\n",
    "              return weights\n",
    "          \n",
    "          prev_cost = cost\n",
    "          nth += 1\n",
    "  \n",
    "  return weights"
   ]
  },
  {
   "cell_type": "markdown",
   "metadata": {},
   "source": [
    "Now, we can take these functions and train a linear SVM with our training data (and setting the parameters as follows)"
   ]
  },
  {
   "cell_type": "markdown",
   "metadata": {},
   "source": [
    "#### 5-fold cross validation\n",
    "\n",
    "Now we repeat the same procedure as above but do not only have one train-test split, but multiple in a 5-fold cross validation method. The aim is to again find the two hyperparameter $\\alpha$ and b using a grid search."
   ]
  },
  {
   "cell_type": "code",
   "execution_count": 2651,
   "metadata": {},
   "outputs": [],
   "source": [
    "# evaluates f1 score\n",
    "def score2(W, X, y,alpha,b):\n",
    "  y_preds = np.array([])\n",
    "  for i in range(X.shape[0]):\n",
    "    y_pred = np.sign(rbf2(X[i], W,alpha,b)) #this should be rbf\n",
    "    y_preds = np.append(y_preds, y_pred)\n",
    "  #print(y_preds)\n",
    "  TP=np.float(sum(y_preds+y==2)) #true positives\n",
    "  FP_FN=np.float(sum(y_preds+y==0)) #false negatives and false positives\n",
    "  f1_score=TP/(TP+1/2*FP_FN) #F1_score formula\n",
    "  return f1_score"
   ]
  },
  {
   "cell_type": "code",
   "execution_count": 2588,
   "metadata": {},
   "outputs": [],
   "source": [
    "def find_alpha(X_train,y_train,X_test,y_test,alpha_terms,b=1e-12):\n",
    "    accuracies_svm = np.zeros((len(alpha_terms),1))\n",
    "    for i in range(len(alpha_terms)):\n",
    "        alpha=alpha_terms[i]\n",
    "        W = sgd2(X_train, y_train, alpha, b, max_iterations=2000, stop_criterion=0.01, learning_rate=1e-3, regul_strength=1e10, print_outcome=True)\n",
    "        accuracies_svm[i:i+1]=score2(W, X_test, y_test, alpha,b) #calculate accuracy \n",
    "    opt_accuracy=np.argmax(accuracies_svm)\n",
    "    alpha_best=alpha_terms[opt_accuracy]\n",
    "    return accuracies_svm,alpha_best"
   ]
  },
  {
   "cell_type": "code",
   "execution_count": 2589,
   "metadata": {},
   "outputs": [],
   "source": [
    "#k-fold \n",
    "import math\n",
    "def split_5fold(X,y,T):\n",
    "    N, D = X.shape\n",
    "    t=math.floor(N/T)\n",
    "    X=X[:t*T,:]\n",
    "    y=y[:t*T]\n",
    "    X_fold=[]\n",
    "    y_fold=[]\n",
    "    X_fold_test=[]\n",
    "    y_fold_test=[]\n",
    "    for i in range(5):\n",
    "        X_fold.append(np.delete(X,np.array(range(t*i,t*(i+1))),0))\n",
    "        y_fold.append(np.delete(y,np.array(range(t*i,t*(i+1))),0))\n",
    "        X_fold_test.append(X[t*i:t*(i+1),:])\n",
    "        y_fold_test.append(y[t*i:t*(i+1)])\n",
    "    return X_fold,X_fold_test,y_fold,y_fold_test"
   ]
  },
  {
   "cell_type": "code",
   "execution_count": 2590,
   "metadata": {},
   "outputs": [],
   "source": [
    "X_fold,X_fold_test,y_fold,y_fold_test=split_5fold(X_train,y_train,5)\n",
    "alpha_terms=np.linspace(0.1,5,10)\n",
    "accuracies_svm,alpha_best=find_alpha(X_fold[1],y_fold[1],X_fold_test[1],y_fold_test[1],alpha_terms)"
   ]
  },
  {
   "cell_type": "code",
   "execution_count": 2652,
   "metadata": {},
   "outputs": [],
   "source": [
    "#grid search with 5 fold to choose alpha parameter \n",
    "import math\n",
    "#5-fold cross validation\n",
    "def cross_val_mean(X,y,alpha_terms):\n",
    "    nb=len(alpha_terms)\n",
    "    f1_score=np.zeros((nb,5))\n",
    "    alpha_best=np.zeros(5)\n",
    "    f1_score_mean=0\n",
    "    \n",
    "    X_fold,X_fold_test,y_fold,y_fold_test=split_5fold(X,y,5)\n",
    "    for i in range(5):\n",
    "        f1_score[:,i:i+1],alpha_best[i:i+1]=find_alpha(X_fold[i],y_fold[i],X_fold_test[i],y_fold_test[i],alpha_terms)\n",
    "        f1_score_mean=f1_score_mean+f1_score[:,i:i+1]\n",
    "    f1_score_mean=1/5*f1_score_mean\n",
    "    opt_accuracy=np.argmax(f1_score_mean)\n",
    "    alpha_best_mean=alpha_terms[opt_accuracy] #best parameter for all 5 folds mixed\n",
    "    return alpha_best_mean,alpha_best,f1_score_mean[opt_accuracy]"
   ]
  },
  {
   "cell_type": "code",
   "execution_count": 2593,
   "metadata": {},
   "outputs": [
    {
     "name": "stdout",
     "output_type": "stream",
     "text": [
      "Optimal hyperparameter alpha 0.1\n"
     ]
    }
   ],
   "source": [
    "alpha_best_mean,alpha_best,f1_score_mean=cross_val_mean(X_train,y_train,alpha_terms)\n",
    "print('Optimal hyperparameter alpha',alpha_best_mean)"
   ]
  },
  {
   "cell_type": "markdown",
   "metadata": {},
   "source": [
    "Now, we have chosen the hyperparameter b manually and set it equal to a very small value $b=10^{-12}$ to get the best predicted target values. "
   ]
  },
  {
   "cell_type": "code",
   "execution_count": 2594,
   "metadata": {},
   "outputs": [],
   "source": [
    "W2 = sgd2(X_train, y_train, alpha_best_mean, 1e-12, max_iterations=2000, stop_criterion=0.01, learning_rate=1e-3, regul_strength=1e10, print_outcome=True)"
   ]
  },
  {
   "cell_type": "code",
   "execution_count": 2595,
   "metadata": {},
   "outputs": [],
   "source": [
    "def predict2(W,X,alpha=alpha_best_mean, b=1e-12):\n",
    "  y_preds = np.array([])\n",
    "  for i in range(X.shape[0]):\n",
    "    y_pred = np.sign(rbf2(X[i], W, alpha,b)) #apply the classifier\n",
    "    y_preds = np.append(y_preds, y_pred)\n",
    "  return y_preds"
   ]
  },
  {
   "cell_type": "code",
   "execution_count": 2596,
   "metadata": {},
   "outputs": [
    {
     "name": "stdout",
     "output_type": "stream",
     "text": [
      "score on train set: 0.70375\n",
      "F1 score on train set: 0.826118855465884\n",
      "score on test set: 0.685\n",
      "F1 score on test set: 0.8130563798219584\n"
     ]
    }
   ],
   "source": [
    "y_pred2=predict2(W2,X_train)\n",
    "y_pred_test2=predict2(W2,X_test)\n",
    "print(\"score on train set: {}\".format(score(y_pred2, y_train)))\n",
    "print(\"F1 score on train set: {}\".format(f1_score(y_pred2, y_train)))\n",
    "print(\"score on test set: {}\".format(score(y_pred_test2, y_test)))\n",
    "print(\"F1 score on test set: {}\".format(f1_score(y_pred_test2, y_test)))"
   ]
  },
  {
   "cell_type": "markdown",
   "metadata": {},
   "source": [
    "Noticing that the quality of the SVM improves with RBF kernel (instead of linear), suggestes that again the data is more fitted to a split with respect to a higher dimensional hyperplane."
   ]
  },
  {
   "cell_type": "markdown",
   "metadata": {},
   "source": [
    "#### 2.3.2 ROC Analysis"
   ]
  },
  {
   "cell_type": "markdown",
   "metadata": {},
   "source": [
    "The ROC curve is the plot of the number of TPR (True Positive Rate) over the number of FPR (False Positive Rate) over a range of hyperparameter settings, with:\n",
    "$$\n",
    "\\mathrm{TPR} = \\frac{\\mathrm{TP}}{\\mathrm{TP}+\\mathrm{FN}}  \n",
    "$$\n",
    "\n",
    "$$\n",
    "\\mathrm{FPR} = \\frac{\\mathrm{FP}}{\\mathrm{FP}+\\mathrm{TN}}\n",
    "$$"
   ]
  },
  {
   "cell_type": "code",
   "execution_count": 2597,
   "metadata": {},
   "outputs": [],
   "source": [
    "def roc(X_train,y_train,X_test,y_test,alpha):\n",
    "    y_preds = np.array([])\n",
    "    W = sgd2(X_train, y_train, alpha, 1e-12, max_iterations=2000, stop_criterion=0.01, learning_rate=1e-3, regul_strength=1e3, print_outcome=True)\n",
    "    for i in range(X_test.shape[0]):\n",
    "        y_pred = np.sign(np.dot(X_test[i], W))\n",
    "        y_preds = np.append(y_preds, y_pred)\n",
    "    TP=np.float(sum(y_preds+y_test==2)) #true positives\n",
    "    TN=np.float(sum(y_preds+y_test==-2)) #true positives\n",
    "    FP=np.float(sum(y_preds==1))-TP #false positives = positives - true positives\n",
    "    FN=np.float(sum(y_preds==-1))-TN #false negatives = negatives - true negatives\n",
    "    TPR=TP/(TP+FN) #TPR formula\n",
    "    FPR=FP/(FP+TN) #FPR formula\n",
    "    return np.array([FPR,TPR])"
   ]
  },
  {
   "cell_type": "code",
   "execution_count": 2598,
   "metadata": {},
   "outputs": [],
   "source": [
    "def plot_rocs(alpha_terms):\n",
    "    rocs=np.zeros((len(alpha_terms),2))\n",
    "    for i in range(len(alpha_terms)):\n",
    "        alpha=alpha_terms[i]\n",
    "        rocs[i,:]=roc(X_train,y_train,X_test,y_test,alpha)\n",
    "    return rocs"
   ]
  },
  {
   "cell_type": "code",
   "execution_count": 2599,
   "metadata": {},
   "outputs": [
    {
     "data": {
      "image/png": "[encoded data removed]",
      "text/plain": [
       "<Figure size 720x504 with 1 Axes>"
      ]
     },
     "metadata": {
      "needs_background": "light"
     },
     "output_type": "display_data"
    }
   ],
   "source": [
    "rocs=plot_rocs(np.linspace(0.01,5,101))\n",
    "plt.figure(figsize=(10,7))\n",
    "plt.scatter(rocs[:,0],rocs[:,1])\n",
    "plt.plot([0,1],[0,1])\n",
    "plt.xlabel('FPR')\n",
    "plt.ylabel('TPR')\n",
    "plt.title('Scatter plot of ROC points', y=1.05, fontsize=18)\n",
    "plt.show()"
   ]
  },
  {
   "cell_type": "markdown",
   "metadata": {},
   "source": [
    "We can interpret the ROC (Receeriver operating characteristic) curve by saying that:\n",
    "- All the points seem to be centered, which means that the typer I errors and type II erors are equally distributed\n",
    "- Ideally we would have more points towards the point (0,1), which is the ROC point of the perfect fit\n",
    "- Ideally we would also plot the ROC curve by scaning the hyperparameter b, which would give more dispersed results\n",
    "- The centered cluster of ROC points shows that either the RBF kernel is not the most appropriate kernel for our data, or maybe some computational errors (like the tuning of b) have lead to this good quality model but not perfect."
   ]
  },
  {
   "cell_type": "markdown",
   "metadata": {},
   "source": [
    "#### Conclusion of the classification "
   ]
  },
  {
   "cell_type": "markdown",
   "metadata": {},
   "source": [
    "We can summarise the 3 methods of binary classification in the table below:\n",
    "\n",
    "| Regression models | in-sample accuracy | in-sample F1-score | out-of-sample accuracy | out-of-sample F1-score |\n",
    "| --- | --- | --- | --- | --- | \n",
    "| Logistic regression | 73.875 % | 82.742 % | 71.500 % | 80.546 % |\n",
    "| Random Forest | 82.875 % | 89.118 % | 74.000 % | 83.648 % |\n",
    "| Linear Hard SVM | 73.500 % | 72.000 % | 82.594 %| 80.952 % |\n",
    "| RBF Kerneled Hard SVM | 70.375% | 68.500 % | 82.612 % | 81.306 % |\n",
    "\n",
    "\n",
    "We chose to evaluate their quality with the F1 score because it takes into account how equally distributed are the errors of type I and II. We not only want to know how accurate our model is but also if it is not: towards what type of error will the model mispredict the target value. \n",
    "\n",
    "In conclusion, the best model for binary classification is the Random Forest model. To construct the model from scratch is very computationally heavy, but it is the binary classification model returning the best returning out-of-sample F1 score, meaning that it has the least amount of errors, and has equally distributed errors of type I and II. In the case of our data predicting if the credit applications are successful or not, we are probably more interested in the successful applications (True positives) because they will have a bigger impact on the bank if badly predicted. Therefore, even if the Hard SVM give good accuracies as well, using the random forest would be the optimal choice of model. "
   ]
  },
  {
   "cell_type": "markdown",
   "metadata": {},
   "source": [
    "### Conclusion"
   ]
  },
  {
   "cell_type": "markdown",
   "metadata": {},
   "source": [
    "To conclude on the regression and binary classification tasks, it was very interesting to write the code of the different methods from scratch. It was very benefitial to understand not only how the algorithm and methods work in application but also give a better insight of how to improve the data, the model and the results. "
   ]
  },
  {
   "cell_type": "markdown",
   "metadata": {},
   "source": [
    "### References"
   ]
  },
  {
   "cell_type": "markdown",
   "metadata": {},
   "source": [
    "- Methods for Data Science Coding tasks, by Felix Laumann Imperial College London\n",
    "- Methods for Data Science Lecture notes, by Mauricio, Imperial College London\n",
    "- Stack exchange post: 'What is the influence of C in SVM with linear kernal' https://stats.stackexchange.com/questions/31066/what-is-the-influence-of-c-in-svms-with-linear-kernel\n",
    "- Post @54 on Piazza, by Igor Alejandro Siverone, Imperial College London\n",
    "- Linear regression models: http://people.duke.edu/~rnau/testing.htm#normality"
   ]
  },
  {
   "cell_type": "code",
   "execution_count": null,
   "metadata": {},
   "outputs": [],
   "source": []
  }
 ],
 "metadata": {
  "kernelspec": {
   "display_name": "Python 3",
   "language": "python",
   "name": "python3"
  },
  "language_info": {
   "codemirror_mode": {
    "name": "ipython",
    "version": 3
   },
   "file_extension": ".py",
   "mimetype": "text/x-python",
   "name": "python",
   "nbconvert_exporter": "python",
   "pygments_lexer": "ipython3",
   "version": "3.7.1"
  }
 },
 "nbformat": 4,
 "nbformat_minor": 2
}
